{
 "cells": [
  {
   "cell_type": "code",
   "execution_count": 2,
   "metadata": {},
   "outputs": [
    {
     "data": {
      "text/html": [
       "<img src=\"./img/chapter-2-不-可-变序列的差异.jpg\" width=\"600\" height=\"200\"/>"
      ],
      "text/plain": [
       "<IPython.core.display.Image object>"
      ]
     },
     "execution_count": 2,
     "metadata": {},
     "output_type": "execute_result"
    }
   ],
   "source": [
    "from IPython.display import Image\n",
    "from IPython.core.display import HTML \n",
    "Image(url= \"./img/chapter-2-不-可-变序列的差异.jpg\", width=600, height=200)"
   ]
  },
  {
   "cell_type": "code",
   "execution_count": null,
   "metadata": {},
   "outputs": [],
   "source": []
  },
  {
   "cell_type": "code",
   "execution_count": 16,
   "metadata": {},
   "outputs": [
    {
     "name": "stdout",
     "output_type": "stream",
     "text": [
      "[97, 98, 99, 100, 101, 102, 33, 64, 35, 36, 37, 94, 38, 42, 40, 9651, 9651, 9651, 9661, 9671, 9633, 9665, 9828, 9824, 9745, 9789, 9602, 9602, 9611, 100, 115, 97, 102, 100, 115, 97, 102, 115, 100, 97, 102, 49, 49, 50, 51, 9661, 9671, 9633, 9665, 9828, 9824, 9745, 9789, 9602, 9602, 41]\n"
     ]
    }
   ],
   "source": [
    "symbols = 'abcdef!@#$%^&*(△△△▽◇□◁♤♠☑☽▂▂▋dsafdsafsdaf1123▽◇□◁♤♠☑☽▂▂)'\n",
    "codes = [] \n",
    "for symbol in symbols:\n",
    "    codes.append(ord(symbol))\n",
    "    \n",
    "print(codes)"
   ]
  },
  {
   "cell_type": "code",
   "execution_count": null,
   "metadata": {},
   "outputs": [],
   "source": []
  },
  {
   "cell_type": "code",
   "execution_count": 20,
   "metadata": {},
   "outputs": [
    {
     "name": "stdout",
     "output_type": "stream",
     "text": [
      "[197, 198, 199, 200, 201, 202, 133, 164, 135, 136, 137, 194, 138, 142, 140, 9751, 9751, 9751, 9761, 9771, 9733, 9765, 9928, 9924, 9845, 9889, 9702, 9702, 9711, 200, 215, 197, 202, 200, 215, 197, 202, 215, 200, 197, 202, 149, 149, 150, 151, 9761, 9771, 9733, 9765, 9928, 9924, 9845, 9889, 9702, 9702, 141]\n",
      "['Å', 'Æ', 'Ç', 'È', 'É', 'Ê', '\\x85', '¤', '\\x87', '\\x88', '\\x89', 'Â', '\\x8a', '\\x8e', '\\x8c', '☗', '☗', '☗', '☡', '☫', '★', '☥', '⛈', '⛄', '♵', '⚡', '◦', '◦', '◯', 'È', '×', 'Å', 'Ê', 'È', '×', 'Å', 'Ê', '×', 'È', 'Å', 'Ê', '\\x95', '\\x95', '\\x96', '\\x97', '☡', '☫', '★', '☥', '⛈', '⛄', '♵', '⚡', '◦', '◦', '\\x8d']\n"
     ]
    }
   ],
   "source": [
    "codes=[ ord(symbol) + 100 for symbol in symbols]\n",
    "print(codes)\n",
    "\n",
    "charstmp = [chr(code) for code in codes]\n",
    "print(charstmp)"
   ]
  },
  {
   "cell_type": "markdown",
   "metadata": {},
   "source": [
    "# map函数"
   ]
  },
  {
   "cell_type": "code",
   "execution_count": 51,
   "metadata": {},
   "outputs": [
    {
     "name": "stdout",
     "output_type": "stream",
     "text": [
      "<map object at 0x019BA830>\n",
      "9\n",
      "[]\n",
      "9\n",
      "\n",
      "1 - 4 - 9 - 16 - 25 - 36 - 49 - 64 - 81 - \n",
      "<class 'map'>\n",
      "97 98 99 100 101 102 33 64 35 36 37 94 38 42 40 9651 9651 9651 9661 9671 9633 9665 9828 9824 9745 9789 9602 9602 9611 100 115 97 102 100 115 97 102 115 100 97 102 49 49 50 51 9661 9671 9633 9665 9828 9824 9745 9789 9602 9602 41 \n",
      "\n",
      "[101, 102, 9651, 9651, 9651, 9661, 9671, 9633, 9665, 9828, 9824, 9745, 9789, 9602, 9602, 9611, 115, 102, 115, 102, 115, 102, 9661, 9671, 9633, 9665, 9828, 9824, 9745, 9789, 9602, 9602]\n",
      "[9651, 9651, 9651, 9661, 9671, 9633, 9665, 9828, 9824, 9745, 9789, 9602, 9602, 9611, 9661, 9671, 9633, 9665, 9828, 9824, 9745, 9789, 9602, 9602]\n"
     ]
    }
   ],
   "source": [
    "def f(x):\n",
    "    return x*x\n",
    "a = map(f, [1, 2, 3, 4, 5, 6, 7, 8, 9])\n",
    "print(a)\n",
    "b = list(a)\n",
    "print(len(b))\n",
    "print(list(a))\n",
    "print(len(b))\n",
    "# a在上面已经遍历完了，再遍历a，结果为空\n",
    "# print(\"a-size:\",sizeof(a))\n",
    "for x in a:\n",
    "    print(x,end=\" * \")\n",
    "print()\n",
    "for x in map(f, [1, 2, 3, 4, 5, 6, 7, 8, 9]):\n",
    "    print(x,end=\" - \")\n",
    "print()\n",
    "\n",
    "\n",
    "\n",
    "\n",
    "tmplist = map(ord,symbols)\n",
    "print(type(tmplist))\n",
    "for a in tmplist:\n",
    "    print(a,end=\" \")\n",
    "    \n",
    "print()\n",
    "print()\n",
    "\n",
    "\n",
    "beyond_ascii = [ord(s) for s in symbols if ord(s) > 100]\n",
    "print(beyond_ascii)\n",
    "\n",
    "\n",
    "beyond_ascii = list(filter(lambda c: c>127  , map(ord, symbols)))\n",
    "print(beyond_ascii)"
   ]
  },
  {
   "cell_type": "code",
   "execution_count": null,
   "metadata": {},
   "outputs": [],
   "source": []
  },
  {
   "cell_type": "code",
   "execution_count": null,
   "metadata": {},
   "outputs": [],
   "source": [
    "colors=['black','white']\n",
    "sizes=['S','M','L']\n",
    "\n",
    "tshirts = [(color,size) for color in colors\n",
    "                        for size in sizes]\n",
    "\n",
    "print(tshirts)"
   ]
  },
  {
   "cell_type": "code",
   "execution_count": null,
   "metadata": {},
   "outputs": [],
   "source": []
  },
  {
   "cell_type": "markdown",
   "metadata": {},
   "source": [
    "# 生成器表达式"
   ]
  },
  {
   "cell_type": "code",
   "execution_count": 55,
   "metadata": {},
   "outputs": [
    {
     "name": "stdout",
     "output_type": "stream",
     "text": [
      "(97, 98, 99, 100, 101, 102)\n"
     ]
    }
   ],
   "source": [
    "symbols = 'abcdef'\n",
    "print(tuple(ord(symbol) for symbol in symbols))"
   ]
  },
  {
   "cell_type": "code",
   "execution_count": 68,
   "metadata": {},
   "outputs": [
    {
     "name": "stdout",
     "output_type": "stream",
     "text": [
      "array('I', [97, 98, 99, 100, 101, 102])\n",
      "6\n",
      "97\n",
      "97\n",
      "98\n",
      "99\n",
      "100\n",
      "101\n",
      "102\n"
     ]
    }
   ],
   "source": [
    "import array\n",
    "a=array.array('I', (ord(symbol) for symbol in symbols))\n",
    "print(a)\n",
    "print(len(a))\n",
    "print(a[0])\n",
    "for obj in a:\n",
    "    print(obj)"
   ]
  },
  {
   "cell_type": "code",
   "execution_count": 70,
   "metadata": {},
   "outputs": [
    {
     "name": "stdout",
     "output_type": "stream",
     "text": [
      "black S\n",
      "black M\n",
      "black L\n",
      "white S\n",
      "white M\n",
      "white L\n"
     ]
    }
   ],
   "source": [
    "colors=['black','white']\n",
    "sizes=['S','M','L']\n",
    "\n",
    "for tshirt in ( '%s %s' % (c, s) for c in colors for s in sizes):\n",
    "    print(tshirt)"
   ]
  },
  {
   "cell_type": "code",
   "execution_count": null,
   "metadata": {},
   "outputs": [],
   "source": []
  },
  {
   "cell_type": "markdown",
   "metadata": {},
   "source": [
    "# 元组"
   ]
  },
  {
   "cell_type": "code",
   "execution_count": 76,
   "metadata": {},
   "outputs": [
    {
     "name": "stdout",
     "output_type": "stream",
     "text": [
      "BRA/CE342567\n",
      "位置：BRA  航班：CE342567\n",
      "位置：BRA  航班：CE342567\n",
      "ESP/XDA205856\n",
      "位置：ESP  航班：XDA205856\n",
      "位置：ESP  航班：XDA205856\n",
      "USA/31195855\n",
      "位置：USA  航班：31195855\n",
      "位置：USA  航班：31195855\n"
     ]
    }
   ],
   "source": [
    "lax_coordinates = (33.9425, -118.408056)\n",
    "city, year, pop, chg, area = ('Tokyo', 2003, 32450, 0.66, 8014)\n",
    "traveler_ids = [('USA', '31195855'),('BRA', 'CE342567'),('ESP', 'XDA205856')]\n",
    "\n",
    "for passport in sorted(traveler_ids):\n",
    "    print(\"%s/%s\" % passport)\n",
    "    print(\"位置：{}  航班：{}\".format(passport[0],passport[1]))\n",
    "    print(\"位置：{position}  航班：{float}\".format(position=passport[0],float=passport[1]))"
   ]
  },
  {
   "cell_type": "code",
   "execution_count": null,
   "metadata": {},
   "outputs": [],
   "source": []
  },
  {
   "cell_type": "code",
   "execution_count": 77,
   "metadata": {},
   "outputs": [
    {
     "data": {
      "text/plain": [
       "(2, 4)"
      ]
     },
     "execution_count": 77,
     "metadata": {},
     "output_type": "execute_result"
    }
   ],
   "source": [
    "divmod(20,8)"
   ]
  },
  {
   "cell_type": "code",
   "execution_count": 80,
   "metadata": {},
   "outputs": [
    {
     "data": {
      "text/plain": [
       "(2, 4)"
      ]
     },
     "execution_count": 80,
     "metadata": {},
     "output_type": "execute_result"
    }
   ],
   "source": [
    "t = (20,8)\n",
    "divmod(*t)"
   ]
  },
  {
   "cell_type": "code",
   "execution_count": 83,
   "metadata": {},
   "outputs": [
    {
     "name": "stdout",
     "output_type": "stream",
     "text": [
      "('/a/b/c', 'd.pub')\n",
      "d.pub\n"
     ]
    }
   ],
   "source": [
    "import os\n",
    "xxx = os.path.split('/a/b/c/d.pub')\n",
    "print(xxx)\n",
    "_, a = os.path.split('/a/b/c/d.pub')\n",
    "print(a)\n"
   ]
  },
  {
   "cell_type": "code",
   "execution_count": null,
   "metadata": {},
   "outputs": [],
   "source": []
  },
  {
   "cell_type": "code",
   "execution_count": 85,
   "metadata": {},
   "outputs": [
    {
     "name": "stdout",
     "output_type": "stream",
     "text": [
      "0\n",
      "1\n",
      "[2, 3, 4]\n"
     ]
    }
   ],
   "source": [
    "a,b, *rest = range(5)\n",
    "print(a)\n",
    "print(b)\n",
    "print(rest)"
   ]
  },
  {
   "cell_type": "code",
   "execution_count": 86,
   "metadata": {},
   "outputs": [
    {
     "data": {
      "text/plain": [
       "(0, [1, 2], 3, 4)"
      ]
     },
     "execution_count": 86,
     "metadata": {},
     "output_type": "execute_result"
    }
   ],
   "source": [
    "a, *body, c,d =range(5)\n",
    "a,body,c,d"
   ]
  },
  {
   "cell_type": "code",
   "execution_count": null,
   "metadata": {},
   "outputs": [],
   "source": []
  },
  {
   "cell_type": "markdown",
   "metadata": {},
   "source": [
    "# 具名元组"
   ]
  },
  {
   "cell_type": "code",
   "execution_count": 105,
   "metadata": {},
   "outputs": [
    {
     "name": "stdout",
     "output_type": "stream",
     "text": [
      "Cityxxx(name='Tokyo', country='JP', population=356.933, coordinates=(11, 22))\n",
      "('name', 'country', 'population', 'coordinates')\n",
      "Cityxxx(name, country, population, coordinates)\n",
      "Help on function namedtuple in module collections:\n",
      "\n",
      "namedtuple(typename, field_names, *, verbose=False, rename=False, module=None)\n",
      "    Returns a new subclass of tuple with named fields.\n",
      "    \n",
      "    >>> Point = namedtuple('Point', ['x', 'y'])\n",
      "    >>> Point.__doc__                   # docstring for the new class\n",
      "    'Point(x, y)'\n",
      "    >>> p = Point(11, y=22)             # instantiate with positional args or keywords\n",
      "    >>> p[0] + p[1]                     # indexable like a plain tuple\n",
      "    33\n",
      "    >>> x, y = p                        # unpack like a regular tuple\n",
      "    >>> x, y\n",
      "    (11, 22)\n",
      "    >>> p.x + p.y                       # fields also accessible by name\n",
      "    33\n",
      "    >>> d = p._asdict()                 # convert to a dictionary\n",
      "    >>> d['x']\n",
      "    11\n",
      "    >>> Point(**d)                      # convert from a dictionary\n",
      "    Point(x=11, y=22)\n",
      "    >>> p._replace(x=100)               # _replace() is like str.replace() but targets named fields\n",
      "    Point(x=100, y=22)\n",
      "\n",
      "None\n",
      "name Tokyo\n",
      "country JP\n",
      "population 356.933\n",
      "coordinates (11, 22)\n",
      "\n",
      "name Tokyo111\n",
      "country JP111\n",
      "population 356.933\n",
      "coordinates (11, 22)\n"
     ]
    }
   ],
   "source": [
    "from collections import namedtuple\n",
    "City = namedtuple('Cityxxx','name country population coordinates')\n",
    "tokyo = City('Tokyo','JP', 356.933, (11, 22))\n",
    "print(tokyo)\n",
    "print(City._fields)\n",
    "print(City.__doc__)\n",
    "print(help(namedtuple))\n",
    "\n",
    "for key,value in tokyo._asdict().items():\n",
    "    print(key,value)\n",
    "    \n",
    "print()\n",
    "    \n",
    "detail_data =  'Tokyo111','JP111', 356.933, (11, 22)\n",
    "tokyo111 = City._make(detail_data) # _make()接收一个可迭代对象\n",
    "for key,value in tokyo111._asdict().items():\n",
    "    print(key,value)"
   ]
  },
  {
   "cell_type": "code",
   "execution_count": null,
   "metadata": {},
   "outputs": [],
   "source": []
  },
  {
   "cell_type": "markdown",
   "metadata": {},
   "source": [
    "# 切片"
   ]
  },
  {
   "cell_type": "code",
   "execution_count": 107,
   "metadata": {},
   "outputs": [
    {
     "name": "stdout",
     "output_type": "stream",
     "text": [
      "[10, 20]\n",
      "[30, 40, 50, 60]\n"
     ]
    }
   ],
   "source": [
    "l = [10, 20, 30, 40, 50, 60]\n",
    "print(l[:2])\n",
    "print(l[2:])\n"
   ]
  },
  {
   "cell_type": "code",
   "execution_count": 131,
   "metadata": {},
   "outputs": [
    {
     "name": "stdout",
     "output_type": "stream",
     "text": [
      "0369 9876543210 97531\n",
      "4321\n",
      "5432\n",
      "68\n",
      "\n",
      "97\n",
      "\n"
     ]
    }
   ],
   "source": [
    "s = '0123456789'\n",
    "print(s[::3],s[::-1],s[::-2])\n",
    "print(s[4:0:-1])\n",
    "print(s[5:1:-1])\n",
    "# A:B:C 首先锁定索引区间A:B，然后看C的正负关系。如果C为正，从左往右数到B-1位结束，如果C为负，从右往左数到A-1结束\n",
    "# 例如4:0:-1,区间下标为0-4，由于step=-1,因此要从下标为4的位置往左，最后输出就是4321\n",
    "# 当C为正的时候，A:B一定是从左到右的序列\n",
    "# 当C为负的时候，A:B一定还是从右到左的序列\n",
    "print(s[-4:-1:2])\n",
    "print(s[-1:-4:2])  # 无值\n",
    "\n",
    "print(s[-1:-4:-2]) \n",
    "print(s[-4:-1:-2]) # 无值\n",
    "\n"
   ]
  },
  {
   "cell_type": "code",
   "execution_count": 135,
   "metadata": {},
   "outputs": [
    {
     "name": "stdout",
     "output_type": "stream",
     "text": [
      "1909\n",
      "aaaaa     \n",
      "909   aaa\n"
     ]
    }
   ],
   "source": [
    "invoice = \"1909   aaaaa     \"\n",
    "a = slice(0,4)\n",
    "b = slice(7,17)\n",
    "c = slice(1,10)\n",
    "\n",
    "print(invoice[a])\n",
    "print(invoice[b])\n",
    "print(invoice[c])"
   ]
  },
  {
   "cell_type": "markdown",
   "metadata": {},
   "source": [
    "## 给切片赋值"
   ]
  },
  {
   "cell_type": "code",
   "execution_count": 148,
   "metadata": {},
   "outputs": [
    {
     "name": "stdout",
     "output_type": "stream",
     "text": [
      "[0, 1, 2, 3, 4, 5, 6, 7, 8, 9]\n",
      "[0, 1, 20, 30, 5, 6, 7, 8, 9]\n",
      "[0, 1, 20, 30, 5, 8, 9]\n",
      "[0, 1, 20, 11, 5, 22, 9]\n",
      "[0, 1, 111, 22, 9]\n"
     ]
    }
   ],
   "source": [
    "l = list(range(10))\n",
    "print(l)\n",
    "l[2:5] =[20,30]\n",
    "print(l)\n",
    "del l[5:7]\n",
    "print(l)\n",
    "l[3::2] =[11,22]\n",
    "print(l)\n",
    "# 如果赋值的对象是一个切片， 那么赋值语句的右侧必须是个可迭代对象。 即便只有单独一个值， 也要把它转换成可迭代的序列。\n",
    "l[2:5] = [111]\n",
    "print(l)\n",
    "\n"
   ]
  },
  {
   "cell_type": "code",
   "execution_count": null,
   "metadata": {},
   "outputs": [],
   "source": []
  },
  {
   "cell_type": "code",
   "execution_count": 155,
   "metadata": {},
   "outputs": [
    {
     "name": "stdout",
     "output_type": "stream",
     "text": [
      "[['', '', ''], ['', '', ''], ['', '', '']]\n",
      "[['', '', ''], ['', '', 'XXX'], ['', '', '']]\n",
      "[['_', '_', '_'], ['_', '_', '_'], ['_', '_', '_']]\n",
      "[['_', '_', '000'], ['_', '_', '000'], ['_', '_', '000']]\n",
      "[['-', '-', '-'], ['-', '-', '-'], ['-', '-', '-']]\n",
      "[['-', '-', '-'], ['-', '-', 'YYY'], ['-', '-', '-']]\n"
     ]
    }
   ],
   "source": [
    "# 引用对象的复制\n",
    "board = [[''] * 3 for i in range(3)]\n",
    "print(board)\n",
    "board[1][2] ='XXX'\n",
    "print(board)\n",
    "\n",
    "weird_board = [['_'] * 3] *3\n",
    "print(weird_board)\n",
    "weird_board[1][2] = '000000'\n",
    "print(weird_board)\n",
    "\n",
    "\n",
    "board = []\n",
    "for i in range(3):\n",
    "    row = ['-'] * 3\n",
    "    board.append(row)\n",
    "print(board)\n",
    "board[1][2] = 'YYY'\n",
    "print(board)\n"
   ]
  },
  {
   "cell_type": "code",
   "execution_count": null,
   "metadata": {},
   "outputs": [],
   "source": []
  },
  {
   "cell_type": "code",
   "execution_count": null,
   "metadata": {},
   "outputs": [],
   "source": []
  },
  {
   "cell_type": "code",
   "execution_count": null,
   "metadata": {},
   "outputs": [],
   "source": []
  },
  {
   "cell_type": "code",
   "execution_count": null,
   "metadata": {},
   "outputs": [],
   "source": []
  },
  {
   "cell_type": "code",
   "execution_count": null,
   "metadata": {},
   "outputs": [],
   "source": []
  },
  {
   "cell_type": "code",
   "execution_count": null,
   "metadata": {},
   "outputs": [],
   "source": []
  },
  {
   "cell_type": "code",
   "execution_count": null,
   "metadata": {},
   "outputs": [],
   "source": []
  },
  {
   "cell_type": "code",
   "execution_count": null,
   "metadata": {},
   "outputs": [],
   "source": []
  },
  {
   "cell_type": "code",
   "execution_count": null,
   "metadata": {},
   "outputs": [],
   "source": []
  },
  {
   "cell_type": "code",
   "execution_count": null,
   "metadata": {},
   "outputs": [],
   "source": []
  },
  {
   "cell_type": "code",
   "execution_count": null,
   "metadata": {},
   "outputs": [],
   "source": []
  },
  {
   "cell_type": "code",
   "execution_count": null,
   "metadata": {},
   "outputs": [],
   "source": []
  },
  {
   "cell_type": "code",
   "execution_count": null,
   "metadata": {},
   "outputs": [],
   "source": []
  },
  {
   "cell_type": "code",
   "execution_count": null,
   "metadata": {},
   "outputs": [],
   "source": []
  },
  {
   "cell_type": "code",
   "execution_count": null,
   "metadata": {},
   "outputs": [],
   "source": []
  },
  {
   "cell_type": "code",
   "execution_count": null,
   "metadata": {},
   "outputs": [],
   "source": []
  },
  {
   "cell_type": "code",
   "execution_count": null,
   "metadata": {},
   "outputs": [],
   "source": []
  },
  {
   "cell_type": "code",
   "execution_count": null,
   "metadata": {},
   "outputs": [],
   "source": []
  },
  {
   "cell_type": "code",
   "execution_count": null,
   "metadata": {},
   "outputs": [],
   "source": []
  },
  {
   "cell_type": "code",
   "execution_count": null,
   "metadata": {},
   "outputs": [],
   "source": []
  },
  {
   "cell_type": "code",
   "execution_count": null,
   "metadata": {},
   "outputs": [],
   "source": []
  },
  {
   "cell_type": "code",
   "execution_count": null,
   "metadata": {},
   "outputs": [],
   "source": []
  },
  {
   "cell_type": "code",
   "execution_count": null,
   "metadata": {},
   "outputs": [],
   "source": []
  },
  {
   "cell_type": "code",
   "execution_count": null,
   "metadata": {},
   "outputs": [],
   "source": []
  },
  {
   "cell_type": "code",
   "execution_count": null,
   "metadata": {},
   "outputs": [],
   "source": []
  },
  {
   "cell_type": "code",
   "execution_count": null,
   "metadata": {},
   "outputs": [],
   "source": []
  },
  {
   "cell_type": "code",
   "execution_count": null,
   "metadata": {},
   "outputs": [],
   "source": []
  },
  {
   "cell_type": "code",
   "execution_count": null,
   "metadata": {},
   "outputs": [],
   "source": []
  },
  {
   "cell_type": "code",
   "execution_count": null,
   "metadata": {},
   "outputs": [],
   "source": []
  },
  {
   "cell_type": "code",
   "execution_count": null,
   "metadata": {},
   "outputs": [],
   "source": []
  },
  {
   "cell_type": "code",
   "execution_count": null,
   "metadata": {},
   "outputs": [],
   "source": []
  },
  {
   "cell_type": "code",
   "execution_count": null,
   "metadata": {},
   "outputs": [],
   "source": []
  },
  {
   "cell_type": "code",
   "execution_count": null,
   "metadata": {},
   "outputs": [],
   "source": []
  },
  {
   "cell_type": "code",
   "execution_count": null,
   "metadata": {},
   "outputs": [],
   "source": []
  },
  {
   "cell_type": "code",
   "execution_count": null,
   "metadata": {},
   "outputs": [],
   "source": []
  },
  {
   "cell_type": "code",
   "execution_count": null,
   "metadata": {},
   "outputs": [],
   "source": []
  },
  {
   "cell_type": "code",
   "execution_count": null,
   "metadata": {},
   "outputs": [],
   "source": []
  },
  {
   "cell_type": "code",
   "execution_count": null,
   "metadata": {},
   "outputs": [],
   "source": []
  },
  {
   "cell_type": "code",
   "execution_count": null,
   "metadata": {},
   "outputs": [],
   "source": []
  },
  {
   "cell_type": "code",
   "execution_count": null,
   "metadata": {},
   "outputs": [],
   "source": []
  },
  {
   "cell_type": "code",
   "execution_count": null,
   "metadata": {},
   "outputs": [],
   "source": []
  },
  {
   "cell_type": "code",
   "execution_count": null,
   "metadata": {},
   "outputs": [],
   "source": []
  },
  {
   "cell_type": "code",
   "execution_count": null,
   "metadata": {},
   "outputs": [],
   "source": []
  },
  {
   "cell_type": "code",
   "execution_count": null,
   "metadata": {},
   "outputs": [],
   "source": []
  },
  {
   "cell_type": "code",
   "execution_count": null,
   "metadata": {},
   "outputs": [],
   "source": []
  },
  {
   "cell_type": "code",
   "execution_count": null,
   "metadata": {},
   "outputs": [],
   "source": []
  },
  {
   "cell_type": "code",
   "execution_count": null,
   "metadata": {},
   "outputs": [],
   "source": []
  },
  {
   "cell_type": "code",
   "execution_count": null,
   "metadata": {},
   "outputs": [],
   "source": []
  }
 ],
 "metadata": {
  "kernelspec": {
   "display_name": "Python 3",
   "language": "python",
   "name": "python3"
  },
  "language_info": {
   "codemirror_mode": {
    "name": "ipython",
    "version": 3
   },
   "file_extension": ".py",
   "mimetype": "text/x-python",
   "name": "python",
   "nbconvert_exporter": "python",
   "pygments_lexer": "ipython3",
   "version": "3.6.2"
  },
  "toc": {
   "base_numbering": 1,
   "nav_menu": {},
   "number_sections": true,
   "sideBar": true,
   "skip_h1_title": false,
   "title_cell": "Table of Contents",
   "title_sidebar": "Contents",
   "toc_cell": false,
   "toc_position": {},
   "toc_section_display": true,
   "toc_window_display": true
  }
 },
 "nbformat": 4,
 "nbformat_minor": 2
}
