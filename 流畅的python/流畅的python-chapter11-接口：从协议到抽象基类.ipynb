{
 "cells": [
  {
   "cell_type": "code",
   "execution_count": 7,
   "metadata": {},
   "outputs": [
    {
     "name": "stdout",
     "output_type": "stream",
     "text": [
      "0 10 20\n",
      "<class '__main__.Foo'>\n",
      "0\n",
      "10\n",
      "20\n"
     ]
    }
   ],
   "source": [
    "class Foo:\n",
    "    def __getitem__(self,pos):\n",
    "        return range(0,30,10)[pos]\n",
    "    \n",
    "f = Foo()\n",
    "print(f[0],f[1],f[2])\n",
    "print(type(f)) # 实现了__getitem__对象就是可以迭代的了\n",
    "\n",
    "for i in f :\n",
    "    print(i)\n"
   ]
  },
  {
   "cell_type": "code",
   "execution_count": null,
   "metadata": {},
   "outputs": [],
   "source": []
  },
  {
   "cell_type": "code",
   "execution_count": 9,
   "metadata": {},
   "outputs": [
    {
     "name": "stdout",
     "output_type": "stream",
     "text": [
      "[9, 7, 2, 6, 5, 3, 1, 8, 0, 4]\n",
      "[7, 9, 0, 3, 5, 1, 2, 8, 4, 6]\n",
      "[2, 5, 8, 7, 9, 3, 4, 0, 1, 6]\n",
      "[2, 1, 6, 0, 3, 9, 8, 5, 7, 4]\n",
      "[8, 7, 3, 5, 9, 0, 6, 4, 2, 1]\n"
     ]
    }
   ],
   "source": [
    "from random import shuffle\n",
    "l = list(range(10))\n",
    "\n",
    "for i in range(5):\n",
    "    shuffle(l)\n",
    "    print(l)"
   ]
  },
  {
   "cell_type": "code",
   "execution_count": null,
   "metadata": {},
   "outputs": [],
   "source": []
  },
  {
   "cell_type": "code",
   "execution_count": 18,
   "metadata": {},
   "outputs": [],
   "source": [
    "import collections\n",
    "\n",
    "Card = collections.namedtuple('CardInfo',['rank', 'suit'])\n",
    "\n",
    "class FrenchDeck:\n",
    "    ranks = [str(n) for n in range(2,11)] + list('JQKA')\n",
    "    suits = 'spades diamonds clubs hearts'.split()\n",
    "\n",
    "    def __init__(self):\n",
    "        self._cards = [Card(rank, suit) for suit in self.suits\n",
    "                                        for rank in self.ranks]\n",
    "\n",
    "    def __len__(self):\n",
    "        return len(self._cards)\n",
    "\n",
    "    def __getitem__(self, position):\n",
    "        return self._cards[position]"
   ]
  },
  {
   "cell_type": "code",
   "execution_count": null,
   "metadata": {},
   "outputs": [],
   "source": []
  },
  {
   "cell_type": "code",
   "execution_count": 19,
   "metadata": {},
   "outputs": [
    {
     "ename": "TypeError",
     "evalue": "'FrenchDeck' object does not support item assignment",
     "output_type": "error",
     "traceback": [
      "\u001b[1;31m---------------------------------------------------------------------------\u001b[0m",
      "\u001b[1;31mTypeError\u001b[0m                                 Traceback (most recent call last)",
      "\u001b[1;32m<ipython-input-19-7468aa42d047>\u001b[0m in \u001b[0;36m<module>\u001b[1;34m\u001b[0m\n\u001b[0;32m      2\u001b[0m \u001b[1;33m\u001b[0m\u001b[0m\n\u001b[0;32m      3\u001b[0m \u001b[0mdeck\u001b[0m \u001b[1;33m=\u001b[0m \u001b[0mFrenchDeck\u001b[0m\u001b[1;33m(\u001b[0m\u001b[1;33m)\u001b[0m\u001b[1;33m\u001b[0m\u001b[0m\n\u001b[1;32m----> 4\u001b[1;33m \u001b[0mshuffle\u001b[0m\u001b[1;33m(\u001b[0m\u001b[0mdeck\u001b[0m\u001b[1;33m)\u001b[0m\u001b[1;33m\u001b[0m\u001b[0m\n\u001b[0m\u001b[0;32m      5\u001b[0m \u001b[1;31m# 'FrenchDeck' object does not support item assignment\u001b[0m\u001b[1;33m\u001b[0m\u001b[1;33m\u001b[0m\u001b[0m\n\u001b[0;32m      6\u001b[0m \u001b[1;31m# shuffle 函数要调换集合中元素的位置， 而 FrenchDeck 只实现\u001b[0m\u001b[1;33m\u001b[0m\u001b[1;33m\u001b[0m\u001b[0m\n",
      "\u001b[1;32mc:\\python36-32\\lib\\random.py\u001b[0m in \u001b[0;36mshuffle\u001b[1;34m(self, x, random)\u001b[0m\n\u001b[0;32m    272\u001b[0m                 \u001b[1;31m# pick an element in x[:i+1] with which to exchange x[i]\u001b[0m\u001b[1;33m\u001b[0m\u001b[1;33m\u001b[0m\u001b[0m\n\u001b[0;32m    273\u001b[0m                 \u001b[0mj\u001b[0m \u001b[1;33m=\u001b[0m \u001b[0mrandbelow\u001b[0m\u001b[1;33m(\u001b[0m\u001b[0mi\u001b[0m\u001b[1;33m+\u001b[0m\u001b[1;36m1\u001b[0m\u001b[1;33m)\u001b[0m\u001b[1;33m\u001b[0m\u001b[0m\n\u001b[1;32m--> 274\u001b[1;33m                 \u001b[0mx\u001b[0m\u001b[1;33m[\u001b[0m\u001b[0mi\u001b[0m\u001b[1;33m]\u001b[0m\u001b[1;33m,\u001b[0m \u001b[0mx\u001b[0m\u001b[1;33m[\u001b[0m\u001b[0mj\u001b[0m\u001b[1;33m]\u001b[0m \u001b[1;33m=\u001b[0m \u001b[0mx\u001b[0m\u001b[1;33m[\u001b[0m\u001b[0mj\u001b[0m\u001b[1;33m]\u001b[0m\u001b[1;33m,\u001b[0m \u001b[0mx\u001b[0m\u001b[1;33m[\u001b[0m\u001b[0mi\u001b[0m\u001b[1;33m]\u001b[0m\u001b[1;33m\u001b[0m\u001b[0m\n\u001b[0m\u001b[0;32m    275\u001b[0m         \u001b[1;32melse\u001b[0m\u001b[1;33m:\u001b[0m\u001b[1;33m\u001b[0m\u001b[0m\n\u001b[0;32m    276\u001b[0m             \u001b[0m_int\u001b[0m \u001b[1;33m=\u001b[0m \u001b[0mint\u001b[0m\u001b[1;33m\u001b[0m\u001b[0m\n",
      "\u001b[1;31mTypeError\u001b[0m: 'FrenchDeck' object does not support item assignment"
     ]
    }
   ],
   "source": [
    "from random import shuffle\n",
    "\n",
    "deck = FrenchDeck()\n",
    "shuffle(deck) \n",
    "# 'FrenchDeck' object does not support item assignment\n",
    "# shuffle 函数要调换集合中元素的位置， 而 FrenchDeck 只实现\n",
    "# 了不可变的序列协议。 可变的序列还必须提供 __setitem__ 方法。\n",
    "# Python 是动态语言， 因此我们可以在运行时修正这个问题\n",
    "\n",
    "\n"
   ]
  },
  {
   "cell_type": "code",
   "execution_count": null,
   "metadata": {},
   "outputs": [],
   "source": []
  },
  {
   "cell_type": "code",
   "execution_count": 21,
   "metadata": {},
   "outputs": [
    {
     "name": "stdout",
     "output_type": "stream",
     "text": [
      "[CardInfo(rank='Q', suit='spades'), CardInfo(rank='Q', suit='diamonds'), CardInfo(rank='K', suit='hearts'), CardInfo(rank='Q', suit='hearts'), CardInfo(rank='9', suit='spades')]\n"
     ]
    }
   ],
   "source": [
    "def set_card(deck, position, card): #__setitem__使用的参数是self，key，value，要移动一个数字需要知道当前数组，下表，值就够了\n",
    "    deck._cards[position] =card\n",
    "    \n",
    "FrenchDeck.__setitem__ = set_card\n",
    "shuffle(deck) \n",
    "print(deck[:5])\n",
    "\n",
    "# set_card 函数要知道 deck 对象有一个名为 _cards 的\n",
    "# 属性， 而且 _cards 的值必须是可变序列。 然后， 我们把 set_card 函\n",
    "# 数赋值给特殊方法 __setitem__， 从而把它依附到 FrenchDeck 类\n",
    "# 上。 这种技术叫猴子补丁： 在运行时修改类或模块， 而不改动源码。 猴\n",
    "# 子补丁很强大， 但是打补丁的代码与要打补丁的程序耦合十分紧密"
   ]
  },
  {
   "cell_type": "code",
   "execution_count": null,
   "metadata": {},
   "outputs": [],
   "source": []
  },
  {
   "cell_type": "code",
   "execution_count": 27,
   "metadata": {},
   "outputs": [
    {
     "name": "stdout",
     "output_type": "stream",
     "text": [
      "<class 'type'>\n",
      "<class '__main__.Struggle'>\n",
      "<class 'abc.ABCMeta'>\n",
      "True\n"
     ]
    }
   ],
   "source": [
    "class Struggle:\n",
    "    def __len__(self):\n",
    "        return 23\n",
    "    \n",
    "from collections import abc\n",
    "\n",
    "print(type(Struggle))\n",
    "print(type(Struggle()))\n",
    "print(type(abc.Sized))\n",
    "print(isinstance(Struggle(),abc.Sized))\n",
    "#可以看出， 无需注册， abc.Sized 也能把 Struggle 识别为自己的\n",
    "#子类， 只要实现了特殊方法 __len__ 即可"
   ]
  },
  {
   "cell_type": "code",
   "execution_count": null,
   "metadata": {},
   "outputs": [],
   "source": []
  },
  {
   "cell_type": "code",
   "execution_count": null,
   "metadata": {},
   "outputs": [],
   "source": []
  },
  {
   "cell_type": "code",
   "execution_count": null,
   "metadata": {},
   "outputs": [],
   "source": []
  },
  {
   "cell_type": "code",
   "execution_count": null,
   "metadata": {},
   "outputs": [],
   "source": []
  },
  {
   "cell_type": "code",
   "execution_count": null,
   "metadata": {},
   "outputs": [],
   "source": []
  },
  {
   "cell_type": "code",
   "execution_count": null,
   "metadata": {},
   "outputs": [],
   "source": []
  }
 ],
 "metadata": {
  "kernelspec": {
   "display_name": "Python 3",
   "language": "python",
   "name": "python3"
  },
  "language_info": {
   "codemirror_mode": {
    "name": "ipython",
    "version": 3
   },
   "file_extension": ".py",
   "mimetype": "text/x-python",
   "name": "python",
   "nbconvert_exporter": "python",
   "pygments_lexer": "ipython3",
   "version": "3.6.2"
  },
  "toc": {
   "base_numbering": 1,
   "nav_menu": {},
   "number_sections": true,
   "sideBar": true,
   "skip_h1_title": false,
   "title_cell": "Table of Contents",
   "title_sidebar": "Contents",
   "toc_cell": false,
   "toc_position": {},
   "toc_section_display": true,
   "toc_window_display": false
  }
 },
 "nbformat": 4,
 "nbformat_minor": 2
}
