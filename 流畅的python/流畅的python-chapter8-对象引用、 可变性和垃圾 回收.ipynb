{
 "cells": [
  {
   "cell_type": "code",
   "execution_count": 2,
   "metadata": {},
   "outputs": [
    {
     "name": "stdout",
     "output_type": "stream",
     "text": [
      "Gizmo id: 16212080\n",
      "<__main__.Gizmo object at 0x00F76070>\n",
      "Gizmo id: 16213840\n"
     ]
    },
    {
     "ename": "TypeError",
     "evalue": "unsupported operand type(s) for *: 'Gizmo' and 'int'",
     "output_type": "error",
     "traceback": [
      "\u001b[1;31m---------------------------------------------------------------------------\u001b[0m",
      "\u001b[1;31mTypeError\u001b[0m                                 Traceback (most recent call last)",
      "\u001b[1;32m<ipython-input-2-8f247ccb5f3a>\u001b[0m in \u001b[0;36m<module>\u001b[1;34m\u001b[0m\n\u001b[0;32m      6\u001b[0m \u001b[0mprint\u001b[0m\u001b[1;33m(\u001b[0m\u001b[0mx\u001b[0m\u001b[1;33m)\u001b[0m\u001b[1;33m\u001b[0m\u001b[0m\n\u001b[0;32m      7\u001b[0m \u001b[1;33m\u001b[0m\u001b[0m\n\u001b[1;32m----> 8\u001b[1;33m \u001b[0my\u001b[0m \u001b[1;33m=\u001b[0m \u001b[0mGizmo\u001b[0m\u001b[1;33m(\u001b[0m\u001b[1;33m)\u001b[0m \u001b[1;33m*\u001b[0m \u001b[1;36m10\u001b[0m\u001b[1;33m\u001b[0m\u001b[0m\n\u001b[0m",
      "\u001b[1;31mTypeError\u001b[0m: unsupported operand type(s) for *: 'Gizmo' and 'int'"
     ]
    }
   ],
   "source": [
    "class Gizmo:\n",
    "    def __init__(self):\n",
    "        print('Gizmo id: %d' % id(self))\n",
    "\n",
    "x = Gizmo()\n",
    "print(x)\n",
    "\n",
    "y = Gizmo() * 10 "
   ]
  },
  {
   "cell_type": "code",
   "execution_count": 3,
   "metadata": {},
   "outputs": [
    {
     "data": {
      "text/plain": [
       "['Gizmo',\n",
       " 'In',\n",
       " 'Out',\n",
       " '_',\n",
       " '__',\n",
       " '___',\n",
       " '__builtin__',\n",
       " '__builtins__',\n",
       " '__doc__',\n",
       " '__loader__',\n",
       " '__name__',\n",
       " '__package__',\n",
       " '__spec__',\n",
       " '_dh',\n",
       " '_i',\n",
       " '_i1',\n",
       " '_i2',\n",
       " '_i3',\n",
       " '_ih',\n",
       " '_ii',\n",
       " '_iii',\n",
       " '_oh',\n",
       " 'exit',\n",
       " 'get_ipython',\n",
       " 'json',\n",
       " 'quit',\n",
       " 'x',\n",
       " 'yapf_reformat']"
      ]
     },
     "execution_count": 3,
     "metadata": {},
     "output_type": "execute_result"
    }
   ],
   "source": [
    "dir()"
   ]
  },
  {
   "cell_type": "markdown",
   "metadata": {},
   "source": [
    "> 在尝试求积之前其实会创建一个新的 Gizmo 实例.但是， 肯定不会创建变量 y， 因为在对赋值语句的右边进行求值时抛出了异常.为了理解 Python 中的赋值语句， 应该始终先读右边。 对象在\n",
    "右边创建或获取， 在此之后左边的变量才会绑定到对象上"
   ]
  },
  {
   "cell_type": "code",
   "execution_count": 13,
   "metadata": {},
   "outputs": [
    {
     "name": "stdout",
     "output_type": "stream",
     "text": [
      "[23, [66, 55, 44], (7, 8, 9)]\n",
      "[23, [66, 55, 44], (7, 8, 9)]\n",
      "True False True True\n",
      "\n",
      "[23, [66, 44], (7, 8, 9), 100]\n",
      "[23, [66, 44], (7, 8, 9)]\n",
      "False False True True\n",
      "\n",
      "[23, [66, 44, 33, 22], (7, 8, 9), 100]\n",
      "[23, [66, 44, 33, 22], (7, 8, 9, 10, 11)]\n",
      "False False True False\n"
     ]
    }
   ],
   "source": [
    "#注意内部list、tuple 的比较结果\n",
    "l1 = [23,[66,55,44],(7,8,9)]\n",
    "l2 = list(l1)\n",
    "print(l1)\n",
    "print(l2)\n",
    "print(l1==l2, l1 is l2, l1[1] is l2[1], l1[2] is l2[2])\n",
    "\n",
    "print()\n",
    "\n",
    "l1.append(100)\n",
    "l1[1].remove(55)\n",
    "print(l1)\n",
    "print(l2)\n",
    "print(l1==l2, l1 is l2, l1[1] is l2[1], l1[2] is l2[2])\n",
    "\n",
    "print()\n",
    "\n",
    "l2[1] += [33,22]\n",
    "l2[2] += (10,11)\n",
    "\n",
    "print(l1)\n",
    "print(l2)\n",
    "print(l1==l2, l1 is l2, l1[1] is l2[1], l1[2] is l2[2])"
   ]
  },
  {
   "cell_type": "code",
   "execution_count": null,
   "metadata": {},
   "outputs": [],
   "source": []
  },
  {
   "cell_type": "markdown",
   "metadata": {},
   "source": [
    "# del和垃圾回收"
   ]
  },
  {
   "cell_type": "code",
   "execution_count": 18,
   "metadata": {},
   "outputs": [
    {
     "name": "stdout",
     "output_type": "stream",
     "text": [
      "True\n",
      "True\n",
      "Gone with the wind...\n",
      "False\n"
     ]
    }
   ],
   "source": [
    "import weakref\n",
    "\n",
    "s1 = {1,2,3}\n",
    "s2 = s1\n",
    "\n",
    "# 在 s1 引用的对象上注册 bye 回调\n",
    "# 把 s1 引用传给finalize函数了,而为了监控对象和调用回调，必须要有引用。但是finalize持有的是{1, 2, 3} 的弱引用\n",
    "def bye():\n",
    "    print(\"Gone with the wind...\")\n",
    "\n",
    "ender = weakref.finalize(s1, bye)\n",
    "print(ender.alive)\n",
    "\n",
    "del s1\n",
    "print(ender.alive)\n",
    "\n",
    "s2 = 'spam'\n",
    "# del s2\n",
    "print(ender.alive)\n"
   ]
  },
  {
   "cell_type": "code",
   "execution_count": null,
   "metadata": {},
   "outputs": [],
   "source": []
  },
  {
   "cell_type": "code",
   "execution_count": null,
   "metadata": {},
   "outputs": [],
   "source": []
  },
  {
   "cell_type": "markdown",
   "metadata": {},
   "source": [
    "# 弱引用"
   ]
  },
  {
   "cell_type": "markdown",
   "metadata": {},
   "source": [
    "> 在计算机程序设计中，弱引用，与强引用相对，是指不能确保其引用的对象不会被垃圾回收器回收的引用。一个对象若只被弱引用所引用，则可能在任何时刻被回收。弱引用的主要作用就是减少循环引用，减少内存中不必要的对象存在的数量。"
   ]
  },
  {
   "cell_type": "code",
   "execution_count": 25,
   "metadata": {},
   "outputs": [
    {
     "name": "stdout",
     "output_type": "stream",
     "text": [
      "<weakref at 0x010C29C0; to 'set' at 0x0142EDC8>\n",
      "{0, 1}\n",
      "None\n"
     ]
    }
   ],
   "source": [
    "import weakref\n",
    "\n",
    "a_set = {0,1}\n",
    "wref = weakref.ref(a_set)\n",
    "\n",
    "print(wref)\n",
    "print(wref())\n",
    "\n",
    "a_set = {2,3,4}\n",
    "print(wref())\n"
   ]
  },
  {
   "cell_type": "code",
   "execution_count": null,
   "metadata": {},
   "outputs": [],
   "source": []
  },
  {
   "cell_type": "code",
   "execution_count": 26,
   "metadata": {},
   "outputs": [
    {
     "name": "stdout",
     "output_type": "stream",
     "text": [
      "['Brie', 'Parmesan', 'Red Leicester', 'Tilsit']\n",
      "['Parmesan']\n",
      "Cheese('Parmesan')\n",
      "[]\n"
     ]
    }
   ],
   "source": [
    "import weakref\n",
    "\n",
    "\n",
    "class Cheese:\n",
    "    def __init__(self, kind):\n",
    "        self.kind = kind\n",
    "\n",
    "    def __repr__(self):\n",
    "        return 'Cheese(%r)' % self.kind\n",
    "\n",
    "\n",
    "stock = weakref.WeakValueDictionary()\n",
    "catalog = [Cheese('Red Leicester'), Cheese('Tilsit'), Cheese('Brie'), Cheese('Parmesan')]\n",
    "\n",
    "for cheese in catalog:\n",
    "    stock[cheese.kind] = cheese\n",
    "\n",
    "print(sorted(stock.keys()))\n",
    "\n",
    "del catalog\n",
    "print(sorted(stock.keys()))\n",
    "\n",
    "# 删除 catalog 之后， stock 中的大多数奶酪都不见了， 这是WeakValueDictionary 的预期行为。 为什么不是全部呢？\n",
    "# 临时变量引用了对象，这可能会导致该变量的存在时间比预期长。通常，这对局部变量来说不是问题，因为它们在函数返回时\n",
    "# 会被销毁。但是在示例中,for循环中的变量cheese是全局变量，除非显式删除，否则不会消失。\n",
    "\n",
    "print(cheese)  # cheese是全局变量，没有消失的刚好是循环最后的一个对象Cheese('Parmesan')\n",
    "\n",
    "del cheese\n",
    "print(sorted(stock.keys()))\n"
   ]
  },
  {
   "cell_type": "code",
   "execution_count": null,
   "metadata": {},
   "outputs": [],
   "source": []
  },
  {
   "cell_type": "code",
   "execution_count": 28,
   "metadata": {},
   "outputs": [
    {
     "name": "stdout",
     "output_type": "stream",
     "text": [
      "True\n",
      "True True\n"
     ]
    }
   ],
   "source": [
    "t1 = (1,2,3)\n",
    "t2 = tuple(t1)\n",
    "print(t2 is t1)\n",
    "\n",
    "t3 = t2[:]\n",
    "print(t3 is t2, t3 is t1)"
   ]
  },
  {
   "cell_type": "code",
   "execution_count": 30,
   "metadata": {},
   "outputs": [
    {
     "name": "stdout",
     "output_type": "stream",
     "text": [
      "False\n",
      "True\n"
     ]
    }
   ],
   "source": [
    "t1 = (1,2,3)\n",
    "t3 = (1,2,3)\n",
    "print(t3 is t1)\n",
    "# 与上一栏略有差别，都是cpython内部优化的原因，不需要特别关注\n",
    "\n",
    "s1 = \"ABC\"\n",
    "s2 = \"ABC\"\n",
    "print(s1 is s2)"
   ]
  },
  {
   "cell_type": "code",
   "execution_count": null,
   "metadata": {},
   "outputs": [],
   "source": []
  },
  {
   "cell_type": "code",
   "execution_count": null,
   "metadata": {},
   "outputs": [],
   "source": []
  },
  {
   "cell_type": "code",
   "execution_count": null,
   "metadata": {},
   "outputs": [],
   "source": []
  }
 ],
 "metadata": {
  "kernelspec": {
   "display_name": "Python 3",
   "language": "python",
   "name": "python3"
  },
  "language_info": {
   "codemirror_mode": {
    "name": "ipython",
    "version": 3
   },
   "file_extension": ".py",
   "mimetype": "text/x-python",
   "name": "python",
   "nbconvert_exporter": "python",
   "pygments_lexer": "ipython3",
   "version": "3.6.2"
  },
  "toc": {
   "base_numbering": 1,
   "nav_menu": {},
   "number_sections": true,
   "sideBar": true,
   "skip_h1_title": false,
   "title_cell": "Table of Contents",
   "title_sidebar": "Contents",
   "toc_cell": false,
   "toc_position": {},
   "toc_section_display": true,
   "toc_window_display": true
  }
 },
 "nbformat": 4,
 "nbformat_minor": 2
}
