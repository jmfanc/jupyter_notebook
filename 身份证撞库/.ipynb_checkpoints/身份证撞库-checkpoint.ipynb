{
 "cells": [
  {
   "cell_type": "markdown",
   "metadata": {},
   "source": [
    "# 身份证撞库"
   ]
  },
  {
   "cell_type": "markdown",
   "metadata": {},
   "source": [
    "## 设计说明"
   ]
  },
  {
   "cell_type": "code",
   "execution_count": null,
   "metadata": {},
   "outputs": [],
   "source": []
  },
  {
   "cell_type": "code",
   "execution_count": null,
   "metadata": {},
   "outputs": [],
   "source": []
  },
  {
   "cell_type": "markdown",
   "metadata": {},
   "source": [
    "## 创建65536张数据表"
   ]
  },
  {
   "cell_type": "markdown",
   "metadata": {},
   "source": [
    "> shell脚本- 创建"
   ]
  },
  {
   "cell_type": "code",
   "execution_count": null,
   "metadata": {},
   "outputs": [],
   "source": [
    "DROP PROCEDURE IF EXISTS pro_create_65536_tables;\n",
    "CREATE PROCEDURE pro_create_65536_tables()\n",
    "BEGIN\n",
    "\t\n",
    "\tDECLARE i INT DEFAULT 1;\n",
    "\tDECLARE j INT DEFAULT 1;\n",
    "\tDECLARE m INT DEFAULT 1;\n",
    "\tDECLARE n INT DEFAULT 1;\n",
    "\t\n",
    "\tDECLARE tmp_i VARCHAR(20) DEFAULT NULL; \n",
    "\tDECLARE tmp_j VARCHAR(20) DEFAULT NULL; \n",
    "\tDECLARE tmp_m VARCHAR(20) DEFAULT NULL; \n",
    "\tDECLARE tmp_n VARCHAR(20) DEFAULT NULL; \n",
    "\n",
    "\tset autocommit= 0;\n",
    "\n",
    "\tset @array_content=\"0 1 2 3 4 5 6 7 8 9 a b c d e f\"; \n",
    "\tSET @count=CHAR_LENGTH(@array_content)-CHAR_LENGTH(REPLACE(@array_content,' ','')) + 1; \n",
    "\t\n",
    "\tWHILE i>=1 && i<= 16 DO\n",
    "\t\tWHILE j>=1 && j<= 16 DO\n",
    "\t\t\tWHILE m>=1 && m<= 16 DO\n",
    "\t\t\t\tWHILE n>=1 && n<= 16 DO\n",
    "\t\t\t\t\n",
    "\t\t\t\t\tset tmp_i =SUBSTRING_INDEX(SUBSTRING_INDEX(@array_content,' ',i),' ',-1); \n",
    "\t\t\t\t\tset tmp_j =SUBSTRING_INDEX(SUBSTRING_INDEX(@array_content,' ',j),' ',-1); \n",
    "\t\t\t\t\tset tmp_m =SUBSTRING_INDEX(SUBSTRING_INDEX(@array_content,' ',m),' ',-1); \n",
    "\t\t\t\t\tset tmp_n =SUBSTRING_INDEX(SUBSTRING_INDEX(@array_content,' ',n),' ',-1); \n",
    "\t\n",
    "\t\t\t \t\tset @table_create_sql = concat(\"create table t_\",tmp_i,tmp_j,tmp_m,tmp_n, \n",
    "\t\t\t\t\t\" (\n",
    "\t\t\t \t    fivesixindex varchar(4) primary key ,\n",
    "\t\t\t \t    idnum varchar(2000)\n",
    "\t\t\t \t\t)\");\n",
    "\n",
    "\t\t\t\t\tPREPARE table_create_sql from @table_create_sql;\n",
    "\t\t\t\t\tEXECUTE table_create_sql;\n",
    "\n",
    "\t\t\t\t\tif mod(i , 1000) =0 then\n",
    "\t\t\t\t\t\tCOMMIT;\n",
    "\t\t\t\t\tend if;\n",
    "\t\t\t\t\t\n",
    "\t\t\t\t\tSET n=n + 1;\n",
    "\t\t\t\tEND WHILE;\n",
    "\t\t\t\tSET m=m + 1;\n",
    "\t\t\t\tSET n=1;\n",
    "\t\t\tEND WHILE;\n",
    "\t\t\tSET j=j + 1;\n",
    "\t\t\tSET m=1;\n",
    "\t\tEND WHILE;\n",
    "\t\tSET i=i + 1;\n",
    "\t\tSET j=1;\n",
    "\tEND WHILE;\n",
    "\n",
    "\tCOMMIT;\n",
    "\n",
    "END"
   ]
  },
  {
   "cell_type": "markdown",
   "metadata": {},
   "source": [
    "> shell脚本-删除"
   ]
  },
  {
   "cell_type": "code",
   "execution_count": null,
   "metadata": {},
   "outputs": [],
   "source": [
    "DROP PROCEDURE IF EXISTS pro_drop_65536_tables;\n",
    "CREATE PROCEDURE pro_drop_65536_tables()\n",
    "BEGIN\n",
    "\t\n",
    "\tDECLARE i INT DEFAULT 1;\n",
    "\tDECLARE j INT DEFAULT 1;\n",
    "\tDECLARE m INT DEFAULT 1;\n",
    "\tDECLARE n INT DEFAULT 1;\n",
    "\t\n",
    "\tDECLARE tmp_i VARCHAR(20) DEFAULT NULL; \n",
    "\tDECLARE tmp_j VARCHAR(20) DEFAULT NULL; \n",
    "\tDECLARE tmp_m VARCHAR(20) DEFAULT NULL; \n",
    "\tDECLARE tmp_n VARCHAR(20) DEFAULT NULL; \n",
    "\n",
    "\tset autocommit= 0;\n",
    "\n",
    "\tset @array_content=\"0 1 2 3 4 5 6 7 8 9 a b c d e f\"; \n",
    "\tSET @count=CHAR_LENGTH(@array_content)-CHAR_LENGTH(REPLACE(@array_content,' ','')) + 1; \n",
    "\t\n",
    "\tWHILE i>=1 && i<= 16 DO\n",
    "\t\tWHILE j>=1 && j<= 16 DO\n",
    "\t\t\tWHILE m>=1 && m<= 16 DO\n",
    "\t\t\t\tWHILE n>=1 && n<= 16 DO\n",
    "\t\t\t\t\n",
    "\t\t\t\t\tset tmp_i =SUBSTRING_INDEX(SUBSTRING_INDEX(@array_content,' ',i),' ',-1); \n",
    "\t\t\t\t\tset tmp_j =SUBSTRING_INDEX(SUBSTRING_INDEX(@array_content,' ',j),' ',-1); \n",
    "\t\t\t\t\tset tmp_m =SUBSTRING_INDEX(SUBSTRING_INDEX(@array_content,' ',m),' ',-1); \n",
    "\t\t\t\t\tset tmp_n =SUBSTRING_INDEX(SUBSTRING_INDEX(@array_content,' ',n),' ',-1); \n",
    "\t\n",
    "\t\t\t \t\tset @table_create_sql = concat(\"drop table t_\",tmp_i,tmp_j,tmp_m,tmp_n);\n",
    "\n",
    "\t\t\t\t\tPREPARE table_create_sql from @table_create_sql;\n",
    "\t\t\t\t\tEXECUTE table_create_sql;\n",
    "\n",
    "\t\t\t\t\tif mod(i , 1000) =0 then\n",
    "\t\t\t\t\t\tCOMMIT;\n",
    "\t\t\t\t\tend if;\n",
    "\t\t\t\t\t\n",
    "\t\t\t\t\tSET n=n + 1;\n",
    "\t\t\t\tEND WHILE;\n",
    "\t\t\t\tSET m=m + 1;\n",
    "\t\t\t\tSET n=1;\n",
    "\t\t\tEND WHILE;\n",
    "\t\t\tSET j=j + 1;\n",
    "\t\t\tSET m=1;\n",
    "\t\tEND WHILE;\n",
    "\t\tSET i=i + 1;\n",
    "\t\tSET j=1;\n",
    "\tEND WHILE;\n",
    "\n",
    "\tCOMMIT;\n",
    "\n",
    "END"
   ]
  },
  {
   "cell_type": "code",
   "execution_count": null,
   "metadata": {},
   "outputs": [],
   "source": [
    "start mysql  -h 118.190.140.97 -P 3306 -u root -p\n",
    "use rainbow\n",
    "show tables"
   ]
  },
  {
   "cell_type": "code",
   "execution_count": null,
   "metadata": {},
   "outputs": [],
   "source": [
    "SELECT COUNT( * ) FROM information_schema.tables WHERE TABLE_SCHEMA = 'rainbow';"
   ]
  },
  {
   "cell_type": "code",
   "execution_count": null,
   "metadata": {},
   "outputs": [],
   "source": []
  },
  {
   "cell_type": "code",
   "execution_count": null,
   "metadata": {},
   "outputs": [],
   "source": []
  },
  {
   "cell_type": "code",
   "execution_count": null,
   "metadata": {},
   "outputs": [],
   "source": []
  },
  {
   "cell_type": "code",
   "execution_count": null,
   "metadata": {},
   "outputs": [],
   "source": []
  },
  {
   "cell_type": "code",
   "execution_count": null,
   "metadata": {},
   "outputs": [],
   "source": []
  },
  {
   "cell_type": "code",
   "execution_count": null,
   "metadata": {},
   "outputs": [],
   "source": []
  },
  {
   "cell_type": "code",
   "execution_count": null,
   "metadata": {},
   "outputs": [],
   "source": []
  },
  {
   "cell_type": "code",
   "execution_count": null,
   "metadata": {},
   "outputs": [],
   "source": []
  },
  {
   "cell_type": "code",
   "execution_count": null,
   "metadata": {},
   "outputs": [],
   "source": []
  },
  {
   "cell_type": "code",
   "execution_count": null,
   "metadata": {},
   "outputs": [],
   "source": []
  },
  {
   "cell_type": "code",
   "execution_count": null,
   "metadata": {},
   "outputs": [],
   "source": []
  },
  {
   "cell_type": "code",
   "execution_count": null,
   "metadata": {},
   "outputs": [],
   "source": []
  },
  {
   "cell_type": "code",
   "execution_count": null,
   "metadata": {},
   "outputs": [],
   "source": []
  },
  {
   "cell_type": "code",
   "execution_count": null,
   "metadata": {},
   "outputs": [],
   "source": []
  },
  {
   "cell_type": "code",
   "execution_count": null,
   "metadata": {},
   "outputs": [],
   "source": []
  },
  {
   "cell_type": "code",
   "execution_count": null,
   "metadata": {},
   "outputs": [],
   "source": []
  },
  {
   "cell_type": "code",
   "execution_count": null,
   "metadata": {},
   "outputs": [],
   "source": []
  },
  {
   "cell_type": "code",
   "execution_count": null,
   "metadata": {},
   "outputs": [],
   "source": []
  },
  {
   "cell_type": "code",
   "execution_count": null,
   "metadata": {},
   "outputs": [],
   "source": []
  }
 ],
 "metadata": {
  "kernelspec": {
   "display_name": "Python 3",
   "language": "python",
   "name": "python3"
  },
  "language_info": {
   "codemirror_mode": {
    "name": "ipython",
    "version": 3
   },
   "file_extension": ".py",
   "mimetype": "text/x-python",
   "name": "python",
   "nbconvert_exporter": "python",
   "pygments_lexer": "ipython3",
   "version": "3.6.2"
  },
  "toc": {
   "base_numbering": 1,
   "nav_menu": {},
   "number_sections": true,
   "sideBar": true,
   "skip_h1_title": false,
   "title_cell": "Table of Contents",
   "title_sidebar": "Contents",
   "toc_cell": false,
   "toc_position": {},
   "toc_section_display": true,
   "toc_window_display": true
  }
 },
 "nbformat": 4,
 "nbformat_minor": 2
}
