{
 "cells": [
  {
   "cell_type": "markdown",
   "metadata": {},
   "source": [
    "# 语法最佳实践--类级别以下"
   ]
  },
  {
   "cell_type": "code",
   "execution_count": 4,
   "metadata": {},
   "outputs": [
    {
     "name": "stdout",
     "output_type": "stream",
     "text": [
      "b'foo'\n"
     ]
    }
   ],
   "source": [
    "print(bytes([102,111,111]))"
   ]
  },
  {
   "cell_type": "code",
   "execution_count": 5,
   "metadata": {},
   "outputs": [
    {
     "data": {
      "text/plain": [
       "[102, 111, 111, 32, 98, 97, 114]"
      ]
     },
     "execution_count": 5,
     "metadata": {},
     "output_type": "execute_result"
    }
   ],
   "source": [
    "list(b'foo bar')"
   ]
  },
  {
   "cell_type": "code",
   "execution_count": 6,
   "metadata": {},
   "outputs": [
    {
     "data": {
      "text/plain": [
       "(102, 111, 111, 32, 98, 97, 114)"
      ]
     },
     "execution_count": 6,
     "metadata": {},
     "output_type": "execute_result"
    }
   ],
   "source": [
    "tuple(b'foo bar')"
   ]
  },
  {
   "cell_type": "code",
   "execution_count": null,
   "metadata": {},
   "outputs": [],
   "source": []
  },
  {
   "cell_type": "code",
   "execution_count": 10,
   "metadata": {
    "code_folding": []
   },
   "outputs": [
    {
     "name": "stdout",
     "output_type": "stream",
     "text": [
      "a\n",
      "ab\n",
      "abc\n",
      "abcd\n",
      "abcde\n",
      "abcdef\n",
      "abcdefg\n"
     ]
    }
   ],
   "source": [
    "s = \"\"\n",
    "for obj in list('abcdef'):\n",
    "    s += obj\n",
    "    print(s)\n",
    "    \n",
    "s1 = \"\"\n",
    "s1 = \"\".join(list('abcdefg'))\n",
    "print(s1)"
   ]
  },
  {
   "cell_type": "code",
   "execution_count": null,
   "metadata": {},
   "outputs": [],
   "source": []
  },
  {
   "cell_type": "code",
   "execution_count": 11,
   "metadata": {},
   "outputs": [
    {
     "name": "stdout",
     "output_type": "stream",
     "text": [
      "[0, 2, 4, 6, 8]\n"
     ]
    }
   ],
   "source": [
    "evens = []\n",
    "for i in range(10):\n",
    "    if i % 2 ==0:\n",
    "        evens.append(i)\n",
    "    \n",
    "print(evens)\n",
    "\n"
   ]
  },
  {
   "cell_type": "code",
   "execution_count": null,
   "metadata": {},
   "outputs": [],
   "source": []
  },
  {
   "cell_type": "code",
   "execution_count": 12,
   "metadata": {},
   "outputs": [
    {
     "data": {
      "text/plain": [
       "[0, 2, 4, 6, 8]"
      ]
     },
     "execution_count": 12,
     "metadata": {},
     "output_type": "execute_result"
    }
   ],
   "source": [
    "[ i for i in range(10) if i % 2 ==0]"
   ]
  },
  {
   "cell_type": "code",
   "execution_count": null,
   "metadata": {},
   "outputs": [],
   "source": []
  },
  {
   "cell_type": "code",
   "execution_count": 14,
   "metadata": {},
   "outputs": [
    {
     "name": "stdout",
     "output_type": "stream",
     "text": [
      "0 one\n",
      "1 two\n",
      "2 three\n"
     ]
    }
   ],
   "source": [
    "i =0 \n",
    "for element in ['one','two','three']:\n",
    "    print(i, element)\n",
    "    i +=1"
   ]
  },
  {
   "cell_type": "code",
   "execution_count": 15,
   "metadata": {},
   "outputs": [
    {
     "name": "stdout",
     "output_type": "stream",
     "text": [
      "0 one\n",
      "1 two\n",
      "2 three\n"
     ]
    }
   ],
   "source": [
    "for i, element in enumerate(['one','two','three']):\n",
    "    print(i, element)"
   ]
  },
  {
   "cell_type": "code",
   "execution_count": null,
   "metadata": {},
   "outputs": [],
   "source": []
  },
  {
   "cell_type": "code",
   "execution_count": 17,
   "metadata": {},
   "outputs": [
    {
     "name": "stdout",
     "output_type": "stream",
     "text": [
      "(1, 4, 7)\n",
      "(2, 5, 8)\n",
      "(3, 6, 9)\n"
     ]
    }
   ],
   "source": [
    "for item in zip([1,2,3],[4,5,6],[7,8,9]):\n",
    "    print(item)"
   ]
  },
  {
   "cell_type": "code",
   "execution_count": null,
   "metadata": {},
   "outputs": [],
   "source": []
  },
  {
   "cell_type": "code",
   "execution_count": 18,
   "metadata": {},
   "outputs": [
    {
     "name": "stdout",
     "output_type": "stream",
     "text": [
      "(1, 2, 3)\n",
      "(4, 5, 6)\n",
      "(7, 8, 9)\n"
     ]
    }
   ],
   "source": [
    "for item in zip(*zip([1,2,3],[4,5,6],[7,8,9])):\n",
    "    print(item)"
   ]
  },
  {
   "cell_type": "code",
   "execution_count": null,
   "metadata": {},
   "outputs": [],
   "source": []
  },
  {
   "cell_type": "code",
   "execution_count": 20,
   "metadata": {},
   "outputs": [
    {
     "name": "stdout",
     "output_type": "stream",
     "text": [
      "for bar 100\n"
     ]
    }
   ],
   "source": [
    "first, second, third = 'for','bar',100\n",
    "print(first,second,third)"
   ]
  },
  {
   "cell_type": "code",
   "execution_count": null,
   "metadata": {},
   "outputs": [],
   "source": []
  },
  {
   "cell_type": "code",
   "execution_count": 25,
   "metadata": {},
   "outputs": [
    {
     "name": "stdout",
     "output_type": "stream",
     "text": [
      "0 1 100\n",
      "0--1--[2, 3, 4, 5, 6]\n",
      "0 ** 1 ** [2, 3, 4, 5, 6]\n",
      "0--1--[2, 3, 4, 5, 6]\n"
     ]
    }
   ],
   "source": [
    "first, second, *rest = 0,1,2,3,4,5,6\n",
    "print(first,second,third)\n",
    "print('%s--%s--%s'%(first,second,rest))\n",
    "print('{v1} ** {v2} ** {v3}'.format(v1=first,v2=second,v3=rest))\n",
    "\n",
    "first, *inner, last = 0,1,2,3,4,5\n",
    "print('%s--%s--%s'%(first,second,rest))"
   ]
  },
  {
   "cell_type": "code",
   "execution_count": null,
   "metadata": {},
   "outputs": [],
   "source": []
  },
  {
   "cell_type": "code",
   "execution_count": 27,
   "metadata": {},
   "outputs": [
    {
     "name": "stdout",
     "output_type": "stream",
     "text": [
      "1 2 3 4\n"
     ]
    }
   ],
   "source": [
    "(a,b), (c,d) = (1,2), (3,4)\n",
    "print(a,b,c,d)"
   ]
  },
  {
   "cell_type": "code",
   "execution_count": null,
   "metadata": {},
   "outputs": [],
   "source": []
  },
  {
   "cell_type": "code",
   "execution_count": 29,
   "metadata": {},
   "outputs": [
    {
     "name": "stdout",
     "output_type": "stream",
     "text": [
      "{0: 0, 1: 1, 2: 4, 3: 9, 4: 16, 5: 25, 6: 36, 7: 49, 8: 64, 9: 81, 10: 100, 11: 121, 12: 144, 13: 169, 14: 196, 15: 225, 16: 256, 17: 289, 18: 324, 19: 361, 20: 400, 21: 441, 22: 484, 23: 529, 24: 576, 25: 625, 26: 676, 27: 729, 28: 784, 29: 841, 30: 900, 31: 961, 32: 1024, 33: 1089, 34: 1156, 35: 1225, 36: 1296, 37: 1369, 38: 1444, 39: 1521, 40: 1600, 41: 1681, 42: 1764, 43: 1849, 44: 1936, 45: 2025, 46: 2116, 47: 2209, 48: 2304, 49: 2401, 50: 2500, 51: 2601, 52: 2704, 53: 2809, 54: 2916, 55: 3025, 56: 3136, 57: 3249, 58: 3364, 59: 3481, 60: 3600, 61: 3721, 62: 3844, 63: 3969, 64: 4096, 65: 4225, 66: 4356, 67: 4489, 68: 4624, 69: 4761, 70: 4900, 71: 5041, 72: 5184, 73: 5329, 74: 5476, 75: 5625, 76: 5776, 77: 5929, 78: 6084, 79: 6241, 80: 6400, 81: 6561, 82: 6724, 83: 6889, 84: 7056, 85: 7225, 86: 7396, 87: 7569, 88: 7744, 89: 7921, 90: 8100, 91: 8281, 92: 8464, 93: 8649, 94: 8836, 95: 9025, 96: 9216, 97: 9409, 98: 9604, 99: 9801}\n"
     ]
    }
   ],
   "source": [
    "squares={number: number ** 2 for number in range(100)}\n",
    "print(squares)"
   ]
  },
  {
   "cell_type": "code",
   "execution_count": null,
   "metadata": {},
   "outputs": [],
   "source": []
  },
  {
   "cell_type": "code",
   "execution_count": 31,
   "metadata": {},
   "outputs": [
    {
     "name": "stdout",
     "output_type": "stream",
     "text": [
      "dict_items([('foo', 'bar'), ('fizz', 'bazz'), ('spam', 'eggs')])\n"
     ]
    }
   ],
   "source": [
    "words={'foo':'bar', 'fizz':'bazz'}\n",
    "item = words.items()\n",
    "words['spam'] = 'eggs'\n",
    "print(item)\n",
    "# 视图对象\n"
   ]
  },
  {
   "cell_type": "code",
   "execution_count": null,
   "metadata": {},
   "outputs": [],
   "source": []
  },
  {
   "cell_type": "code",
   "execution_count": 32,
   "metadata": {},
   "outputs": [
    {
     "name": "stdout",
     "output_type": "stream",
     "text": [
      "{0: None, 1: None, 2: None, 3: None, 4: None}\n"
     ]
    }
   ],
   "source": [
    "a = {number : None for number in range(5)}\n",
    "print(a)"
   ]
  },
  {
   "cell_type": "code",
   "execution_count": 33,
   "metadata": {},
   "outputs": [
    {
     "name": "stdout",
     "output_type": "stream",
     "text": [
      "{'0': None, '1': None, '2': None, '3': None, '4': None}\n"
     ]
    }
   ],
   "source": [
    "b = {str(number):None for number in range(5)}\n",
    "print(b)"
   ]
  },
  {
   "cell_type": "code",
   "execution_count": 36,
   "metadata": {},
   "outputs": [
    {
     "name": "stdout",
     "output_type": "stream",
     "text": [
      "{'4': None, '3': None, '2': None, '1': None, '0': None}\n"
     ]
    }
   ],
   "source": [
    "c = {str(number):None for number in reversed(range(5))}\n",
    "print(c)"
   ]
  },
  {
   "cell_type": "code",
   "execution_count": null,
   "metadata": {},
   "outputs": [],
   "source": []
  },
  {
   "cell_type": "code",
   "execution_count": 45,
   "metadata": {},
   "outputs": [
    {
     "name": "stdout",
     "output_type": "stream",
     "text": [
      "OrderedDict([('0', 0), ('1', 1), ('2', 4), ('3', 9), ('4', 16)])\n",
      "odict_keys(['0', '1', '2', '3', '4'])\n"
     ]
    }
   ],
   "source": [
    "from collections import OrderedDict\n",
    "d = OrderedDict((str(number),number**2) for number in range(5))\n",
    "print(d)\n",
    "print(d.keys())"
   ]
  },
  {
   "cell_type": "code",
   "execution_count": null,
   "metadata": {},
   "outputs": [],
   "source": []
  },
  {
   "cell_type": "markdown",
   "metadata": {},
   "source": [
    "## 迭代器 iterator"
   ]
  },
  {
   "cell_type": "code",
   "execution_count": 47,
   "metadata": {},
   "outputs": [
    {
     "name": "stdout",
     "output_type": "stream",
     "text": [
      "3\n",
      "2\n",
      "1\n",
      "0\n"
     ]
    }
   ],
   "source": [
    "class CountDown:\n",
    "    def __init__(self, step):\n",
    "        self.step = step\n",
    "    def __next__(self):\n",
    "        if self.step <=0:\n",
    "            raise StopIteration\n",
    "        self.step -= 1\n",
    "        return self.step\n",
    "    def __iter__(self):\n",
    "        return self\n",
    "    \n",
    "for element in CountDown(4):\n",
    "    print(element)\n"
   ]
  },
  {
   "cell_type": "code",
   "execution_count": 54,
   "metadata": {},
   "outputs": [
    {
     "name": "stdout",
     "output_type": "stream",
     "text": [
      "d\n",
      "c\n",
      "b\n",
      "a\n"
     ]
    }
   ],
   "source": [
    "class CountDownList:\n",
    "    def __init__(self, tempList):\n",
    "        self.tempList = tempList\n",
    "    def __next__(self):\n",
    "        if len(self.tempList) <=0:\n",
    "            raise StopIteration\n",
    "    \n",
    "        return self.tempList.pop()\n",
    "    def __iter__(self):\n",
    "        return self\n",
    "    \n",
    "for element in CountDownList(list('abcd')):\n",
    "    print(element)"
   ]
  },
  {
   "cell_type": "code",
   "execution_count": null,
   "metadata": {},
   "outputs": [],
   "source": []
  },
  {
   "cell_type": "markdown",
   "metadata": {},
   "source": [
    "## yield"
   ]
  },
  {
   "cell_type": "code",
   "execution_count": 20,
   "metadata": {},
   "outputs": [
    {
     "name": "stdout",
     "output_type": "stream",
     "text": [
      "<generator object fabonacci at 0x019CEE40>\n",
      "1 1 2 3 5 8 13 21 34 55 89 144 233 377 610 987 1597 2584 4181 6765 "
     ]
    }
   ],
   "source": [
    "def fabonacci():\n",
    "    a, b =0, 1\n",
    "    while True:\n",
    "        yield b\n",
    "        a, b = b, a +b\n",
    "        \n",
    "        \n",
    "fib = fabonacci()\n",
    "print(fib)\n",
    "for i in range(20):\n",
    "    print(next(fib),end=\" \")"
   ]
  },
  {
   "cell_type": "code",
   "execution_count": null,
   "metadata": {},
   "outputs": [],
   "source": []
  },
  {
   "cell_type": "code",
   "execution_count": 60,
   "metadata": {},
   "outputs": [
    {
     "name": "stdout",
     "output_type": "stream",
     "text": [
      "powering 1 \n",
      "adding to 1 \n",
      "3\n",
      "powering 4 \n",
      "adding to 4 \n",
      "7\n",
      "powering 7 \n",
      "adding to 7 \n",
      "9\n"
     ]
    }
   ],
   "source": [
    "def power(values):\n",
    "    for value in values:\n",
    "        print('powering %s '% value)\n",
    "        yield value\n",
    "        \n",
    "def adder(values):\n",
    "    for value in values:\n",
    "        print('adding to %s ' % value)\n",
    "        if value % 2 ==0:\n",
    "            yield value + 3\n",
    "        else:\n",
    "            yield value + 2\n",
    "            \n",
    "elements = [ 1,4,7,9,12,19]\n",
    "\n",
    "results = adder(power(elements))\n",
    "print(next(results))\n",
    "\n",
    "print(next(results))\n",
    "\n",
    "print(next(results))\n",
    "        "
   ]
  },
  {
   "cell_type": "code",
   "execution_count": null,
   "metadata": {},
   "outputs": [],
   "source": []
  },
  {
   "cell_type": "code",
   "execution_count": null,
   "metadata": {},
   "outputs": [],
   "source": []
  },
  {
   "cell_type": "code",
   "execution_count": 67,
   "metadata": {},
   "outputs": [
    {
     "name": "stdout",
     "output_type": "stream",
     "text": [
      "Please tell me your problems\n",
      "Don't be so negative\n",
      "Don't ask yourself too much questions \n",
      "Ahh that't good, go on\n"
     ]
    }
   ],
   "source": [
    "def psychologist():\n",
    "    print('Please tell me your problems')\n",
    "    while True:\n",
    "        answer = (yield)\n",
    "        if answer is not None:\n",
    "            if answer.endswith('?'):\n",
    "                print(\"Don't ask yourself too much questions \")\n",
    "            elif 'good' in answer:\n",
    "                print(\"Ahh that't good, go on\")\n",
    "            elif 'bad' in answer:\n",
    "                print(\"Don't be so negative\")\n",
    "                \n",
    "\n",
    "                \n",
    "free = psychologist()\n",
    "next(free)\n",
    "free.send('I feel bad')\n",
    "free.send(\"Why I should't ?\")\n",
    "free.send(\"ok then i should find what is good for me\")"
   ]
  },
  {
   "cell_type": "markdown",
   "metadata": {},
   "source": [
    "## 装饰器"
   ]
  },
  {
   "cell_type": "code",
   "execution_count": 72,
   "metadata": {},
   "outputs": [
    {
     "name": "stdout",
     "output_type": "stream",
     "text": [
      "foo\n",
      "foo\n",
      "foo\n"
     ]
    }
   ],
   "source": [
    "def repeat(number=3):\n",
    "    def actual_decorator(function):\n",
    "        def wrapper(*args, **kwargs):\n",
    "            result = None \n",
    "            for _ in range(number):\n",
    "                result = function(*args, **kwargs)\n",
    "            return result\n",
    "        return wrapper\n",
    "    return actual_decorator\n",
    "\n",
    "\n",
    "\n",
    "@repeat(3)\n",
    "def foo():\n",
    "    print(\"foo\")\n",
    "    \n",
    "foo()"
   ]
  },
  {
   "cell_type": "code",
   "execution_count": null,
   "metadata": {},
   "outputs": [],
   "source": []
  },
  {
   "cell_type": "markdown",
   "metadata": {},
   "source": [
    "## 代理"
   ]
  },
  {
   "cell_type": "code",
   "execution_count": 8,
   "metadata": {},
   "outputs": [
    {
     "name": "stdout",
     "output_type": "stream",
     "text": [
      "----- user\n"
     ]
    },
    {
     "ename": "Unauthorized",
     "evalue": "I won't tell you",
     "output_type": "error",
     "traceback": [
      "\u001b[1;31m---------------------------------------------------------------------------\u001b[0m",
      "\u001b[1;31mUnauthorized\u001b[0m                              Traceback (most recent call last)",
      "\u001b[1;32m<ipython-input-8-00fb2ace801f>\u001b[0m in \u001b[0;36m<module>\u001b[1;34m\u001b[0m\n\u001b[0;32m     31\u001b[0m \u001b[1;33m\u001b[0m\u001b[0m\n\u001b[0;32m     32\u001b[0m \u001b[0muser\u001b[0m \u001b[1;33m=\u001b[0m \u001b[0mbill\u001b[0m\u001b[1;33m\u001b[0m\u001b[0m\n\u001b[1;32m---> 33\u001b[1;33m \u001b[0mthese_are\u001b[0m\u001b[1;33m.\u001b[0m\u001b[0mwaffle_recipe\u001b[0m\u001b[1;33m(\u001b[0m\u001b[1;33m)\u001b[0m\u001b[1;33m\u001b[0m\u001b[0m\n\u001b[0m",
      "\u001b[1;32m<ipython-input-8-00fb2ace801f>\u001b[0m in \u001b[0;36m__protect\u001b[1;34m(*args, **kw)\u001b[0m\n\u001b[0;32m     12\u001b[0m             \u001b[0mprint\u001b[0m\u001b[1;33m(\u001b[0m\u001b[1;34m\"-----\"\u001b[0m\u001b[1;33m,\u001b[0m\u001b[0muser\u001b[0m\u001b[1;33m.\u001b[0m\u001b[0mroles\u001b[0m\u001b[1;33m)\u001b[0m\u001b[1;33m\u001b[0m\u001b[0m\n\u001b[0;32m     13\u001b[0m             \u001b[1;32mif\u001b[0m \u001b[0muser\u001b[0m \u001b[1;32mis\u001b[0m \u001b[1;32mNone\u001b[0m \u001b[1;32mor\u001b[0m \u001b[0mrole\u001b[0m \u001b[1;32mnot\u001b[0m \u001b[1;32min\u001b[0m \u001b[0muser\u001b[0m\u001b[1;33m.\u001b[0m\u001b[0mroles\u001b[0m\u001b[1;33m:\u001b[0m\u001b[1;33m\u001b[0m\u001b[0m\n\u001b[1;32m---> 14\u001b[1;33m                 \u001b[1;32mraise\u001b[0m \u001b[0mUnauthorized\u001b[0m\u001b[1;33m(\u001b[0m\u001b[1;34m\"I won't tell you\"\u001b[0m\u001b[1;33m)\u001b[0m\u001b[1;33m\u001b[0m\u001b[0m\n\u001b[0m\u001b[0;32m     15\u001b[0m             \u001b[1;32mreturn\u001b[0m \u001b[0mfunction\u001b[0m\u001b[1;33m(\u001b[0m\u001b[1;33m*\u001b[0m\u001b[0margs\u001b[0m\u001b[1;33m,\u001b[0m \u001b[1;33m**\u001b[0m\u001b[0mkw\u001b[0m\u001b[1;33m)\u001b[0m\u001b[1;33m\u001b[0m\u001b[0m\n\u001b[0;32m     16\u001b[0m         \u001b[1;32mreturn\u001b[0m \u001b[0m__protect\u001b[0m\u001b[1;33m\u001b[0m\u001b[0m\n",
      "\u001b[1;31mUnauthorized\u001b[0m: I won't tell you"
     ]
    }
   ],
   "source": [
    "class User(object):\n",
    "    def __init__(self,roles):\n",
    "        self.roles = roles\n",
    "        \n",
    "class Unauthorized(Exception):\n",
    "    pass\n",
    "\n",
    "def protect(role):\n",
    "    def _protect(function):\n",
    "        def __protect(*args, **kw):\n",
    "            user = globals().get('user')\n",
    "            print(\"-----\",user.roles)\n",
    "            if user is None or role not in user.roles:\n",
    "                raise Unauthorized(\"I won't tell you\")\n",
    "            return function(*args, **kw)\n",
    "        return __protect\n",
    "    return _protect\n",
    "\n",
    "\n",
    "tarek = User(('admin','user'))\n",
    "bill = User(('user'))\n",
    "\n",
    "class MySecrets(object):\n",
    "    @protect('admin')\n",
    "    def waffle_recipe(self):\n",
    "        print('use tons of butter!')\n",
    "        \n",
    "these_are = MySecrets()\n",
    "# user = tarek\n",
    "# these_are.waffle_recipe()\n",
    "\n",
    "user = bill\n",
    "these_are.waffle_recipe()"
   ]
  },
  {
   "cell_type": "code",
   "execution_count": null,
   "metadata": {},
   "outputs": [],
   "source": []
  },
  {
   "cell_type": "markdown",
   "metadata": {},
   "source": [
    "## with 语句"
   ]
  },
  {
   "cell_type": "code",
   "execution_count": 9,
   "metadata": {},
   "outputs": [
    {
     "name": "stdout",
     "output_type": "stream",
     "text": [
      "1111\n",
      "2222\n",
      "3333\n",
      "4444\n",
      "5555\n"
     ]
    }
   ],
   "source": [
    "with open('e:/2.txt') as test:\n",
    "    for line in test:\n",
    "        if line.startswith('#'):\n",
    "            continue\n",
    "        print(line.strip())"
   ]
  },
  {
   "cell_type": "code",
   "execution_count": null,
   "metadata": {},
   "outputs": [],
   "source": []
  },
  {
   "cell_type": "code",
   "execution_count": 14,
   "metadata": {},
   "outputs": [
    {
     "name": "stdout",
     "output_type": "stream",
     "text": [
      "entering context\n",
      "inside\n",
      "leaving context\n",
      "with no error\n",
      "\n",
      "entering context\n",
      "leaving context\n",
      "with an error(raised within 'with')\n"
     ]
    },
    {
     "ename": "RuntimeError",
     "evalue": "raised within 'with'",
     "output_type": "error",
     "traceback": [
      "\u001b[1;31m---------------------------------------------------------------------------\u001b[0m",
      "\u001b[1;31mRuntimeError\u001b[0m                              Traceback (most recent call last)",
      "\u001b[1;32m<ipython-input-14-bd846a33b225>\u001b[0m in \u001b[0;36m<module>\u001b[1;34m\u001b[0m\n\u001b[0;32m     17\u001b[0m \u001b[1;33m\u001b[0m\u001b[0m\n\u001b[0;32m     18\u001b[0m \u001b[1;32mwith\u001b[0m \u001b[0mContextIllustration\u001b[0m\u001b[1;33m(\u001b[0m\u001b[1;33m)\u001b[0m \u001b[1;32mas\u001b[0m \u001b[0mcontext\u001b[0m\u001b[1;33m:\u001b[0m\u001b[1;33m\u001b[0m\u001b[0m\n\u001b[1;32m---> 19\u001b[1;33m     \u001b[1;32mraise\u001b[0m \u001b[0mRuntimeError\u001b[0m\u001b[1;33m(\u001b[0m\u001b[1;34m\"raised within 'with'\"\u001b[0m\u001b[1;33m)\u001b[0m\u001b[1;33m\u001b[0m\u001b[0m\n\u001b[0m",
      "\u001b[1;31mRuntimeError\u001b[0m: raised within 'with'"
     ]
    }
   ],
   "source": [
    "class ContextIllustration:\n",
    "    def __enter__(self):\n",
    "        print(\"entering context\")\n",
    "    \n",
    "    def __exit__(self, exc_type, exc_value, traceback):\n",
    "        print(\"leaving context\")\n",
    "        \n",
    "        if exc_type is None:\n",
    "            print(\"with no error\")\n",
    "        else:\n",
    "            print(\"with an error(%s)\" % exc_value)\n",
    "            \n",
    "with ContextIllustration():\n",
    "    print(\"inside\")\n",
    "    \n",
    "print()\n",
    "    \n",
    "with ContextIllustration() as context:\n",
    "    raise RuntimeError(\"raised within 'with'\")"
   ]
  },
  {
   "cell_type": "code",
   "execution_count": null,
   "metadata": {},
   "outputs": [],
   "source": []
  },
  {
   "cell_type": "code",
   "execution_count": 25,
   "metadata": {},
   "outputs": [
    {
     "name": "stdout",
     "output_type": "stream",
     "text": [
      "entering context\n",
      "aa\n",
      "bb\n",
      "leaving context\n",
      "with an error (111111)\n"
     ]
    }
   ],
   "source": [
    "from contextlib import contextmanager\n",
    "\n",
    "@contextmanager\n",
    "def context_illustration():\n",
    "    print(\"entering context\")\n",
    "    \n",
    "    try:\n",
    "        yield\n",
    "    except Exception as e:\n",
    "        print(\"leaving context\")\n",
    "        print(\"with an error (%s)\" % e)\n",
    "    else:\n",
    "        print(\"leaving context\")\n",
    "        print(\"with no error\")\n",
    "        \n",
    "with context_illustration():\n",
    "    print(\"aa\")\n",
    "    print(\"bb\")\n",
    "    raise RuntimeError(\"111111\")\n"
   ]
  },
  {
   "cell_type": "code",
   "execution_count": null,
   "metadata": {},
   "outputs": [],
   "source": []
  },
  {
   "cell_type": "code",
   "execution_count": 26,
   "metadata": {},
   "outputs": [
    {
     "name": "stdout",
     "output_type": "stream",
     "text": [
      "<h1>\n",
      "hello\n",
      "world\n",
      "</h1>\n"
     ]
    }
   ],
   "source": [
    "@contextmanager\n",
    "def tag(name):\n",
    "    print(\"<%s>\" % name)\n",
    "    yield\n",
    "    print(\"</%s>\" % name)\n",
    "    \n",
    "with tag(\"h1\"):\n",
    "    print(\"hello\")\n",
    "    print(\"world\")"
   ]
  },
  {
   "cell_type": "code",
   "execution_count": null,
   "metadata": {},
   "outputs": [],
   "source": []
  },
  {
   "cell_type": "code",
   "execution_count": 28,
   "metadata": {},
   "outputs": [
    {
     "name": "stdout",
     "output_type": "stream",
     "text": [
      "break\n"
     ]
    }
   ],
   "source": [
    "for number in range(2):\n",
    "    break\n",
    "else:\n",
    "    print(\"no break\")\n",
    "    \n",
    "    \n",
    "for number in range(2):\n",
    "    pass\n",
    "else:\n",
    "    print(\"break\")"
   ]
  },
  {
   "cell_type": "code",
   "execution_count": null,
   "metadata": {},
   "outputs": [],
   "source": []
  },
  {
   "cell_type": "markdown",
   "metadata": {},
   "source": [
    "## 函数注解"
   ]
  },
  {
   "cell_type": "code",
   "execution_count": 34,
   "metadata": {},
   "outputs": [
    {
     "name": "stdout",
     "output_type": "stream",
     "text": [
      "{'ham': <class 'bool'>, 'eggs': <class 'str'>, 'return': <class 'str'>}\n"
     ]
    }
   ],
   "source": [
    "def f(ham: bool, eggs: str=\"aaa\") -> str:\n",
    "    pass\n",
    "\n",
    "print(f.__annotations__)"
   ]
  },
  {
   "cell_type": "code",
   "execution_count": null,
   "metadata": {},
   "outputs": [],
   "source": []
  },
  {
   "cell_type": "code",
   "execution_count": null,
   "metadata": {},
   "outputs": [],
   "source": []
  },
  {
   "cell_type": "markdown",
   "metadata": {},
   "source": [
    "# 类级别以上"
   ]
  },
  {
   "cell_type": "markdown",
   "metadata": {},
   "source": [
    "## 子类化内置类型"
   ]
  },
  {
   "cell_type": "code",
   "execution_count": 35,
   "metadata": {},
   "outputs": [
    {
     "ename": "DistinctError",
     "evalue": "This value already exists for different key",
     "output_type": "error",
     "traceback": [
      "\u001b[1;31m---------------------------------------------------------------------------\u001b[0m",
      "\u001b[1;31mDistinctError\u001b[0m                             Traceback (most recent call last)",
      "\u001b[1;32m<ipython-input-35-a866feb49675>\u001b[0m in \u001b[0;36m<module>\u001b[1;34m\u001b[0m\n\u001b[0;32m     15\u001b[0m \u001b[0mmy\u001b[0m\u001b[1;33m[\u001b[0m\u001b[1;34m'key'\u001b[0m\u001b[1;33m]\u001b[0m \u001b[1;33m=\u001b[0m \u001b[1;34m'value'\u001b[0m\u001b[1;33m\u001b[0m\u001b[0m\n\u001b[0;32m     16\u001b[0m \u001b[0mmy\u001b[0m\u001b[1;33m[\u001b[0m\u001b[1;34m'key1'\u001b[0m\u001b[1;33m]\u001b[0m \u001b[1;33m=\u001b[0m \u001b[1;34m'value1'\u001b[0m\u001b[1;33m\u001b[0m\u001b[0m\n\u001b[1;32m---> 17\u001b[1;33m \u001b[0mmy\u001b[0m\u001b[1;33m[\u001b[0m\u001b[1;34m'key1'\u001b[0m\u001b[1;33m]\u001b[0m \u001b[1;33m=\u001b[0m \u001b[1;34m'value'\u001b[0m\u001b[1;33m\u001b[0m\u001b[0m\n\u001b[0m",
      "\u001b[1;32m<ipython-input-35-a866feb49675>\u001b[0m in \u001b[0;36m__setitem__\u001b[1;34m(self, key, value)\u001b[0m\n\u001b[0;32m      6\u001b[0m         \u001b[1;32mif\u001b[0m \u001b[0mvalue\u001b[0m \u001b[1;32min\u001b[0m \u001b[0mself\u001b[0m\u001b[1;33m.\u001b[0m\u001b[0mvalues\u001b[0m\u001b[1;33m(\u001b[0m\u001b[1;33m)\u001b[0m\u001b[1;33m:\u001b[0m\u001b[1;33m\u001b[0m\u001b[0m\n\u001b[0;32m      7\u001b[0m             \u001b[1;32mif\u001b[0m \u001b[1;33m(\u001b[0m\u001b[1;33m(\u001b[0m\u001b[0mkey\u001b[0m \u001b[1;32min\u001b[0m \u001b[0mself\u001b[0m \u001b[1;32mand\u001b[0m \u001b[0mself\u001b[0m\u001b[1;33m[\u001b[0m\u001b[0mkey\u001b[0m\u001b[1;33m]\u001b[0m \u001b[1;33m!=\u001b[0m\u001b[0mvalue\u001b[0m\u001b[1;33m)\u001b[0m \u001b[1;32mor\u001b[0m \u001b[0mkey\u001b[0m \u001b[1;32mnot\u001b[0m \u001b[1;32min\u001b[0m \u001b[0mself\u001b[0m\u001b[1;33m)\u001b[0m\u001b[1;33m:\u001b[0m\u001b[1;33m\u001b[0m\u001b[0m\n\u001b[1;32m----> 8\u001b[1;33m                 \u001b[1;32mraise\u001b[0m \u001b[0mDistinctError\u001b[0m\u001b[1;33m(\u001b[0m\u001b[1;34m\"This value already exists for different key\"\u001b[0m\u001b[1;33m)\u001b[0m\u001b[1;33m\u001b[0m\u001b[0m\n\u001b[0m\u001b[0;32m      9\u001b[0m \u001b[1;33m\u001b[0m\u001b[0m\n\u001b[0;32m     10\u001b[0m         \u001b[0msuper\u001b[0m\u001b[1;33m(\u001b[0m\u001b[1;33m)\u001b[0m\u001b[1;33m.\u001b[0m\u001b[0m__setitem__\u001b[0m\u001b[1;33m(\u001b[0m\u001b[0mkey\u001b[0m\u001b[1;33m,\u001b[0m \u001b[0mvalue\u001b[0m\u001b[1;33m)\u001b[0m\u001b[1;33m\u001b[0m\u001b[0m\n",
      "\u001b[1;31mDistinctError\u001b[0m: This value already exists for different key"
     ]
    }
   ],
   "source": [
    "class DistinctError(ValueError):\n",
    "    \"test\"\n",
    "\n",
    "class distinctdict(dict):\n",
    "    def __setitem__(self, key, value):\n",
    "        if value in self.values():\n",
    "            if ((key in self and self[key] !=value) or key not in self):\n",
    "                raise DistinctError(\"This value already exists for different key\")\n",
    "\n",
    "        super().__setitem__(key, value)\n",
    "\n",
    "\n",
    "\n",
    "my = distinctdict()\n",
    "my['key'] = 'value'\n",
    "my['key1'] = 'value1'\n",
    "my['key1'] = 'value'"
   ]
  },
  {
   "cell_type": "code",
   "execution_count": null,
   "metadata": {},
   "outputs": [],
   "source": []
  },
  {
   "cell_type": "code",
   "execution_count": 39,
   "metadata": {},
   "outputs": [
    {
     "name": "stdout",
     "output_type": "stream",
     "text": [
      "project/\n",
      " README.md\n",
      " src/\n",
      "  script.py\n"
     ]
    }
   ],
   "source": [
    "# 利用了list的dir属性\n",
    "class Folder(list):\n",
    "    def __init__(self, name):\n",
    "        self.name = name\n",
    "\n",
    "    def dir(self, nesting=0):\n",
    "        offset = \" \" * nesting\n",
    "        print(\"%s%s/\" % (offset, self.name))\n",
    "\n",
    "        for element in self:\n",
    "            if hasattr(element, 'dir'):\n",
    "                element.dir(nesting + 1)\n",
    "            else:\n",
    "                print(\"%s %s\" % (offset, element))\n",
    "\n",
    "\n",
    "\n",
    "tree = Folder('project')\n",
    "tree.append(\"README.md\")\n",
    "\n",
    "src = Folder('src')\n",
    "src.append('script.py')\n",
    "\n",
    "tree.append(src)\n",
    "\n",
    "tree.dir()"
   ]
  },
  {
   "cell_type": "code",
   "execution_count": null,
   "metadata": {},
   "outputs": [],
   "source": []
  },
  {
   "cell_type": "code",
   "execution_count": 41,
   "metadata": {},
   "outputs": [
    {
     "name": "stdout",
     "output_type": "stream",
     "text": [
      "do your homework\n",
      "and clean your bedroom\n"
     ]
    }
   ],
   "source": [
    "class Mama:\n",
    "    def says(self):\n",
    "        print(\"do your homework\")\n",
    "        \n",
    "class Sister(Mama):\n",
    "    def says(self):\n",
    "        super().says()\n",
    "        print(\"and clean your bedroom\")\n",
    "        \n",
    "Sister().says()\n"
   ]
  },
  {
   "cell_type": "code",
   "execution_count": 42,
   "metadata": {},
   "outputs": [
    {
     "name": "stdout",
     "output_type": "stream",
     "text": [
      "<class '__main__.VikingPizza'>\n",
      "Pizza with spam and ham and eggs and spam and spam and spam and spam and spam\n"
     ]
    }
   ],
   "source": [
    "class Pizza:\n",
    "    def __init__(self, toppings):\n",
    "        self.toppings = toppings\n",
    "\n",
    "    def __repr__(self):\n",
    "        return \"Pizza with \" + \" and \".join(self.toppings)\n",
    "\n",
    "    @classmethod\n",
    "    def recommend(cls):\n",
    "        return cls(['spam','ham','eggs'])\n",
    "\n",
    "\n",
    "class VikingPizza(Pizza):\n",
    "    @classmethod\n",
    "    def recommend(cls):\n",
    "        recommneded = super().recommend()\n",
    "        print(type(recommneded))\n",
    "        recommneded.toppings +=['spam']*5\n",
    "        return recommneded\n",
    "\n",
    "\n",
    "print(VikingPizza.recommend())"
   ]
  },
  {
   "cell_type": "code",
   "execution_count": null,
   "metadata": {},
   "outputs": [],
   "source": []
  },
  {
   "cell_type": "code",
   "execution_count": null,
   "metadata": {},
   "outputs": [],
   "source": []
  },
  {
   "cell_type": "code",
   "execution_count": null,
   "metadata": {},
   "outputs": [],
   "source": []
  },
  {
   "cell_type": "code",
   "execution_count": null,
   "metadata": {},
   "outputs": [],
   "source": []
  },
  {
   "cell_type": "code",
   "execution_count": null,
   "metadata": {},
   "outputs": [],
   "source": []
  },
  {
   "cell_type": "code",
   "execution_count": null,
   "metadata": {},
   "outputs": [],
   "source": []
  },
  {
   "cell_type": "code",
   "execution_count": null,
   "metadata": {},
   "outputs": [],
   "source": []
  },
  {
   "cell_type": "code",
   "execution_count": null,
   "metadata": {},
   "outputs": [],
   "source": []
  },
  {
   "cell_type": "code",
   "execution_count": null,
   "metadata": {},
   "outputs": [],
   "source": []
  },
  {
   "cell_type": "code",
   "execution_count": null,
   "metadata": {},
   "outputs": [],
   "source": []
  },
  {
   "cell_type": "code",
   "execution_count": null,
   "metadata": {},
   "outputs": [],
   "source": []
  },
  {
   "cell_type": "code",
   "execution_count": null,
   "metadata": {},
   "outputs": [],
   "source": []
  },
  {
   "cell_type": "code",
   "execution_count": null,
   "metadata": {},
   "outputs": [],
   "source": []
  },
  {
   "cell_type": "code",
   "execution_count": null,
   "metadata": {},
   "outputs": [],
   "source": []
  }
 ],
 "metadata": {
  "kernelspec": {
   "display_name": "Python 3",
   "language": "python",
   "name": "python3"
  },
  "language_info": {
   "codemirror_mode": {
    "name": "ipython",
    "version": 3
   },
   "file_extension": ".py",
   "mimetype": "text/x-python",
   "name": "python",
   "nbconvert_exporter": "python",
   "pygments_lexer": "ipython3",
   "version": "3.6.2"
  },
  "toc": {
   "base_numbering": 1,
   "nav_menu": {},
   "number_sections": true,
   "sideBar": true,
   "skip_h1_title": false,
   "title_cell": "Table of Contents",
   "title_sidebar": "Contents",
   "toc_cell": false,
   "toc_position": {
    "height": "calc(100% - 180px)",
    "left": "10px",
    "top": "150px",
    "width": "426.823px"
   },
   "toc_section_display": true,
   "toc_window_display": true
  }
 },
 "nbformat": 4,
 "nbformat_minor": 2
}
