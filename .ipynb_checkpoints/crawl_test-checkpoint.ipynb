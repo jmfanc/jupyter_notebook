{
 "cells": [
  {
   "cell_type": "markdown",
   "metadata": {},
   "source": [
    "# Pandas教程"
   ]
  },
  {
   "cell_type": "markdown",
   "metadata": {},
   "source": [
    "# 快速入门"
   ]
  },
  {
   "cell_type": "code",
   "execution_count": null,
   "metadata": {},
   "outputs": [],
   "source": []
  },
  {
   "cell_type": "code",
   "execution_count": 34,
   "metadata": {
    "scrolled": false
   },
   "outputs": [
    {
     "name": "stdout",
     "output_type": "stream",
     "text": [
      "Hello Pandas\n",
      "0    1.0\n",
      "1    3.0\n",
      "2    5.0\n",
      "3    NaN\n",
      "4    6.0\n",
      "5    7.0\n",
      "6    8.0\n",
      "dtype: float64\n"
     ]
    }
   ],
   "source": [
    "import pandas as pd\n",
    "import numpy as np\n",
    "import matplotlib.pyplot as plt\n",
    "print('Hello Pandas')\n",
    "\n",
    "s = pd.Series([1, 3, 5, np.nan, 6, 7, 8])\n",
    "print(s)"
   ]
  },
  {
   "cell_type": "code",
   "execution_count": 66,
   "metadata": {
    "scrolled": true
   },
   "outputs": [
    {
     "name": "stdout",
     "output_type": "stream",
     "text": [
      "DatetimeIndex(['2017-01-01', '2017-01-02', '2017-01-03', '2017-01-04',\n",
      "               '2017-01-05', '2017-01-06', '2017-01-07'],\n",
      "              dtype='datetime64[ns]', freq='D')\n",
      "----------------------------------------------------------------\n",
      "                   A         B         C         D\n",
      "2017-01-01  0.143218  0.326309 -0.946864  0.394915\n",
      "2017-01-02 -1.849739 -0.399722 -0.562405  1.430332\n",
      "2017-01-03  0.155521 -0.295276 -1.698716 -0.545851\n",
      "2017-01-04  0.511151  1.409203  0.395956  0.437568\n",
      "2017-01-05 -1.706370  0.637535 -1.814295 -0.205599\n",
      "2017-01-06  1.110039  0.035485 -0.519201 -1.048448\n",
      "2017-01-07 -1.220676  0.335102 -0.312121 -0.397761\n",
      "DatetimeIndex(['2017-01-01', '2017-01-02', '2017-01-03', '2017-01-04',\n",
      "               '2017-01-05', '2017-01-06', '2017-01-07'],\n",
      "              dtype='datetime64[ns]', freq='D')\n"
     ]
    }
   ],
   "source": [
    "import pandas as pd\n",
    "import numpy as np\n",
    "dates = pd.date_range('20170101', periods=7)\n",
    "print(dates)\n",
    "\n",
    "print(\"--\" * 32)\n",
    "df = pd.DataFrame(np.random.randn(7, 4), index=dates, columns=list('ABCD'))\n",
    "print(df)\n",
    "print(df.index)"
   ]
  },
  {
   "cell_type": "code",
   "execution_count": 72,
   "metadata": {},
   "outputs": [
    {
     "name": "stdout",
     "output_type": "stream",
     "text": [
      "     A          B    C  D      E    F\n",
      "0  1.0 2017-01-02  1.0  3   test  foo\n",
      "1  1.0 2017-01-02  1.0  3  train  foo\n",
      "2  1.0 2017-01-02  1.0  3   test  foo\n",
      "3  1.0 2017-01-02  1.0  3  train  foo\n",
      "4  1.0 2017-01-02  1.0  3    xxx  foo\n",
      "****************************************************************\n",
      "     A          B    C  D      E    F\n",
      "0  1.0 2017-01-02  1.0  3   test  foo\n",
      "1  1.0 2017-01-02  1.0  3  train  foo\n",
      "****************************************************************\n",
      "     A          B    C  D      E    F\n",
      "3  1.0 2017-01-02  1.0  3  train  foo\n",
      "4  1.0 2017-01-02  1.0  3    xxx  foo\n",
      "****************************************************************\n",
      "Int64Index([0, 1, 2, 3, 4], dtype='int64')\n",
      "****************************************************************\n",
      "Index(['A', 'B', 'C', 'D', 'E', 'F'], dtype='object')\n",
      "****************************************************************\n",
      "[[1.0 Timestamp('2017-01-02 00:00:00') 1.0 3 'test' 'foo']\n",
      " [1.0 Timestamp('2017-01-02 00:00:00') 1.0 3 'train' 'foo']\n",
      " [1.0 Timestamp('2017-01-02 00:00:00') 1.0 3 'test' 'foo']\n",
      " [1.0 Timestamp('2017-01-02 00:00:00') 1.0 3 'train' 'foo']\n",
      " [1.0 Timestamp('2017-01-02 00:00:00') 1.0 3 'xxx' 'foo']]\n",
      "****************************************************************\n",
      "         A    C    D\n",
      "count  5.0  5.0  5.0\n",
      "mean   1.0  1.0  3.0\n",
      "std    0.0  0.0  0.0\n",
      "min    1.0  1.0  3.0\n",
      "25%    1.0  1.0  3.0\n",
      "50%    1.0  1.0  3.0\n",
      "75%    1.0  1.0  3.0\n",
      "max    1.0  1.0  3.0\n",
      "****************************************************************\n",
      "                     0                    1                    2  \\\n",
      "A                    1                    1                    1   \n",
      "B  2017-01-02 00:00:00  2017-01-02 00:00:00  2017-01-02 00:00:00   \n",
      "C                    1                    1                    1   \n",
      "D                    3                    3                    3   \n",
      "E                 test                train                 test   \n",
      "F                  foo                  foo                  foo   \n",
      "\n",
      "                     3                    4  \n",
      "A                    1                    1  \n",
      "B  2017-01-02 00:00:00  2017-01-02 00:00:00  \n",
      "C                    1                    1  \n",
      "D                    3                    3  \n",
      "E                train                  xxx  \n",
      "F                  foo                  foo  \n",
      "****************************************************************\n",
      "     A          B    C  D      E    F\n",
      "0  1.0 2017-01-02  1.0  3   test  foo\n",
      "1  1.0 2017-01-02  1.0  3  train  foo\n",
      "2  1.0 2017-01-02  1.0  3   test  foo\n",
      "3  1.0 2017-01-02  1.0  3  train  foo\n",
      "4  1.0 2017-01-02  1.0  3    xxx  foo\n"
     ]
    }
   ],
   "source": [
    "import pandas as pd\n",
    "import numpy as np\n",
    "\n",
    "df2 = pd.DataFrame({\n",
    "    'A':\n",
    "    1.,\n",
    "    'B':\n",
    "    pd.Timestamp('20170102'),\n",
    "    'C':\n",
    "    pd.Series(1, index=list(range(5)), dtype='float32'),\n",
    "    'D':\n",
    "    np.array([3] * 5, dtype='int32'),\n",
    "    'E':\n",
    "    pd.Categorical([\"test\", \"train\", \"test\", \"train\", \"xxx\"]),\n",
    "    'F':\n",
    "    'foo'\n",
    "})\n",
    "\n",
    "print(df2)\n",
    "print(\"*\" * 64)\n",
    "print(df2.head(2))\n",
    "print(\"*\" * 64)\n",
    "print(df2.tail(2))\n",
    "print(\"*\" * 64)\n",
    "print(df2.index)\n",
    "print(\"*\" * 64)\n",
    "print(df2.columns)\n",
    "print(\"*\" * 64)\n",
    "print(df2.values)\n",
    "print(\"*\" * 64)\n",
    "print(df2.describe())\n",
    "print(\"*\" * 64)\n",
    "print(df2.T)\n",
    "print(\"*\" * 64)\n",
    "print(df2.sort_values(by='B'))"
   ]
  },
  {
   "cell_type": "markdown",
   "metadata": {},
   "source": [
    "> 选择区块、切片"
   ]
  },
  {
   "cell_type": "code",
   "execution_count": 79,
   "metadata": {
    "code_folding": []
   },
   "outputs": [
    {
     "name": "stdout",
     "output_type": "stream",
     "text": [
      "                   A         B         C         D\n",
      "2018-01-01 -1.015643  0.091518 -0.081288  0.909990\n",
      "2018-01-02 -0.478897  0.251358 -0.273559  2.352527\n",
      "2018-01-03  0.962432 -0.516008  0.436461  0.118157\n",
      "2018-01-04  0.271647 -0.784662  0.777004 -0.110123\n",
      "2018-01-05  1.262611 -0.665332  0.330855  0.190075\n",
      "2018-01-06 -1.656809  1.558694 -1.615019 -2.237238\n",
      "****************************************************************\n",
      "2018-01-01   -1.015643\n",
      "2018-01-02   -0.478897\n",
      "2018-01-03    0.962432\n",
      "2018-01-04    0.271647\n",
      "2018-01-05    1.262611\n",
      "2018-01-06   -1.656809\n",
      "Freq: D, Name: A, dtype: float64\n",
      "****************************************************************\n",
      "                   A         B         C         D\n",
      "2018-01-01 -1.015643  0.091518 -0.081288  0.909990\n",
      "2018-01-02 -0.478897  0.251358 -0.273559  2.352527\n",
      "2018-01-03  0.962432 -0.516008  0.436461  0.118157\n"
     ]
    }
   ],
   "source": [
    "import pandas as pd\n",
    "import numpy as np\n",
    "\n",
    "dates = pd.date_range('20180101', periods=6)\n",
    "df = pd.DataFrame(np.random.randn(6, 4), index=dates, columns=list('ABCD'))\n",
    "print(df)\n",
    "print(\"*\" * 64)\n",
    "print(df['A'])\n",
    "print(\"*\" * 64)\n",
    "print(df[0:3])"
   ]
  },
  {
   "cell_type": "markdown",
   "metadata": {},
   "source": [
    "> 按标签选择"
   ]
  },
  {
   "cell_type": "code",
   "execution_count": 107,
   "metadata": {},
   "outputs": [
    {
     "name": "stdout",
     "output_type": "stream",
     "text": [
      "                   A         B         C         D\n",
      "2017-01-01 -0.448796  0.209118 -0.052474 -0.327849\n",
      "2017-01-02  0.228578 -1.470002  0.437339 -0.004289\n",
      "2017-01-03  0.841518  0.286827 -0.336878 -0.021689\n",
      "2017-01-04  0.781626  0.152199 -0.213269 -0.083767\n",
      "2017-01-05 -0.390550  0.009070 -1.337393  0.318684\n",
      "2017-01-06  0.758396 -1.538492 -0.122131  0.303938\n",
      "****************************************************************\n",
      "A   -0.448796\n",
      "B    0.209118\n",
      "C   -0.052474\n",
      "D   -0.327849\n",
      "Name: 2017-01-01 00:00:00, dtype: float64\n",
      "A    0.228578\n",
      "B   -1.470002\n",
      "C    0.437339\n",
      "D   -0.004289\n",
      "Name: 2017-01-02 00:00:00, dtype: float64\n",
      "****************************************************************\n",
      "                   A         B\n",
      "2017-01-03  0.841518  0.286827\n",
      "2017-01-04  0.781626  0.152199\n",
      "2017-01-05 -0.390550  0.009070\n",
      "****************************************************************\n",
      "                   A         B\n",
      "2017-01-01 -0.448796  0.209118\n",
      "2017-01-02  0.228578 -1.470002\n",
      "2017-01-03  0.841518  0.286827\n",
      "2017-01-04  0.781626  0.152199\n",
      "2017-01-05 -0.390550  0.009070\n",
      "2017-01-06  0.758396 -1.538492\n",
      "****************************************************************\n",
      "                   A         B\n",
      "2017-01-03  0.841518  0.286827\n",
      "2017-01-04  0.781626  0.152199\n",
      "2017-01-05 -0.390550  0.009070\n",
      "2017-01-06  0.758396 -1.538492\n",
      "****************************************************************\n",
      "A   -0.448796\n",
      "Name: 2017-01-01 00:00:00, dtype: float64\n"
     ]
    }
   ],
   "source": [
    "import pandas as pd\n",
    "import numpy as np\n",
    "\n",
    "dates = pd.date_range('20170101', periods=6)\n",
    "df = pd.DataFrame(np.random.randn(6, 4), index=dates, columns=list('ABCD'))\n",
    "print(df)\n",
    "\n",
    "print(\"*\" * 64)\n",
    "print(df.loc[dates[0]])\n",
    "print(df.loc[dates[1]])\n",
    "\n",
    "print(\"*\" * 64)\n",
    "# dates[2:5] 选择2,3,4行，['A','B']选择A,B两列\n",
    "print(df.loc[dates[2:5], ['A', 'B']])\n",
    "print(\"*\" * 64)\n",
    "print(df.loc[:, ['A', 'B']])\n",
    "print(\"*\" * 64)\n",
    "print(df.loc['2017-01-03':'2017-01-06', ['A', 'B']])\n",
    "print(\"*\" * 64)\n",
    "print(df.loc[dates[0], ['A']])"
   ]
  },
  {
   "cell_type": "markdown",
   "metadata": {},
   "source": [
    "> 通过位置选择"
   ]
  },
  {
   "cell_type": "code",
   "execution_count": 8,
   "metadata": {},
   "outputs": [
    {
     "name": "stdout",
     "output_type": "stream",
     "text": [
      "                   A         B         C         D\n",
      "2017-01-01  2.120013 -1.052269  0.861289 -0.800569\n",
      "2017-01-02  1.178154  0.639333 -0.394989  0.628160\n",
      "2017-01-03 -1.379316 -1.622673  1.913673 -0.901240\n",
      "2017-01-04  0.711463  0.233847  0.865784  0.304282\n",
      "2017-01-05 -2.777636 -2.257666 -0.461128  1.688954\n",
      "2017-01-06  0.828544  1.263911 -0.879439 -0.686622\n",
      "****************************************************************\n",
      "A    0.711463\n",
      "B    0.233847\n",
      "C    0.865784\n",
      "D    0.304282\n",
      "Name: 2017-01-04 00:00:00, dtype: float64\n",
      "****************************************************************\n",
      "A    0.711463\n",
      "B    0.233847\n",
      "Name: 2017-01-04 00:00:00, dtype: float64\n",
      "****************************************************************\n",
      "                   C         D\n",
      "2017-01-03  1.913673 -0.901240\n",
      "2017-01-04  0.865784  0.304282\n",
      "2017-01-05 -0.461128  1.688954\n",
      "****************************************************************\n",
      "                   A         B         C        D\n",
      "2017-01-02  1.178154  0.639333 -0.394989  0.62816\n",
      "2017-01-03 -1.379316 -1.622673  1.913673 -0.90124\n",
      "****************************************************************\n",
      "                   B         C\n",
      "2017-01-01 -1.052269  0.861289\n",
      "2017-01-02  0.639333 -0.394989\n",
      "2017-01-03 -1.622673  1.913673\n",
      "2017-01-04  0.233847  0.865784\n",
      "2017-01-05 -2.257666 -0.461128\n",
      "2017-01-06  1.263911 -0.879439\n",
      "****************************************************************\n",
      "                   A         B         C         D\n",
      "2017-01-01  2.120013 -1.052269  0.861289 -0.800569\n",
      "2017-01-02  1.178154  0.639333 -0.394989  0.628160\n",
      "2017-01-04  0.711463  0.233847  0.865784  0.304282\n",
      "2017-01-06  0.828544  1.263911 -0.879439 -0.686622\n"
     ]
    }
   ],
   "source": [
    "import pandas as pd\n",
    "import numpy as np\n",
    "\n",
    "dates = pd.date_range('20170101', periods=6)\n",
    "df = pd.DataFrame(np.random.randn(6, 4), index=dates, columns=list('ABCD'))\n",
    "\n",
    "print(df)\n",
    "print(\"*\" * 64)\n",
    "print(df.iloc[3])\n",
    "print(\"*\" * 64)\n",
    "print(df.iloc[3, 0:2])\n",
    "print(\"*\" * 64)\n",
    "print(df.iloc[[2, 3, 4], [2, 3]])\n",
    "print(\"*\" * 64)\n",
    "print(df.iloc[1:3, :])\n",
    "print(\"*\" * 64)\n",
    "print(df.iloc[:, 1:3])\n",
    "print(\"*\" * 64)\n",
    "print(df[df.A > 0])"
   ]
  },
  {
   "cell_type": "markdown",
   "metadata": {},
   "source": [
    "> 过滤"
   ]
  },
  {
   "cell_type": "code",
   "execution_count": 10,
   "metadata": {},
   "outputs": [
    {
     "name": "stdout",
     "output_type": "stream",
     "text": [
      "                   A         B         C         D      E      F\n",
      "2017-01-01 -1.616020 -0.712282  1.323427 -0.353452    one    one\n",
      "2017-01-02 -0.580971  0.653121  0.976488 -0.518500    one    one\n",
      "2017-01-03 -0.286990  1.036358  1.477317  1.260866    two    two\n",
      "2017-01-04  0.392467 -2.303037 -1.250739 -0.574005  three  three\n",
      "2017-01-05  0.353254 -0.399252 -0.517781 -0.636526   four   four\n",
      "2017-01-06 -1.178699  2.293019 -1.406630 -0.607078  three  three\n",
      "============= start to filter =============== \n",
      "                   A         B         C         D     E     F\n",
      "2017-01-03 -0.286990  1.036358  1.477317  1.260866   two   two\n",
      "2017-01-05  0.353254 -0.399252 -0.517781 -0.636526  four  four\n",
      "                   A         B         C         D    E    F\n",
      "2017-01-01 -1.616020 -0.712282  1.323427 -0.353452  one  one\n",
      "2017-01-02 -0.580971  0.653121  0.976488 -0.518500  one  one\n",
      "2017-01-03 -0.286990  1.036358  1.477317  1.260866  two  two\n"
     ]
    }
   ],
   "source": [
    "import pandas as pd\n",
    "import numpy as np\n",
    "\n",
    "dates = pd.date_range('20170101', periods=6)\n",
    "df = pd.DataFrame(np.random.randn(6, 4), index=dates, columns=list('ABCD'))\n",
    "\n",
    "df2 = df.copy()\n",
    "df2['E'] = ['one', 'one', 'two', 'three', 'four', 'three']\n",
    "df2['F'] = ['one', 'one', 'two', 'three', 'four', 'three']\n",
    "\n",
    "print(df2)\n",
    "\n",
    "print(\"============= start to filter =============== \")\n",
    "\n",
    "print(df2[df2['E'].isin(['two', 'four'])])\n",
    "print(df2[df2['F'].isin(['two', 'one'])])"
   ]
  },
  {
   "cell_type": "markdown",
   "metadata": {},
   "source": [
    "# pandas.Series"
   ]
  },
  {
   "cell_type": "markdown",
   "metadata": {},
   "source": [
    "> 创建简单的序列"
   ]
  },
  {
   "cell_type": "code",
   "execution_count": 18,
   "metadata": {},
   "outputs": [
    {
     "name": "stdout",
     "output_type": "stream",
     "text": [
      "0    a\n",
      "1    b\n",
      "2    c\n",
      "3    d\n",
      "dtype: object\n",
      "****************************************************************\n",
      "100    a\n",
      "101    b\n",
      "102    c\n",
      "103    d\n",
      "dtype: object\n"
     ]
    }
   ],
   "source": [
    "import pandas as pd\n",
    "import numpy as np\n",
    "data = np.array(['a', 'b', 'c', 'd'])\n",
    "s = pd.Series(data)\n",
    "print(s)\n",
    "print(\"*\" * 64)\n",
    "s = pd.Series(data, index=[100, 101, 102, 103])\n",
    "print(s)"
   ]
  },
  {
   "cell_type": "markdown",
   "metadata": {},
   "source": [
    "> 从字典创建系列"
   ]
  },
  {
   "cell_type": "code",
   "execution_count": 26,
   "metadata": {},
   "outputs": [
    {
     "name": "stdout",
     "output_type": "stream",
     "text": [
      "a    0\n",
      "b    1\n",
      "c    2\n",
      "dtype: int64\n",
      "****************************************************************\n",
      "b    1.0\n",
      "c    2.0\n",
      "d    NaN\n",
      "a    0.0\n",
      "e    NaN\n",
      "f    NaN\n",
      "dtype: float64\n"
     ]
    }
   ],
   "source": [
    "import pandas as pd\n",
    "import numpy as np\n",
    "data = {'a': 0, 'b': 1, 'c': 2}\n",
    "s = pd.Series(data)\n",
    "print(s)\n",
    "print(\"*\" * 64)\n",
    "s = pd.Series(data, index=['b', 'c', 'd', 'a', 'e', 'f'])\n",
    "print(s)"
   ]
  },
  {
   "cell_type": "markdown",
   "metadata": {},
   "source": [
    "> 从标量创建一个系列"
   ]
  },
  {
   "cell_type": "code",
   "execution_count": 42,
   "metadata": {},
   "outputs": [
    {
     "name": "stdout",
     "output_type": "stream",
     "text": [
      "0    5\n",
      "1    5\n",
      "2    5\n",
      "3    5\n",
      "4    5\n",
      "dtype: int64\n",
      "5\n",
      "5\n",
      "5\n",
      "5\n",
      "5\n",
      "****************************************************************\n",
      "2\n",
      "a    1\n",
      "b    2\n",
      "c    3\n",
      "d    4\n",
      "dtype: int64\n",
      "<class 'pandas.core.series.Series'>\n",
      "2\n",
      "c    3\n",
      "d    4\n",
      "e    5\n",
      "dtype: int64\n"
     ]
    }
   ],
   "source": [
    "import pandas as pd\n",
    "import numpy as np\n",
    "s = pd.Series(5, index=[0, 1, 2, 3, 4])\n",
    "print(s)\n",
    "for i in range(len(s)):\n",
    "    print(s[i])\n",
    "print(\"*\" * 64)\n",
    "s = pd.Series([1, 2, 3, 4, 5], index=['a', 'b', 'c', 'd', 'e'])\n",
    "print(s[1])\n",
    "print(s[:4])\n",
    "print(type(s[:4]))\n",
    "print(s[:4][1])\n",
    "print(s[-3:])\n",
    "# 类型很灵活"
   ]
  },
  {
   "cell_type": "markdown",
   "metadata": {},
   "source": [
    "> 使用标签检索数据(索引)"
   ]
  },
  {
   "cell_type": "code",
   "execution_count": 47,
   "metadata": {},
   "outputs": [
    {
     "name": "stdout",
     "output_type": "stream",
     "text": [
      "2\n",
      "a    1\n",
      "b    2\n",
      "dtype: int64\n"
     ]
    }
   ],
   "source": [
    "import pandas as pd\n",
    "s = pd.Series([1, 2, 3, 4, 5], index=['a', 'b', 'c', 'd', 'e'])\n",
    "\n",
    "#retrieve a single element\n",
    "print(s['b'])\n",
    "print(s[['a', 'b']])"
   ]
  },
  {
   "cell_type": "code",
   "execution_count": null,
   "metadata": {},
   "outputs": [],
   "source": []
  },
  {
   "cell_type": "markdown",
   "metadata": {},
   "source": [
    "# DataFrame"
   ]
  },
  {
   "cell_type": "markdown",
   "metadata": {},
   "source": [
    "> 从列表创建DataFrame"
   ]
  },
  {
   "cell_type": "code",
   "execution_count": 81,
   "metadata": {},
   "outputs": [
    {
     "name": "stdout",
     "output_type": "stream",
     "text": [
      "Empty DataFrame\n",
      "Columns: []\n",
      "Index: []\n",
      "   aa  bb  cc  dd  ee\n",
      "a   1   2   3   4   5\n",
      "b   1   2   3   4   5\n",
      "c   1   2   3   4   5\n",
      "d   1   2   3   4   5\n",
      "e   1   2   3   4   5\n"
     ]
    }
   ],
   "source": [
    "import pandas as pd\n",
    "df = pd.DataFrame()\n",
    "print(df)\n",
    "\n",
    "data = [[1, 2, 3, 4, 5], [1, 2, 3, 4, 5], [1, 2, 3, 4, 5], [1, 2, 3, 4, 5],\n",
    "        [1, 2, 3, 4, 5]]\n",
    "# data = [['Alex',10],['Bob',12],['Clarke',13],['Clarke',13],['Clarke',13]]\n",
    "# data = [[1,2],[1,2],[1,2],[1,2],[1,2]]\n",
    "index = ['a', 'b', 'c', 'd', 'e']\n",
    "df = pd.DataFrame(data, index, columns=['aa', 'bb', 'cc', 'dd', 'ee'])\n",
    "print(df)"
   ]
  },
  {
   "cell_type": "code",
   "execution_count": 62,
   "metadata": {},
   "outputs": [
    {
     "name": "stdout",
     "output_type": "stream",
     "text": [
      "     Name  Age\n",
      "0    Alex   10\n",
      "1     Bob   12\n",
      "2  Clarke   13\n"
     ]
    }
   ],
   "source": [
    "import pandas as pd\n",
    "data = [['Alex', 10], ['Bob', 12], ['Clarke', 13]]\n",
    "df = pd.DataFrame(data, columns=['Name', 'Age'])\n",
    "print(df)"
   ]
  },
  {
   "cell_type": "code",
   "execution_count": null,
   "metadata": {},
   "outputs": [],
   "source": []
  },
  {
   "cell_type": "markdown",
   "metadata": {},
   "source": [
    "> 从ndarrays/Lists的字典来创建DataFrame"
   ]
  },
  {
   "cell_type": "code",
   "execution_count": 89,
   "metadata": {},
   "outputs": [
    {
     "name": "stdout",
     "output_type": "stream",
     "text": [
      "    name  Age\n",
      "0    Tom   28\n",
      "1   Jack  234\n",
      "2  Steve   29\n",
      "3  Ricky   42\n",
      "****************************************************************\n",
      "        name  Age\n",
      "rank1    Tom   28\n",
      "rank2   Jack  234\n",
      "rank3  Steve   29\n",
      "rank4  Ricky   42\n",
      "****************************************************************\n",
      "   a   b     c\n",
      "0  1   2   NaN\n",
      "1  5  10  20.0\n",
      "****************************************************************\n",
      "        a  b1  xx  yy   b\n",
      "first   1 NaN NaN NaN   2\n",
      "second  5 NaN NaN NaN  10\n"
     ]
    }
   ],
   "source": [
    "import pandas as pd\n",
    "data = {'name': ['Tom', 'Jack', 'Steve', 'Ricky'], 'Age': [28, 234, 29, 42]}\n",
    "df = pd.DataFrame(data)\n",
    "print(df)\n",
    "print(\"*\" * 64)\n",
    "df = pd.DataFrame(data, index=['rank1', 'rank2', 'rank3', 'rank4'])\n",
    "print(df)\n",
    "print(\"*\" * 64)\n",
    "data = [{'a': 1, 'b': 2}, {'a': 5, 'b': 10, 'c': 20}]\n",
    "df = pd.DataFrame(data)\n",
    "print(df)\n",
    "print(\"*\" * 64)\n",
    "\n",
    "df = pd.DataFrame(\n",
    "    data, index=['first', 'second'], columns=['a', 'b1', 'xx', 'yy', 'b'])\n",
    "print(df)"
   ]
  },
  {
   "cell_type": "code",
   "execution_count": 95,
   "metadata": {},
   "outputs": [
    {
     "name": "stdout",
     "output_type": "stream",
     "text": [
      "   one  two\n",
      "a  1.0    1\n",
      "b  2.0    2\n",
      "c  3.0    3\n",
      "d  NaN    4\n",
      "e  NaN    5\n",
      "f  NaN    6\n",
      "g  NaN    7\n",
      "h  NaN    8\n",
      "a    1.0\n",
      "b    2.0\n",
      "c    3.0\n",
      "d    NaN\n",
      "e    NaN\n",
      "f    NaN\n",
      "g    NaN\n",
      "h    NaN\n",
      "Name: one, dtype: float64\n"
     ]
    }
   ],
   "source": [
    "###### import pandas as pd\n",
    "\n",
    "d = {\n",
    "    'one':\n",
    "    pd.Series([1, 2, 3], index=['a', 'b', 'c']),\n",
    "    'two':\n",
    "    pd.Series([1, 2, 3, 4, 5, 6, 7, 8],\n",
    "              index=['a', 'b', 'c', 'd', 'e', 'f', 'g', 'h'])\n",
    "}\n",
    "\n",
    "df = pd.DataFrame(d)\n",
    "print(df)\n",
    "\n",
    "print(df['one'])"
   ]
  },
  {
   "cell_type": "markdown",
   "metadata": {},
   "source": [
    "> 添加列"
   ]
  },
  {
   "cell_type": "code",
   "execution_count": 97,
   "metadata": {},
   "outputs": [
    {
     "name": "stdout",
     "output_type": "stream",
     "text": [
      "Adding a new column by passing as Series:\n",
      "   one  two  three\n",
      "a  1.0    1   10.0\n",
      "b  2.0    2   20.0\n",
      "c  3.0    3   30.0\n",
      "d  NaN    4    NaN\n",
      "Adding a new column using the existing columns in DataFrame:\n",
      "   one  two  three  four\n",
      "a  1.0    1   10.0  11.0\n",
      "b  2.0    2   20.0  22.0\n",
      "c  3.0    3   30.0  33.0\n",
      "d  NaN    4    NaN   NaN\n"
     ]
    }
   ],
   "source": [
    "import pandas as pd\n",
    "\n",
    "d = {\n",
    "    'one': pd.Series([1, 2, 3], index=['a', 'b', 'c']),\n",
    "    'two': pd.Series([1, 2, 3, 4], index=['a', 'b', 'c', 'd'])\n",
    "}\n",
    "\n",
    "df = pd.DataFrame(d)\n",
    "\n",
    "# Adding a new column to an existing DataFrame object with column label by passing new series\n",
    "\n",
    "print(\"Adding a new column by passing as Series:\")\n",
    "df['three'] = pd.Series([10, 20, 30], index=['a', 'b', 'c'])\n",
    "print(df)\n",
    "\n",
    "print(\"Adding a new column using the existing columns in DataFrame:\")\n",
    "df['four'] = df['one'] + df['three']\n",
    "\n",
    "print(df)"
   ]
  },
  {
   "cell_type": "markdown",
   "metadata": {},
   "source": [
    "> 删除列"
   ]
  },
  {
   "cell_type": "code",
   "execution_count": 98,
   "metadata": {},
   "outputs": [
    {
     "name": "stdout",
     "output_type": "stream",
     "text": [
      "Our dataframe is:\n",
      "   one  two  three\n",
      "a  1.0    1   10.0\n",
      "b  2.0    2   20.0\n",
      "c  3.0    3   30.0\n",
      "d  NaN    4    NaN\n",
      "Deleting the first column using DEL function:\n",
      "   two  three\n",
      "a    1   10.0\n",
      "b    2   20.0\n",
      "c    3   30.0\n",
      "d    4    NaN\n",
      "Deleting another column using POP function:\n",
      "   three\n",
      "a   10.0\n",
      "b   20.0\n",
      "c   30.0\n",
      "d    NaN\n"
     ]
    }
   ],
   "source": [
    "# Using the previous DataFrame, we will delete a column\n",
    "# using del function\n",
    "import pandas as pd\n",
    "\n",
    "d = {\n",
    "    'one': pd.Series([1, 2, 3], index=['a', 'b', 'c']),\n",
    "    'two': pd.Series([1, 2, 3, 4], index=['a', 'b', 'c', 'd']),\n",
    "    'three': pd.Series([10, 20, 30], index=['a', 'b', 'c'])\n",
    "}\n",
    "\n",
    "df = pd.DataFrame(d)\n",
    "print(\"Our dataframe is:\")\n",
    "print(df)\n",
    "\n",
    "# using del function\n",
    "print(\"Deleting the first column using DEL function:\")\n",
    "del df['one']\n",
    "print(df)\n",
    "\n",
    "# using pop function\n",
    "print(\"Deleting another column using POP function:\")\n",
    "df.pop('two')\n",
    "print(df)"
   ]
  },
  {
   "cell_type": "code",
   "execution_count": 103,
   "metadata": {},
   "outputs": [
    {
     "name": "stdout",
     "output_type": "stream",
     "text": [
      "one    2.0\n",
      "two    2.0\n",
      "Name: b, dtype: float64\n",
      "<class 'pandas.core.series.Series'>\n",
      "2.0\n",
      "2.0\n"
     ]
    }
   ],
   "source": [
    "import pandas as pd\n",
    "\n",
    "d = {\n",
    "    'one': pd.Series([1, 2, 3], index=['a', 'b', 'c']),\n",
    "    'two': pd.Series([1, 2, 3, 4], index=['a', 'b', 'c', 'd'])\n",
    "}\n",
    "\n",
    "df = pd.DataFrame(d)\n",
    "print(df.loc['b'])\n",
    "print(type(df.loc['b']))\n",
    "print(df.loc['b'][0])\n",
    "print(df.loc['b']['one'])"
   ]
  },
  {
   "cell_type": "code",
   "execution_count": 107,
   "metadata": {},
   "outputs": [
    {
     "name": "stdout",
     "output_type": "stream",
     "text": [
      "one    31.0\n",
      "two    32.0\n",
      "Name: c, dtype: float64\n",
      "****************************************************************\n",
      "31.0\n",
      "32.0\n"
     ]
    }
   ],
   "source": [
    "import pandas as pd\n",
    "\n",
    "d = {\n",
    "    'one': pd.Series([1, 2, 31], index=['a', 'b', 'c']),\n",
    "    'two': pd.Series([1, 2, 32, 4], index=['a', 'b', 'c', 'd'])\n",
    "}\n",
    "\n",
    "df = pd.DataFrame(d)\n",
    "print(df.iloc[2])\n",
    "print('*' * 64)\n",
    "print(df.iloc[2][0])\n",
    "print(df.iloc[2]['two'])"
   ]
  },
  {
   "cell_type": "code",
   "execution_count": null,
   "metadata": {},
   "outputs": [],
   "source": []
  },
  {
   "cell_type": "markdown",
   "metadata": {},
   "source": [
    "> 附加行"
   ]
  },
  {
   "cell_type": "code",
   "execution_count": 115,
   "metadata": {},
   "outputs": [
    {
     "name": "stdout",
     "output_type": "stream",
     "text": [
      "   a  b\n",
      "0  1  2\n",
      "1  3  4\n",
      "0  5  6\n",
      "1  7  8\n",
      "0    2\n",
      "1    4\n",
      "0    6\n",
      "1    8\n",
      "Name: b, dtype: int64\n",
      "   a\n",
      "0  1\n",
      "1  3\n",
      "0  5\n",
      "1  7\n",
      "****************************************************************\n"
     ]
    }
   ],
   "source": [
    "import pandas as pd\n",
    "\n",
    "df = pd.DataFrame([[1, 2], [3, 4]], columns=['a', 'b'])\n",
    "df2 = pd.DataFrame([[5, 6], [7, 8]], columns=['a', 'b'])\n",
    "\n",
    "df = df.append(df2)\n",
    "df3 = df\n",
    "print(df)\n",
    "# print(df.drop(0))\n",
    "print(df.pop('b'))\n",
    "print(df)\n",
    "\n",
    "print(\"*\" * 64)"
   ]
  },
  {
   "cell_type": "code",
   "execution_count": null,
   "metadata": {},
   "outputs": [],
   "source": []
  },
  {
   "cell_type": "markdown",
   "metadata": {},
   "source": [
    "# Panel"
   ]
  },
  {
   "cell_type": "code",
   "execution_count": 116,
   "metadata": {},
   "outputs": [
    {
     "name": "stdout",
     "output_type": "stream",
     "text": [
      "<class 'pandas.core.panel.Panel'>\n",
      "Dimensions: 2 (items) x 4 (major_axis) x 5 (minor_axis)\n",
      "Items axis: 0 to 1\n",
      "Major_axis axis: 0 to 3\n",
      "Minor_axis axis: 0 to 4\n"
     ]
    },
    {
     "name": "stderr",
     "output_type": "stream",
     "text": [
      "c:\\python36-32\\lib\\site-packages\\IPython\\core\\interactiveshell.py:3267: FutureWarning: \n",
      "Panel is deprecated and will be removed in a future version.\n",
      "The recommended way to represent these types of 3-dimensional data are with a MultiIndex on a DataFrame, via the Panel.to_frame() method\n",
      "Alternatively, you can use the xarray package http://xarray.pydata.org/en/stable/.\n",
      "Pandas provides a `.to_xarray()` method to help automate this conversion.\n",
      "\n",
      "  exec(code_obj, self.user_global_ns, self.user_ns)\n"
     ]
    }
   ],
   "source": [
    "import pandas as pd\n",
    "import numpy as np\n",
    "\n",
    "data = np.random.rand(2, 4, 5)\n",
    "p = pd.Panel(data)\n",
    "print(p)"
   ]
  },
  {
   "cell_type": "code",
   "execution_count": 124,
   "metadata": {},
   "outputs": [
    {
     "name": "stdout",
     "output_type": "stream",
     "text": [
      "<class 'pandas.core.panel.Panel'>\n",
      "Dimensions: 2 (items) x 4 (major_axis) x 3 (minor_axis)\n",
      "Items axis: Item1 to Item2\n",
      "Major_axis axis: 0 to 3\n",
      "Minor_axis axis: 0 to 2\n",
      "****************************************************************\n",
      "          0         1         2\n",
      "0 -0.240111 -0.453239  1.162927\n",
      "1 -0.939750 -0.381314 -0.511980\n",
      "2  0.396460 -0.877287 -0.850327\n",
      "3 -0.355675 -0.514493  0.130307\n",
      "****************************************************************\n",
      "          0         1   2\n",
      "0  0.584025  0.117271 NaN\n",
      "1  1.021414  1.301377 NaN\n",
      "2  0.918255  1.093981 NaN\n",
      "3 -0.172089 -0.968256 NaN\n",
      "****************************************************************\n",
      "      Item1     Item2\n",
      "0 -0.240111  0.584025\n",
      "1 -0.453239  0.117271\n",
      "2  1.162927       NaN\n",
      "****************************************************************\n",
      "      Item1     Item2\n",
      "0 -0.240111  0.584025\n",
      "1 -0.939750  1.021414\n",
      "2  0.396460  0.918255\n",
      "3 -0.355675 -0.172089\n"
     ]
    },
    {
     "name": "stderr",
     "output_type": "stream",
     "text": [
      "c:\\python36-32\\lib\\site-packages\\IPython\\core\\interactiveshell.py:3267: FutureWarning: \n",
      "Panel is deprecated and will be removed in a future version.\n",
      "The recommended way to represent these types of 3-dimensional data are with a MultiIndex on a DataFrame, via the Panel.to_frame() method\n",
      "Alternatively, you can use the xarray package http://xarray.pydata.org/en/stable/.\n",
      "Pandas provides a `.to_xarray()` method to help automate this conversion.\n",
      "\n",
      "  exec(code_obj, self.user_global_ns, self.user_ns)\n"
     ]
    }
   ],
   "source": [
    "#creating an empty panel\n",
    "import pandas as pd\n",
    "import numpy as np\n",
    "\n",
    "data = {\n",
    "    'Item1': pd.DataFrame(np.random.randn(4, 3)),\n",
    "    'Item2': pd.DataFrame(np.random.randn(4, 2))\n",
    "}\n",
    "p = pd.Panel(data)\n",
    "print(p)\n",
    "print(\"*\" * 64)\n",
    "print(p['Item1'])\n",
    "print(\"*\" * 64)\n",
    "print(p['Item2'])\n",
    "print(\"*\" * 64)\n",
    "print(p.major_xs(0))\n",
    "print(\"*\" * 64)\n",
    "print(p.minor_xs(0))"
   ]
  },
  {
   "cell_type": "code",
   "execution_count": null,
   "metadata": {},
   "outputs": [],
   "source": []
  },
  {
   "cell_type": "markdown",
   "metadata": {},
   "source": [
    "# Pandas基本功能"
   ]
  },
  {
   "cell_type": "markdown",
   "metadata": {},
   "source": [
    "> Series 基本属性"
   ]
  },
  {
   "cell_type": "code",
   "execution_count": 143,
   "metadata": {},
   "outputs": [
    {
     "name": "stdout",
     "output_type": "stream",
     "text": [
      "0    0.543002\n",
      "1    0.872049\n",
      "2    0.213165\n",
      "3    0.567898\n",
      "dtype: float64\n",
      "****************************************************************\n",
      "[RangeIndex(start=0, stop=4, step=1)]\n",
      "<class 'list'>\n",
      "False\n",
      "1\n",
      "4\n",
      "[0.54300232 0.87204896 0.2131646  0.56789818]\n",
      "RangeIndex(start=0, stop=4, step=1)\n",
      "0    0.543002\n",
      "1    0.872049\n",
      "dtype: float64\n",
      "2    0.213165\n",
      "3    0.567898\n",
      "dtype: float64\n"
     ]
    }
   ],
   "source": [
    "import pandas as pd\n",
    "import numpy as np\n",
    "\n",
    "s = pd.Series(np.random.rand(4))\n",
    "print(s)\n",
    "print(\"*\" * 64)\n",
    "print(s.axes)\n",
    "print(type(s.axes))\n",
    "print(s.empty)\n",
    "#维度\n",
    "print(s.ndim)\n",
    "print(s.size)\n",
    "print(s.values)\n",
    "print(s.index)\n",
    "print(s.head(2))\n",
    "print(s.tail(2))"
   ]
  },
  {
   "cell_type": "markdown",
   "metadata": {},
   "source": [
    "> DataFrame基本属性"
   ]
  },
  {
   "cell_type": "code",
   "execution_count": 188,
   "metadata": {},
   "outputs": [
    {
     "name": "stdout",
     "output_type": "stream",
     "text": [
      "    Name  Age  Rating\n",
      "0    Tom   25    4.23\n",
      "1  James   26    3.24\n",
      "2  Ricky   25    3.98\n",
      "3    Vin   23    2.56\n",
      "4  Steve   30    3.20\n",
      "5  Minsu   29    4.60\n",
      "6   Jack   23    3.80\n",
      "           0      1      2     3      4      5     6\n",
      "Name     Tom  James  Ricky   Vin  Steve  Minsu  Jack\n",
      "Age       25     26     25    23     30     29    23\n",
      "Rating  4.23   3.24   3.98  2.56    3.2    4.6   3.8\n",
      "\n",
      "[RangeIndex(start=0, stop=7, step=1), Index(['Name', 'Age', 'Rating'], dtype='object')]\n",
      "\n",
      "Name       object\n",
      "Age         int64\n",
      "Rating    float64\n",
      "dtype: object\n",
      "False\n",
      "True\n",
      "2\n",
      "2\n",
      "(7, 3)\n",
      "(0, 0)\n",
      "21\n",
      "0\n",
      "[['Tom' 25 4.23]\n",
      " ['James' 26 3.24]\n",
      " ['Ricky' 25 3.98]\n",
      " ['Vin' 23 2.56]\n",
      " ['Steve' 30 3.2]\n",
      " ['Minsu' 29 4.6]\n",
      " ['Jack' 23 3.8]]\n",
      "[]\n",
      "    Name  Age  Rating\n",
      "0    Tom   25    4.23\n",
      "1  James   26    3.24\n",
      "    Name  Age  Rating\n",
      "5  Minsu   29     4.6\n",
      "6   Jack   23     3.8\n"
     ]
    }
   ],
   "source": [
    "import pandas as pd\n",
    "import numpy as np\n",
    "d = {\n",
    "    'Name':\n",
    "    pd.Series(['Tom', 'James', 'Ricky', 'Vin', 'Steve', 'Minsu', 'Jack']),\n",
    "    'Age': pd.Series([25, 26, 25, 23, 30, 29, 23]),\n",
    "    'Rating': pd.Series([4.23, 3.24, 3.98, 2.56, 3.20, 4.6, 3.8])\n",
    "}\n",
    "df = pd.DataFrame(d)\n",
    "print(df)\n",
    "print(df.T)\n",
    "print()\n",
    "print(df.axes)\n",
    "print()\n",
    "print(df.dtypes)\n",
    "df1 = pd.DataFrame()\n",
    "print(df.empty)\n",
    "print(df1.empty)\n",
    "print(df.ndim)\n",
    "print(df1.ndim)\n",
    "print(df.shape)\n",
    "print(df1.shape)\n",
    "\n",
    "# 元素个数\n",
    "print(df.size)\n",
    "print(df1.size)\n",
    "\n",
    "print(df.values)\n",
    "print(df1.values)\n",
    "\n",
    "print(df.head(2))\n",
    "print(df.tail(2))"
   ]
  },
  {
   "cell_type": "code",
   "execution_count": null,
   "metadata": {},
   "outputs": [],
   "source": []
  },
  {
   "cell_type": "markdown",
   "metadata": {},
   "source": [
    "# Pandas描述性统计"
   ]
  },
  {
   "cell_type": "code",
   "execution_count": 6,
   "metadata": {},
   "outputs": [
    {
     "name": "stdout",
     "output_type": "stream",
     "text": [
      "      Name  Age  Rating\n",
      "0      Tom   25    4.23\n",
      "1    James   26    3.24\n",
      "2    Ricky   25    3.98\n",
      "3      Vin   23    2.56\n",
      "4    Steve   30    3.20\n",
      "5    Minsu   29    4.60\n",
      "6     Jack   23    3.80\n",
      "7      Lee   34    3.78\n",
      "8    David   40    2.98\n",
      "9   Gasper   30    4.80\n",
      "10  Betina   51    4.10\n",
      "11  Andres   46    3.65\n",
      "\n",
      "Name      TomJamesRickyVinSteveMinsuJackLeeDavidGasperBe...\n",
      "Age                                                     382\n",
      "Rating                                                44.92\n",
      "dtype: object\n",
      "\n",
      "0     29.23\n",
      "1     29.24\n",
      "2     28.98\n",
      "3     25.56\n",
      "4     33.20\n",
      "5     33.60\n",
      "6     26.80\n",
      "7     37.78\n",
      "8     42.98\n",
      "9     34.80\n",
      "10    55.10\n",
      "11    49.65\n",
      "dtype: float64\n",
      "\n",
      "426.92\n",
      "\n",
      "Age       31.833333\n",
      "Rating     3.743333\n",
      "dtype: float64\n",
      "\n",
      "Age       9.232682\n",
      "Rating    0.661628\n",
      "dtype: float64\n",
      "Name      Andres\n",
      "Age           23\n",
      "Rating      2.56\n",
      "dtype: object\n",
      "****************************************************************\n",
      "             Age     Rating\n",
      "count  12.000000  12.000000\n",
      "mean   31.833333   3.743333\n",
      "std     9.232682   0.661628\n",
      "min    23.000000   2.560000\n",
      "25%    25.000000   3.230000\n",
      "50%    29.500000   3.790000\n",
      "75%    35.500000   4.132500\n",
      "max    51.000000   4.800000\n",
      "****************************************************************\n",
      "          Name\n",
      "count       12\n",
      "unique      12\n",
      "top     Andres\n",
      "freq         1\n",
      "****************************************************************\n",
      "             Age     Rating\n",
      "count  12.000000  12.000000\n",
      "mean   31.833333   3.743333\n",
      "std     9.232682   0.661628\n",
      "min    23.000000   2.560000\n",
      "25%    25.000000   3.230000\n",
      "50%    29.500000   3.790000\n",
      "75%    35.500000   4.132500\n",
      "max    51.000000   4.800000\n",
      "****************************************************************\n",
      "          Name        Age     Rating\n",
      "count       12  12.000000  12.000000\n",
      "unique      12        NaN        NaN\n",
      "top     Andres        NaN        NaN\n",
      "freq         1        NaN        NaN\n",
      "mean       NaN  31.833333   3.743333\n",
      "std        NaN   9.232682   0.661628\n",
      "min        NaN  23.000000   2.560000\n",
      "25%        NaN  25.000000   3.230000\n",
      "50%        NaN  29.500000   3.790000\n",
      "75%        NaN  35.500000   4.132500\n",
      "max        NaN  51.000000   4.800000\n"
     ]
    }
   ],
   "source": [
    "import pandas as pd\n",
    "import numpy as np\n",
    "\n",
    "#Create a Dictionary of series\n",
    "d = {\n",
    "    'Name':\n",
    "    pd.Series([\n",
    "        'Tom', 'James', 'Ricky', 'Vin', 'Steve', 'Minsu', 'Jack', 'Lee',\n",
    "        'David', 'Gasper', 'Betina', 'Andres'\n",
    "    ]),\n",
    "    'Age':\n",
    "    pd.Series([25, 26, 25, 23, 30, 29, 23, 34, 40, 30, 51, 46]),\n",
    "    'Rating':\n",
    "    pd.Series(\n",
    "        [4.23, 3.24, 3.98, 2.56, 3.20, 4.6, 3.8, 3.78, 2.98, 4.80, 4.10, 3.65])\n",
    "}\n",
    "\n",
    "#Create a DataFrame\n",
    "df = pd.DataFrame(d)\n",
    "print(df)\n",
    "print()\n",
    "print(df.sum())\n",
    "print()\n",
    "print(df.sum(1))\n",
    "print()\n",
    "print(df.sum(1).sum())\n",
    "print()\n",
    "print(df.mean())\n",
    "print()\n",
    "print(df.std())\n",
    "\n",
    "print(df.min())\n",
    "\n",
    "print(\"*\" * 64)\n",
    "print(df.describe())\n",
    "print(\"*\" * 64)\n",
    "print(df.describe(include=['object']))\n",
    "print(\"*\" * 64)\n",
    "print(df.describe(include=['number']))\n",
    "\n",
    "print(\"*\" * 64)\n",
    "print(df.describe(include='all'))"
   ]
  },
  {
   "cell_type": "code",
   "execution_count": null,
   "metadata": {},
   "outputs": [],
   "source": []
  },
  {
   "cell_type": "markdown",
   "metadata": {},
   "source": [
    "# Pandas函数应用"
   ]
  },
  {
   "cell_type": "markdown",
   "metadata": {},
   "source": [
    "> 定义函数"
   ]
  },
  {
   "cell_type": "code",
   "execution_count": 9,
   "metadata": {},
   "outputs": [
    {
     "data": {
      "text/html": [
       "<div>\n",
       "<style scoped>\n",
       "    .dataframe tbody tr th:only-of-type {\n",
       "        vertical-align: middle;\n",
       "    }\n",
       "\n",
       "    .dataframe tbody tr th {\n",
       "        vertical-align: top;\n",
       "    }\n",
       "\n",
       "    .dataframe thead th {\n",
       "        text-align: right;\n",
       "    }\n",
       "</style>\n",
       "<table border=\"1\" class=\"dataframe\">\n",
       "  <thead>\n",
       "    <tr style=\"text-align: right;\">\n",
       "      <th></th>\n",
       "      <th>col1</th>\n",
       "      <th>col2</th>\n",
       "      <th>col3</th>\n",
       "    </tr>\n",
       "  </thead>\n",
       "  <tbody>\n",
       "    <tr>\n",
       "      <th>0</th>\n",
       "      <td>199.752021</td>\n",
       "      <td>201.169780</td>\n",
       "      <td>201.329961</td>\n",
       "    </tr>\n",
       "    <tr>\n",
       "      <th>1</th>\n",
       "      <td>199.450682</td>\n",
       "      <td>200.543488</td>\n",
       "      <td>199.598527</td>\n",
       "    </tr>\n",
       "    <tr>\n",
       "      <th>2</th>\n",
       "      <td>200.139401</td>\n",
       "      <td>199.413526</td>\n",
       "      <td>199.017452</td>\n",
       "    </tr>\n",
       "    <tr>\n",
       "      <th>3</th>\n",
       "      <td>199.107795</td>\n",
       "      <td>201.186371</td>\n",
       "      <td>199.468726</td>\n",
       "    </tr>\n",
       "    <tr>\n",
       "      <th>4</th>\n",
       "      <td>200.288721</td>\n",
       "      <td>199.979097</td>\n",
       "      <td>199.788165</td>\n",
       "    </tr>\n",
       "  </tbody>\n",
       "</table>\n",
       "</div>"
      ],
      "text/plain": [
       "         col1        col2        col3\n",
       "0  199.752021  201.169780  201.329961\n",
       "1  199.450682  200.543488  199.598527\n",
       "2  200.139401  199.413526  199.017452\n",
       "3  199.107795  201.186371  199.468726\n",
       "4  200.288721  199.979097  199.788165"
      ]
     },
     "execution_count": 9,
     "metadata": {},
     "output_type": "execute_result"
    }
   ],
   "source": [
    "def adder(ele1, ele2):\n",
    "    return ele1 + ele2\n",
    "\n",
    "\n",
    "df = pd.DataFrame(np.random.randn(5, 3), columns=['col1', 'col2', 'col3'])\n",
    "df.pipe(adder, 200)"
   ]
  },
  {
   "cell_type": "code",
   "execution_count": 39,
   "metadata": {},
   "outputs": [
    {
     "name": "stdout",
     "output_type": "stream",
     "text": [
      "       col1      col2      col3\n",
      "0  0.392163  0.425362 -0.085680\n",
      "1  1.274197  0.325435  0.836737\n",
      "2 -1.175335  0.530378  1.709440\n",
      "3 -1.839539  0.049287 -0.293480\n",
      "4  0.559578  2.061705 -0.096353\n",
      "col1    1.274197\n",
      "col2    2.061705\n",
      "col3    1.709440\n",
      "dtype: float64\n",
      "0    0.425362\n",
      "1    1.274197\n",
      "2    1.709440\n",
      "3    0.049287\n",
      "4    2.061705\n",
      "dtype: float64\n",
      "col1   -1.839539\n",
      "col2    0.049287\n",
      "col3   -0.293480\n",
      "dtype: float64\n",
      "0   -0.085680\n",
      "1    0.325435\n",
      "2   -1.175335\n",
      "3   -1.839539\n",
      "4   -0.096353\n",
      "dtype: float64\n",
      "****************************************************************\n",
      "col1    1.274197\n",
      "col2    0.425362\n",
      "col3    0.836737\n",
      "dtype: float64\n",
      "****************************************************************\n",
      "col1    3.113736\n",
      "col2    2.012418\n",
      "col3    2.002919\n",
      "dtype: float64\n",
      "0    0.392163\n",
      "1    1.274197\n",
      "2   -1.175335\n",
      "3   -1.839539\n",
      "4    0.559578\n",
      "Name: col1, dtype: float64\n",
      "0     39.216256\n",
      "1    127.419660\n",
      "2   -117.533458\n",
      "3   -183.953919\n",
      "4     55.957772\n",
      "Name: col1, dtype: float64\n",
      "0    0.392163\n",
      "1    1.274197\n",
      "2   -1.175335\n",
      "3   -1.839539\n",
      "4    0.559578\n",
      "Name: col1, dtype: float64\n"
     ]
    }
   ],
   "source": [
    "import pandas as pd\n",
    "import numpy as np\n",
    "\n",
    "df = pd.DataFrame(np.random.randn(5, 3), columns=['col1', 'col2', 'col3'])\n",
    "print(df)\n",
    "print(df.apply(np.max))\n",
    "print(df.apply(np.max, axis=1))\n",
    "print(df.apply(np.min))\n",
    "print(df.apply(np.min, axis=1))\n",
    "print(\"*\" * 64)\n",
    "print(df.iloc[[0, 1], :].apply(np.max))\n",
    "print(\"*\" * 64)\n",
    "\n",
    "# lambda\n",
    "print(df.apply(lambda x: x.max() - x.min()))\n",
    "\n",
    "# My custom function\n",
    "a = df['col1'].map(lambda x: x * 100)\n",
    "b = df['col1'].map(lambda x: x * 100).map(lambda x: x / 100)\n",
    "print(df['col1'])\n",
    "print(a)\n",
    "print(b)"
   ]
  },
  {
   "cell_type": "code",
   "execution_count": null,
   "metadata": {},
   "outputs": [],
   "source": []
  },
  {
   "cell_type": "markdown",
   "metadata": {},
   "source": [
    "# Pandas重建索引"
   ]
  },
  {
   "cell_type": "code",
   "execution_count": 75,
   "metadata": {},
   "outputs": [
    {
     "name": "stdout",
     "output_type": "stream",
     "text": [
      "            A     x         y       C         D\n",
      "0  2016-01-01   0.0  0.350010  Medium  1.546949\n",
      "1  2016-01-02   1.0  0.735320     Low -0.578822\n",
      "2  2016-01-03   2.0  0.440854  Medium  0.681512\n",
      "3  2016-01-04   3.0  0.805863  Medium -1.345128\n",
      "4  2016-01-05   4.0  0.687446     Low -1.237789\n",
      "5  2016-01-06   5.0  0.848219    High -0.204348\n",
      "6  2016-01-07   6.0  0.491888    High  1.148293\n",
      "7  2016-01-08   7.0  0.577524  Medium -0.040640\n",
      "8  2016-01-09   8.0  0.942861  Medium -0.005224\n",
      "9  2016-01-10   9.0  0.059002  Medium -1.943201\n",
      "10 2016-01-11  10.0  0.758382     Low  1.040173\n",
      "11 2016-01-12  11.0  0.127424     Low -0.033781\n",
      "12 2016-01-13  12.0  0.661671     Low  0.123165\n",
      "13 2016-01-14  13.0  0.502021  Medium -0.057761\n",
      "14 2016-01-15  14.0  0.439399    High -0.052569\n",
      "15 2016-01-16  15.0  0.554186    High  0.359516\n",
      "16 2016-01-17  16.0  0.488698  Medium -0.707732\n",
      "17 2016-01-18  17.0  0.605276  Medium  0.286586\n",
      "18 2016-01-19  18.0  0.870557    High  0.253122\n",
      "19 2016-01-20  19.0  0.082890     Low  0.338288\n",
      "20 2016-01-21  20.0  0.834589  Medium  0.648842\n",
      "21 2016-01-22  21.0  0.477045    High -1.271972\n",
      "22 2016-01-23  22.0  0.044448  Medium -1.463308\n",
      "23 2016-01-24  23.0  0.543531    High  2.086581\n",
      "24 2016-01-25  24.0  0.809239     Low -0.896503\n",
      "25 2016-01-26  25.0  0.135392  Medium  1.375941\n",
      "26 2016-01-27  26.0  0.198889    High  0.057810\n",
      "27 2016-01-28  27.0  0.098823    High  0.641592\n",
      "28 2016-01-29  28.0  0.132532    High -1.584873\n",
      "29 2016-01-30  29.0  0.722490  Medium  0.365165\n",
      "30 2016-01-31  30.0  0.807947    High -0.669218\n",
      "31 2016-02-01  31.0  0.870282     Low  0.369438\n",
      "           A   b  callable\n",
      "0 2016-01-01 NaN       NaN\n",
      "2 2016-01-03 NaN       NaN\n",
      "5 2016-01-06 NaN       NaN\n",
      "            A     x         y       C         D\n",
      "0  2016-01-01   0.0  0.350010  Medium  1.546949\n",
      "1  2016-01-02   1.0  0.735320     Low -0.578822\n",
      "2  2016-01-03   2.0  0.440854  Medium  0.681512\n",
      "3  2016-01-04   3.0  0.805863  Medium -1.345128\n",
      "4  2016-01-05   4.0  0.687446     Low -1.237789\n",
      "5  2016-01-06   5.0  0.848219    High -0.204348\n",
      "6  2016-01-07   6.0  0.491888    High  1.148293\n",
      "7  2016-01-08   7.0  0.577524  Medium -0.040640\n",
      "8  2016-01-09   8.0  0.942861  Medium -0.005224\n",
      "9  2016-01-10   9.0  0.059002  Medium -1.943201\n",
      "10 2016-01-11  10.0  0.758382     Low  1.040173\n",
      "11 2016-01-12  11.0  0.127424     Low -0.033781\n",
      "12 2016-01-13  12.0  0.661671     Low  0.123165\n",
      "13 2016-01-14  13.0  0.502021  Medium -0.057761\n",
      "14 2016-01-15  14.0  0.439399    High -0.052569\n",
      "15 2016-01-16  15.0  0.554186    High  0.359516\n",
      "16 2016-01-17  16.0  0.488698  Medium -0.707732\n",
      "17 2016-01-18  17.0  0.605276  Medium  0.286586\n",
      "18 2016-01-19  18.0  0.870557    High  0.253122\n",
      "19 2016-01-20  19.0  0.082890     Low  0.338288\n",
      "20 2016-01-21  20.0  0.834589  Medium  0.648842\n",
      "21 2016-01-22  21.0  0.477045    High -1.271972\n",
      "22 2016-01-23  22.0  0.044448  Medium -1.463308\n",
      "23 2016-01-24  23.0  0.543531    High  2.086581\n",
      "24 2016-01-25  24.0  0.809239     Low -0.896503\n",
      "25 2016-01-26  25.0  0.135392  Medium  1.375941\n",
      "26 2016-01-27  26.0  0.198889    High  0.057810\n",
      "27 2016-01-28  27.0  0.098823    High  0.641592\n",
      "28 2016-01-29  28.0  0.132532    High -1.584873\n",
      "29 2016-01-30  29.0  0.722490  Medium  0.365165\n",
      "30 2016-01-31  30.0  0.807947    High -0.669218\n",
      "31 2016-02-01  31.0  0.870282     Low  0.369438\n"
     ]
    }
   ],
   "source": [
    "import pandas as pd\n",
    "import numpy as np\n",
    "\n",
    "N = 32\n",
    "df = pd.DataFrame({\n",
    "    'A':\n",
    "    pd.date_range(start='2016-01-01', periods=N, freq='D'),\n",
    "    'x':\n",
    "    np.linspace(0, stop=N - 1, num=N),\n",
    "    'y':\n",
    "    np.random.rand(N),\n",
    "    'C':\n",
    "    np.random.choice(['Low', 'Medium', 'High'], N).tolist(),\n",
    "    'D':\n",
    "    np.random.normal(0, 1, size=(N)).tolist()\n",
    "})\n",
    "\n",
    "print(df)\n",
    "df_reindexed = df.reindex(index=[0, 2, 5], columns=['A', 'b', 'callable'])\n",
    "print(df_reindexed)\n",
    "print(df)"
   ]
  },
  {
   "cell_type": "code",
   "execution_count": 59,
   "metadata": {},
   "outputs": [
    {
     "name": "stdout",
     "output_type": "stream",
     "text": [
      "       col1      col2      col3\n",
      "0  1.515969  0.134719 -0.490514\n",
      "1  0.330594 -1.269166  0.256898\n",
      "2  0.421740 -0.051165 -1.065687\n",
      "3  0.676937 -0.145064 -0.929535\n",
      "4 -0.347026 -0.028350 -0.100740\n",
      "5  0.768585 -0.199058  1.384576\n",
      "6 -0.777362  0.500432 -2.073060\n",
      "7 -0.763026 -1.688943  0.570125\n",
      "8  1.470111 -0.880017  0.476188\n",
      "9 -0.911721  0.034357  1.186984\n",
      "       col1      col2      col3\n",
      "0  0.075698 -1.788184 -0.768995\n",
      "1  0.270810  0.404468 -0.603760\n",
      "2  0.346605 -1.030987 -0.097237\n",
      "3 -0.232655  2.282161 -0.343594\n",
      "4  1.075045  1.399601  0.898131\n",
      "5 -0.008517  1.203190 -0.350248\n",
      "6 -0.020459 -0.125955 -1.003503\n",
      "       col1      col2      col3\n",
      "0  1.515969  0.134719 -0.490514\n",
      "1  0.330594 -1.269166  0.256898\n",
      "2  0.421740 -0.051165 -1.065687\n",
      "3  0.676937 -0.145064 -0.929535\n",
      "4 -0.347026 -0.028350 -0.100740\n",
      "5  0.768585 -0.199058  1.384576\n",
      "6 -0.777362  0.500432 -2.073060\n"
     ]
    }
   ],
   "source": [
    "import pandas as pd\n",
    "import numpy as np\n",
    "\n",
    "df1 = pd.DataFrame(np.random.randn(10, 3), columns=['col1', 'col2', 'col3'])\n",
    "df2 = pd.DataFrame(np.random.randn(7, 3), columns=['col1', 'col2', 'col3'])\n",
    "print(df1)\n",
    "print(df2)\n",
    "df1 = df1.reindex_like(df2)\n",
    "print(df1)"
   ]
  },
  {
   "cell_type": "code",
   "execution_count": 65,
   "metadata": {},
   "outputs": [
    {
     "name": "stdout",
     "output_type": "stream",
     "text": [
      "       col1      col2      col3\n",
      "0  0.919843 -0.524597  0.822441\n",
      "1  1.516986 -0.698864  0.677912\n",
      "2       NaN       NaN       NaN\n",
      "3       NaN       NaN       NaN\n",
      "4       NaN       NaN       NaN\n",
      "5       NaN       NaN       NaN\n",
      "Data Frame with Forward Fill:\n",
      "       col1      col2      col3\n",
      "0  0.919843 -0.524597  0.822441\n",
      "1  1.516986 -0.698864  0.677912\n",
      "2  1.516986 -0.698864  0.677912\n",
      "3  1.516986 -0.698864  0.677912\n",
      "4  1.516986 -0.698864  0.677912\n",
      "5  1.516986 -0.698864  0.677912\n",
      "       col1      col2      col3\n",
      "0  0.919843 -0.524597  0.822441\n",
      "1  1.516986 -0.698864  0.677912\n",
      "2  1.516986 -0.698864  0.677912\n",
      "3  1.516986 -0.698864  0.677912\n",
      "4       NaN       NaN       NaN\n",
      "5       NaN       NaN       NaN\n"
     ]
    }
   ],
   "source": [
    "import pandas as pd\n",
    "import numpy as np\n",
    "\n",
    "df1 = pd.DataFrame(np.random.randn(6, 3), columns=['col1', 'col2', 'col3'])\n",
    "df2 = pd.DataFrame(np.random.randn(2, 3), columns=['col1', 'col2', 'col3'])\n",
    "\n",
    "# Padding NAN's\n",
    "print(df2.reindex_like(df1))\n",
    "\n",
    "# Now Fill the NAN's with preceding Values\n",
    "print(\"Data Frame with Forward Fill:\")\n",
    "# pad/ffill - 向前填充值\n",
    "# bfill/backfill - 向后填充值\n",
    "# nearest - 从最近的索引值填充\n",
    "print(df2.reindex_like(df1, method='nearest'))\n",
    "\n",
    "print(df2.reindex_like(df1, method='nearest', limit=2))"
   ]
  },
  {
   "cell_type": "code",
   "execution_count": 68,
   "metadata": {},
   "outputs": [
    {
     "name": "stdout",
     "output_type": "stream",
     "text": [
      "       col1      col2      col3\n",
      "0  1.029202  0.048171  0.944203\n",
      "1  1.170879 -0.039342  1.608068\n",
      "2  0.302360 -0.343219 -0.428286\n",
      "3  1.689719  1.108886 -0.577072\n",
      "4 -0.069104 -0.037228  0.787462\n",
      "5  0.723392  0.050242 -0.142985\n",
      "               A         B         C\n",
      "apple   1.029202  0.048171  0.944203\n",
      "1       1.170879 -0.039342  1.608068\n",
      "durian  0.302360 -0.343219 -0.428286\n",
      "xxx     1.689719  1.108886 -0.577072\n",
      "4      -0.069104 -0.037228  0.787462\n",
      "5       0.723392  0.050242 -0.142985\n"
     ]
    }
   ],
   "source": [
    "import pandas as pd\n",
    "import numpy as np\n",
    "\n",
    "df = pd.DataFrame(np.random.randn(6, 3), columns=['col1', 'col2', 'col3'])\n",
    "print(df)\n",
    "# '1' cannot channge\n",
    "print(\n",
    "    df.rename(\n",
    "        columns={\n",
    "            'col1': 'A',\n",
    "            'col2': 'B',\n",
    "            'col3': 'C'\n",
    "        },\n",
    "        index={\n",
    "            0: 'apple',\n",
    "            '1': 'banana',\n",
    "            2: 'durian',\n",
    "            3: 'xxx'\n",
    "        }))"
   ]
  },
  {
   "cell_type": "code",
   "execution_count": null,
   "metadata": {},
   "outputs": [],
   "source": []
  },
  {
   "cell_type": "markdown",
   "metadata": {},
   "source": [
    "# Pandas迭代"
   ]
  },
  {
   "cell_type": "code",
   "execution_count": 77,
   "metadata": {},
   "outputs": [
    {
     "name": "stdout",
     "output_type": "stream",
     "text": [
      "0    2016-01-01\n",
      "1    2016-01-02\n",
      "2    2016-01-03\n",
      "3    2016-01-04\n",
      "4    2016-01-05\n",
      "5    2016-01-06\n",
      "6    2016-01-07\n",
      "7    2016-01-08\n",
      "8    2016-01-09\n",
      "9    2016-01-10\n",
      "10   2016-01-11\n",
      "11   2016-01-12\n",
      "12   2016-01-13\n",
      "13   2016-01-14\n",
      "14   2016-01-15\n",
      "15   2016-01-16\n",
      "16   2016-01-17\n",
      "17   2016-01-18\n",
      "18   2016-01-19\n",
      "19   2016-01-20\n",
      "Name: A, dtype: datetime64[ns]\n",
      "0      0.0\n",
      "1      1.0\n",
      "2      2.0\n",
      "3      3.0\n",
      "4      4.0\n",
      "5      5.0\n",
      "6      6.0\n",
      "7      7.0\n",
      "8      8.0\n",
      "9      9.0\n",
      "10    10.0\n",
      "11    11.0\n",
      "12    12.0\n",
      "13    13.0\n",
      "14    14.0\n",
      "15    15.0\n",
      "16    16.0\n",
      "17    17.0\n",
      "18    18.0\n",
      "19    19.0\n",
      "Name: x, dtype: float64\n",
      "0     0.372502\n",
      "1     0.560549\n",
      "2     0.326418\n",
      "3     0.137586\n",
      "4     0.749136\n",
      "5     0.066067\n",
      "6     0.276190\n",
      "7     0.575885\n",
      "8     0.486255\n",
      "9     0.649244\n",
      "10    0.799917\n",
      "11    0.514882\n",
      "12    0.343660\n",
      "13    0.855300\n",
      "14    0.860933\n",
      "15    0.752303\n",
      "16    0.047450\n",
      "17    0.377813\n",
      "18    0.361067\n",
      "19    0.696303\n",
      "Name: y, dtype: float64\n",
      "0        Low\n",
      "1       High\n",
      "2     Medium\n",
      "3       High\n",
      "4       High\n",
      "5        Low\n",
      "6        Low\n",
      "7        Low\n",
      "8       High\n",
      "9        Low\n",
      "10      High\n",
      "11       Low\n",
      "12       Low\n",
      "13       Low\n",
      "14       Low\n",
      "15    Medium\n",
      "16       Low\n",
      "17      High\n",
      "18      High\n",
      "19      High\n",
      "Name: C, dtype: object\n",
      "0      75.215262\n",
      "1     103.267469\n",
      "2     114.053163\n",
      "3      96.162841\n",
      "4      95.945727\n",
      "5     101.932936\n",
      "6      91.091692\n",
      "7      99.495378\n",
      "8      84.916000\n",
      "9      94.454040\n",
      "10    106.779058\n",
      "11     97.458561\n",
      "12     83.506474\n",
      "13    100.392545\n",
      "14    100.980522\n",
      "15    109.912238\n",
      "16     93.728940\n",
      "17    113.245614\n",
      "18    125.182464\n",
      "19     84.911220\n",
      "Name: D, dtype: float64\n"
     ]
    }
   ],
   "source": [
    "import pandas as pd\n",
    "import numpy as np\n",
    "\n",
    "N = 20\n",
    "\n",
    "df = pd.DataFrame({\n",
    "    'A':\n",
    "    pd.date_range(start='2016-01-01', periods=N, freq='D'),\n",
    "    'x':\n",
    "    np.linspace(0, stop=N - 1, num=N),\n",
    "    'y':\n",
    "    np.random.rand(N),\n",
    "    'C':\n",
    "    np.random.choice(['Low', 'Medium', 'High'], N).tolist(),\n",
    "    'D':\n",
    "    np.random.normal(100, 10, size=(N)).tolist()\n",
    "})\n",
    "\n",
    "for col in df:\n",
    "    print(df[col])"
   ]
  },
  {
   "cell_type": "code",
   "execution_count": 79,
   "metadata": {},
   "outputs": [
    {
     "name": "stdout",
     "output_type": "stream",
     "text": [
      "       col1      col2      col3\n",
      "0  0.804024  0.145361 -0.469712\n",
      "1  1.394144 -0.328588 -2.381631\n",
      "2 -0.226557 -0.519784 -0.152375\n",
      "3  0.998412 -0.715999  1.468274\n",
      "col1 0    0.804024\n",
      "1    1.394144\n",
      "2   -0.226557\n",
      "3    0.998412\n",
      "Name: col1, dtype: float64\n",
      "col2 0    0.145361\n",
      "1   -0.328588\n",
      "2   -0.519784\n",
      "3   -0.715999\n",
      "Name: col2, dtype: float64\n",
      "col3 0   -0.469712\n",
      "1   -2.381631\n",
      "2   -0.152375\n",
      "3    1.468274\n",
      "Name: col3, dtype: float64\n"
     ]
    }
   ],
   "source": [
    "import pandas as pd\n",
    "import numpy as np\n",
    "\n",
    "df = pd.DataFrame(np.random.randn(4, 3), columns=['col1', 'col2', 'col3'])\n",
    "print(df)\n",
    "for key, value in df.iteritems():\n",
    "    print(key, value)"
   ]
  },
  {
   "cell_type": "code",
   "execution_count": null,
   "metadata": {},
   "outputs": [],
   "source": []
  },
  {
   "cell_type": "code",
   "execution_count": 82,
   "metadata": {},
   "outputs": [
    {
     "name": "stdout",
     "output_type": "stream",
     "text": [
      "       col1      col2      col3\n",
      "0  0.055173  0.499357  0.744125\n",
      "1 -0.052976 -1.135326 -1.621030\n",
      "2  0.948270 -1.526558  1.355620\n",
      "3  0.393216  1.415124  0.417372\n",
      "0 col1    0.055173\n",
      "col2    0.499357\n",
      "col3    0.744125\n",
      "Name: 0, dtype: float64\n",
      "1 col1   -0.052976\n",
      "col2   -1.135326\n",
      "col3   -1.621030\n",
      "Name: 1, dtype: float64\n",
      "2 col1    0.948270\n",
      "col2   -1.526558\n",
      "col3    1.355620\n",
      "Name: 2, dtype: float64\n",
      "3 col1    0.393216\n",
      "col2    1.415124\n",
      "col3    0.417372\n",
      "Name: 3, dtype: float64\n"
     ]
    }
   ],
   "source": [
    "import pandas as pd\n",
    "import numpy as np\n",
    "\n",
    "df = pd.DataFrame(np.random.randn(4, 3), columns=['col1', 'col2', 'col3'])\n",
    "print(df)\n",
    "for row_index, row in df.iterrows():\n",
    "    print(row_index, row)"
   ]
  },
  {
   "cell_type": "code",
   "execution_count": 85,
   "metadata": {},
   "outputs": [
    {
     "name": "stdout",
     "output_type": "stream",
     "text": [
      "Pandas(Index=0, col1=0.8703447505860263, col2=-1.1250425776744537, col3=1.7276444072946082)\n",
      "[0, 0.8703447505860263, -1.1250425776744537, 1.7276444072946082]\n",
      "Pandas(Index=1, col1=1.8331178186660047, col2=0.8115363421136562, col3=0.6020480698549232)\n",
      "[1, 1.8331178186660047, 0.8115363421136562, 0.6020480698549232]\n",
      "Pandas(Index=2, col1=-0.06475965654585912, col2=-0.451952951740183, col3=0.688831902189169)\n",
      "[2, -0.06475965654585912, -0.451952951740183, 0.688831902189169]\n",
      "Pandas(Index=3, col1=-1.8816804162486649, col2=0.9448642340752932, col3=0.4561313551388365)\n",
      "[3, -1.8816804162486649, 0.9448642340752932, 0.4561313551388365]\n"
     ]
    }
   ],
   "source": [
    "import pandas as pd\n",
    "import numpy as np\n",
    "\n",
    "df = pd.DataFrame(np.random.randn(4, 3), columns=['col1', 'col2', 'col3'])\n",
    "for row in df.itertuples():\n",
    "    print(row)\n",
    "    print(list(row))"
   ]
  },
  {
   "cell_type": "code",
   "execution_count": 91,
   "metadata": {},
   "outputs": [
    {
     "name": "stdout",
     "output_type": "stream",
     "text": [
      "       col1      col2      col3\n",
      "0  0.448215  0.635908 -0.022209\n",
      "1 -0.618465 -0.115827  1.484023\n",
      "2 -1.675923 -1.536881  0.230955\n",
      "3 -0.605829 -1.019702  0.650537\n",
      "col1    0.448215\n",
      "col2    0.635908\n",
      "col3   -0.022209\n",
      "Name: 0, dtype: float64\n",
      "col1   -0.618465\n",
      "col2   -0.115827\n",
      "col3    1.484023\n",
      "Name: 1, dtype: float64\n",
      "col1   -1.675923\n",
      "col2   -1.536881\n",
      "col3    0.230955\n",
      "Name: 2, dtype: float64\n",
      "col1   -0.605829\n",
      "col2   -1.019702\n",
      "col3    0.650537\n",
      "Name: 3, dtype: float64\n",
      "   col1        col2      col3\n",
      "0  10.0  100.635908 -0.022209\n",
      "1  10.0   99.884173  1.484023\n",
      "2  10.0   98.463119  0.230955\n",
      "3  10.0   98.980298  0.650537\n"
     ]
    }
   ],
   "source": [
    "import pandas as pd\n",
    "import numpy as np\n",
    "\n",
    "df = pd.DataFrame(np.random.randn(4, 3), columns=['col1', 'col2', 'col3'])\n",
    "print(df)\n",
    "for index, row in df.iterrows():\n",
    "    print(row)\n",
    "    row['col1'] = 10\n",
    "    row['col2'] += 100\n",
    "print(df)"
   ]
  },
  {
   "cell_type": "code",
   "execution_count": null,
   "metadata": {},
   "outputs": [],
   "source": []
  },
  {
   "cell_type": "markdown",
   "metadata": {},
   "source": [
    "# Pandas排序"
   ]
  },
  {
   "cell_type": "code",
   "execution_count": 101,
   "metadata": {},
   "outputs": [
    {
     "name": "stdout",
     "output_type": "stream",
     "text": [
      "       col2      col1\n",
      "1 -1.871496 -0.785979\n",
      "4 -0.504364  0.457030\n",
      "6 -0.307111 -0.068473\n",
      "2 -0.202107 -0.897092\n",
      "3  1.564624  0.952921\n",
      "5 -0.748209  0.621455\n",
      "9  0.133670 -0.714831\n",
      "8  0.236686 -1.767160\n",
      "0  0.607076 -0.846294\n",
      "7  0.253794  0.898149\n",
      "       col2      col1\n",
      "9  0.133670 -0.714831\n",
      "8  0.236686 -1.767160\n",
      "7  0.253794  0.898149\n",
      "6 -0.307111 -0.068473\n",
      "5 -0.748209  0.621455\n",
      "4 -0.504364  0.457030\n",
      "3  1.564624  0.952921\n",
      "2 -0.202107 -0.897092\n",
      "1 -1.871496 -0.785979\n",
      "0  0.607076 -0.846294\n"
     ]
    }
   ],
   "source": [
    "import pandas as pd\n",
    "import numpy as np\n",
    "\n",
    "unsorted_df = pd.DataFrame(\n",
    "    np.random.randn(10, 2),\n",
    "    index=[1, 4, 6, 2, 3, 5, 9, 8, 0, 7],\n",
    "    columns=['col2', 'col1'])\n",
    "print(unsorted_df)\n",
    "\n",
    "sorted_df = unsorted_df.sort_index(ascending=False)\n",
    "print(sorted_df)"
   ]
  },
  {
   "cell_type": "code",
   "execution_count": 110,
   "metadata": {},
   "outputs": [
    {
     "name": "stdout",
     "output_type": "stream",
     "text": [
      "       col2      col1\n",
      "1  0.488694 -0.038962\n",
      "4 -0.588048 -0.735474\n",
      "6 -0.874656 -0.525183\n",
      "2  2.184215  1.331885\n",
      "3 -0.321629 -0.674806\n",
      "5 -1.574709  1.135935\n",
      "9 -1.526761 -2.125902\n",
      "8 -0.025706  1.835577\n",
      "0 -0.320278  2.034860\n",
      "7 -0.597043  0.177484\n"
     ]
    }
   ],
   "source": [
    "import pandas as pd\n",
    "import numpy as np\n",
    "\n",
    "unsorted_df = pd.DataFrame(\n",
    "    np.random.randn(10, 2),\n",
    "    index=[1, 4, 6, 2, 3, 5, 9, 8, 0, 7],\n",
    "    columns=['col1', 'col2'])\n",
    "# axis = 0 按行排序，axis =1 按列排序\n",
    "sorted_df = unsorted_df.sort_index(axis=1, ascending=False)\n",
    "\n",
    "print(sorted_df)"
   ]
  },
  {
   "cell_type": "code",
   "execution_count": 117,
   "metadata": {},
   "outputs": [
    {
     "name": "stdout",
     "output_type": "stream",
     "text": [
      "   col1  col2\n",
      "0     2     1\n",
      "1     3     1\n",
      "2     1     1\n",
      "3     1     3\n",
      "4     2     2\n",
      "5     3     2\n",
      "6     1     2\n",
      "7     1     4\n",
      "8     3     6\n",
      "9     4     5\n",
      "****************************************************************\n",
      "   col1  col2\n",
      "2     1     1\n",
      "0     2     1\n",
      "1     3     1\n",
      "6     1     2\n",
      "4     2     2\n",
      "5     3     2\n",
      "3     1     3\n",
      "7     1     4\n",
      "9     4     5\n",
      "8     3     6\n"
     ]
    }
   ],
   "source": [
    "import pandas as pd\n",
    "import numpy as np\n",
    "\n",
    "unsorted_df = pd.DataFrame({\n",
    "    'col1': [2, 3, 1, 1, 2, 3, 1, 1, 3, 4],\n",
    "    'col2': [1, 1, 1, 3, 2, 2, 2, 4, 6, 5]\n",
    "})\n",
    "print(unsorted_df)\n",
    "print(\"*\" * 64)\n",
    "\n",
    "sorted_df = unsorted_df.sort_values(by=['col2', 'col1'], kind='mergesort')\n",
    "print(sorted_df)"
   ]
  },
  {
   "cell_type": "code",
   "execution_count": null,
   "metadata": {},
   "outputs": [],
   "source": []
  },
  {
   "cell_type": "markdown",
   "metadata": {},
   "source": [
    "# Pandas字符串和文本数据"
   ]
  },
  {
   "cell_type": "code",
   "execution_count": null,
   "metadata": {},
   "outputs": [],
   "source": [
    "# 编号\t函数\t描述\n",
    "# 1\tlower()\t将Series/Index中的字符串转换为小写。\n",
    "# 2\tupper()\t将Series/Index中的字符串转换为大写。\n",
    "# 3\tlen()\t计算字符串长度。\n",
    "# 4\tstrip()\t帮助从两侧的系列/索引中的每个字符串中删除空格(包括换行符)。\n",
    "# 5\tsplit(' ')\t用给定的模式拆分每个字符串。\n",
    "# 6\tcat(sep=' ')\t使用给定的分隔符连接系列/索引元素。\n",
    "# 7\tget_dummies()\t返回具有单热编码值的数据帧(DataFrame)。\n",
    "# 8\tcontains(pattern)\t如果元素中包含子字符串，则返回每个元素的布尔值True，否则为False。\n",
    "# 9\treplace(a,b)\t将值a替换为值b。\n",
    "# 10\trepeat(value)\t重复每个元素指定的次数。\n",
    "# 11\tcount(pattern)\t返回模式中每个元素的出现总数。\n",
    "# 12\tstartswith(pattern)\t如果系列/索引中的元素以模式开始，则返回true。\n",
    "# 13\tendswith(pattern)\t如果系列/索引中的元素以模式结束，则返回true。\n",
    "# 14\tfind(pattern)\t返回模式第一次出现的位置。\n",
    "# 15\tfindall(pattern)\t返回模式的所有出现的列表。\n",
    "# 16\tswapcase\t变换字母大小写。\n",
    "# 17\tislower()\t检查系列/索引中每个字符串中的所有字符是否小写，返回布尔值\n",
    "# 18\tisupper()\t检查系列/索引中每个字符串中的所有字符是否大写，返回布尔值\n",
    "# 19\tisnumeric()\t检查系列/索引中每个字符串中的所有字符是否为数字，返回布尔值"
   ]
  },
  {
   "cell_type": "code",
   "execution_count": 21,
   "metadata": {},
   "outputs": [
    {
     "name": "stdout",
     "output_type": "stream",
     "text": [
      "0             tom\n",
      "1    william rick\n",
      "2           johns\n",
      "3         alber@t\n",
      "4             NaN\n",
      "5            1234\n",
      "6            1234\n",
      "7            1234\n",
      "8      steveminsu\n",
      "dtype: object\n",
      "\n",
      "Tom <=> William Rick <=> Johns <=> Alber@t <=> 1234 <=> 1234 <=> 1234 <=> SteveMinsu\n",
      "\n",
      "   1234  Alber@t  Johns  SteveMinsu  Tom  William Rick\n",
      "0     0        0      0           0    1             0\n",
      "1     0        0      0           0    0             1\n",
      "2     0        0      1           0    0             0\n",
      "3     0        1      0           0    0             0\n",
      "4     0        0      0           0    0             0\n",
      "5     1        0      0           0    0             0\n",
      "6     1        0      0           0    0             0\n",
      "7     1        0      0           0    0             0\n",
      "8     0        0      0           1    0             0\n",
      "\n",
      "0             Tom\n",
      "1    William Rick\n",
      "2           Johns\n",
      "3         Alber$t\n",
      "4             NaN\n",
      "5            1234\n",
      "6            1234\n",
      "7            1234\n",
      "8      SteveMinsu\n",
      "dtype: object\n",
      "0                      TomTom\n",
      "1    William RickWilliam Rick\n",
      "2                  JohnsJohns\n",
      "3              Alber@tAlber@t\n",
      "4                         NaN\n",
      "5                    12341234\n",
      "6                    12341234\n",
      "7                    12341234\n",
      "8        SteveMinsuSteveMinsu\n",
      "dtype: object\n",
      "0    0.0\n",
      "1    0.0\n",
      "2    0.0\n",
      "3    1.0\n",
      "4    NaN\n",
      "5    0.0\n",
      "6    0.0\n",
      "7    0.0\n",
      "8    2.0\n",
      "dtype: float64\n",
      "\n",
      "0     True\n",
      "1    False\n",
      "2    False\n",
      "3    False\n",
      "4      NaN\n",
      "5    False\n",
      "6    False\n",
      "7    False\n",
      "8    False\n",
      "dtype: object\n",
      "\n",
      "0   -1.0\n",
      "1   -1.0\n",
      "2   -1.0\n",
      "3    3.0\n",
      "4    NaN\n",
      "5   -1.0\n",
      "6   -1.0\n",
      "7   -1.0\n",
      "8    2.0\n",
      "dtype: float64\n",
      "\n",
      "0             tOM\n",
      "1    wILLIAM rICK\n",
      "2           jOHNS\n",
      "3         aLBER@T\n",
      "4             NaN\n",
      "5            1234\n",
      "6            1234\n",
      "7            1234\n",
      "8      sTEVEmINSU\n",
      "dtype: object\n",
      "\n",
      "0    False\n",
      "1    False\n",
      "2    False\n",
      "3    False\n",
      "4      NaN\n",
      "5     True\n",
      "6     True\n",
      "7     True\n",
      "8    False\n",
      "dtype: object\n"
     ]
    }
   ],
   "source": [
    "import pandas as pd\n",
    "import numpy as np\n",
    "\n",
    "s = pd.Series([\n",
    "    'Tom', 'William Rick', 'Johns', 'Alber@t', np.nan, '1234', '1234', '1234',\n",
    "    'SteveMinsu'\n",
    "])\n",
    "print(s.str.lower())\n",
    "print()\n",
    "print(s.str.cat(sep=' <=> '))\n",
    "print()\n",
    "print(s.str.get_dummies())\n",
    "print()\n",
    "print(s.str.replace('@', '$'))\n",
    "print(s.str.repeat(2))\n",
    "print(s.str.count('e'))\n",
    "print()\n",
    "print(s.str.startswith('T'))\n",
    "print()\n",
    "print(s.str.find('e'))\n",
    "#大小写互换\n",
    "print()\n",
    "print(s.str.swapcase())\n",
    "\n",
    "print()\n",
    "print(s.str.isnumeric())"
   ]
  },
  {
   "cell_type": "markdown",
   "metadata": {},
   "source": [
    "# Pandas选项和自定义"
   ]
  },
  {
   "cell_type": "code",
   "execution_count": 30,
   "metadata": {},
   "outputs": [
    {
     "name": "stdout",
     "output_type": "stream",
     "text": [
      "display.max_rows =  60\n",
      "display.max_columns =  20\n",
      "display.max_rows =  80\n",
      "display.max_columns =  32\n",
      "display.max_rows : int\n",
      "    If max_rows is exceeded, switch to truncate view. Depending on\n",
      "    `large_repr`, objects are either centrally truncated or printed as\n",
      "    a summary view. 'None' value means unlimited.\n",
      "\n",
      "    In case python/IPython is running in a terminal and `large_repr`\n",
      "    equals 'truncate' this can be set to 0 and pandas will auto-detect\n",
      "    the height of the terminal and print a truncated object which fits\n",
      "    the screen height. The IPython notebook, IPython qtconsole, or\n",
      "    IDLE do not run in a terminal and hence it is not possible to do\n",
      "    correct auto-detection.\n",
      "    [default: 60] [currently: 80]\n",
      "\n",
      "\n"
     ]
    }
   ],
   "source": [
    "import pandas as pd\n",
    "\n",
    "pd.reset_option(\"display.max_rows\")\n",
    "pd.reset_option(\"display.max_columns\")\n",
    "print(\"display.max_rows = \", pd.get_option(\"display.max_rows\"))\n",
    "print(\"display.max_columns = \", pd.get_option(\"display.max_columns\"))\n",
    "pd.set_option(\"display.max_rows\", 80)\n",
    "pd.set_option(\"display.max_columns\", 32)\n",
    "print(\"display.max_rows = \", pd.get_option(\"display.max_rows\"))\n",
    "print(\"display.max_columns = \", pd.get_option(\"display.max_columns\"))\n",
    "\n",
    "pd.describe_option(\"display.max_rows\")"
   ]
  },
  {
   "cell_type": "code",
   "execution_count": 32,
   "metadata": {},
   "outputs": [
    {
     "name": "stdout",
     "output_type": "stream",
     "text": [
      "10\n",
      "10\n",
      "display.max_rows =  80\n"
     ]
    }
   ],
   "source": [
    "import pandas as pd\n",
    "with pd.option_context(\"display.max_rows\", 10):\n",
    "    print(pd.get_option(\"display.max_rows\"))\n",
    "    print(pd.get_option(\"display.max_rows\"))\n",
    "\n",
    "#上下文管理器用于临时设置语句中的选项。当退出使用块时，选项值将自动恢复\n",
    "print(\"display.max_rows = \", pd.get_option(\"display.max_rows\"))"
   ]
  },
  {
   "cell_type": "code",
   "execution_count": null,
   "metadata": {},
   "outputs": [],
   "source": [
    "# 1\tdisplay.max_rows\t要显示的最大行数\n",
    "# 2\tdisplay.max_columns\t要显示的最大列数\n",
    "# 3\tdisplay.expand_frame_repr\t显示数据帧以拉伸页面\n",
    "# 4\tdisplay.max_colwidth\t显示最大列宽\n",
    "# 5\tdisplay.precision\t显示十进制数的精度"
   ]
  },
  {
   "cell_type": "code",
   "execution_count": null,
   "metadata": {},
   "outputs": [],
   "source": []
  },
  {
   "cell_type": "markdown",
   "metadata": {},
   "source": [
    "# Pandas索引和选择数据"
   ]
  },
  {
   "cell_type": "code",
   "execution_count": 34,
   "metadata": {},
   "outputs": [
    {
     "name": "stdout",
     "output_type": "stream",
     "text": [
      "          A         B         C         D\n",
      "a  1.033229  0.803727  0.933276 -1.975901\n",
      "b  1.159484 -0.514585 -0.585111 -1.212886\n",
      "c -0.111859 -1.190553  0.221465  0.590180\n",
      "d  1.447824  0.331561  0.013140 -1.176025\n",
      "e  0.570897 -0.090510  0.783385 -0.832338\n",
      "f  0.613401  0.437285 -0.809623  0.004626\n",
      "g  1.161110  0.591167  0.614271 -1.675228\n",
      "h -0.792345 -0.013553  1.035301 -0.960793\n",
      "a    1.033229\n",
      "b    1.159484\n",
      "c   -0.111859\n",
      "d    1.447824\n",
      "e    0.570897\n",
      "f    0.613401\n",
      "g    1.161110\n",
      "h   -0.792345\n",
      "Name: A, dtype: float64\n"
     ]
    }
   ],
   "source": [
    "import pandas as pd\n",
    "import numpy as np\n",
    "\n",
    "df = pd.DataFrame(\n",
    "    np.random.randn(8, 4),\n",
    "    index=['a', 'b', 'c', 'd', 'e', 'f', 'g', 'h'],\n",
    "    columns=['A', 'B', 'C', 'D'])\n",
    "print(df)\n",
    "#select all rows for a specific column\n",
    "print(df.loc[:, 'A'])"
   ]
  },
  {
   "cell_type": "code",
   "execution_count": 35,
   "metadata": {},
   "outputs": [
    {
     "name": "stdout",
     "output_type": "stream",
     "text": [
      "          A         C\n",
      "a -0.714192  2.254834\n",
      "b  1.391122  0.156036\n",
      "c  1.737295  0.461692\n",
      "d  0.026749 -1.426813\n",
      "e -0.603834  0.006060\n",
      "f  0.376094 -0.957207\n",
      "g -1.063487 -0.750930\n",
      "h  0.073940 -0.156918\n"
     ]
    }
   ],
   "source": [
    "import pandas as pd\n",
    "import numpy as np\n",
    "\n",
    "df = pd.DataFrame(\n",
    "    np.random.randn(8, 4),\n",
    "    index=['a', 'b', 'c', 'd', 'e', 'f', 'g', 'h'],\n",
    "    columns=['A', 'B', 'C', 'D'])\n",
    "\n",
    "# Select all rows for multiple columns, say list[]\n",
    "print(df.loc[:, ['A', 'C']])"
   ]
  },
  {
   "cell_type": "code",
   "execution_count": 36,
   "metadata": {},
   "outputs": [
    {
     "name": "stdout",
     "output_type": "stream",
     "text": [
      "          A         B         C         D\n",
      "a  1.618702 -0.188034 -0.911227  1.714810\n",
      "b  0.504705 -1.175777 -0.456883 -0.212715\n",
      "c -0.606022  1.465639 -0.633343 -0.006963\n",
      "d -0.311126 -0.895113 -0.342003 -0.807694\n",
      "e  0.668504  0.480799 -0.214974  0.076654\n",
      "f  0.126056 -1.141556  0.134404  0.549958\n",
      "g  0.132009 -1.145680 -0.322477  0.281099\n",
      "h -0.399629  0.735891  0.184717  0.073459\n",
      "          A         C\n",
      "a  1.618702 -0.911227\n",
      "b  0.504705 -0.456883\n",
      "f  0.126056  0.134404\n",
      "h -0.399629  0.184717\n",
      "          A         C\n",
      "a  1.618702 -0.911227\n",
      "b  0.504705 -0.456883\n",
      "c -0.606022 -0.633343\n",
      "d -0.311126 -0.342003\n",
      "e  0.668504 -0.214974\n",
      "f  0.126056  0.134404\n",
      "g  0.132009 -0.322477\n",
      "h -0.399629  0.184717\n"
     ]
    }
   ],
   "source": [
    "import pandas as pd\n",
    "import numpy as np\n",
    "\n",
    "df = pd.DataFrame(\n",
    "    np.random.randn(8, 4),\n",
    "    index=['a', 'b', 'c', 'd', 'e', 'f', 'g', 'h'],\n",
    "    columns=['A', 'B', 'C', 'D'])\n",
    "print(df)\n",
    "# Select few rows for multiple columns, say list[]\n",
    "print(df.loc[['a', 'b', 'f', 'h'], ['A', 'C']])\n",
    "# Select all rows for multiple columns, say list[]\n",
    "print(df.loc[:, ['A', 'C']])"
   ]
  },
  {
   "cell_type": "code",
   "execution_count": 40,
   "metadata": {},
   "outputs": [
    {
     "name": "stdout",
     "output_type": "stream",
     "text": [
      "          D\n",
      "a  0.261638\n",
      "b -0.605345\n",
      "c  0.955543\n",
      "d -0.135158\n",
      "e  0.500292\n",
      "f -0.352064\n",
      "g  1.352950\n",
      "h -0.600849\n",
      "a    0.261638\n",
      "b   -0.605345\n",
      "c    0.955543\n",
      "d   -0.135158\n",
      "e    0.500292\n",
      "f   -0.352064\n",
      "g    1.352950\n",
      "h   -0.600849\n",
      "Name: D, dtype: float64\n"
     ]
    }
   ],
   "source": [
    "# import the pandas library and aliasing as pd\n",
    "import pandas as pd\n",
    "import numpy as np\n",
    "\n",
    "df = pd.DataFrame(\n",
    "    np.random.randn(8, 4),\n",
    "    index=['a', 'b', 'c', 'd', 'e', 'f', 'g', 'h'],\n",
    "    columns=['A', 'B', 'C', 'D'])\n",
    "\n",
    "# Select range of rows for all columns\n",
    "print(df.loc['a':'h', ['D']])\n",
    "print(df.loc['a':'h', 'D'])"
   ]
  },
  {
   "cell_type": "code",
   "execution_count": 41,
   "metadata": {},
   "outputs": [
    {
     "name": "stdout",
     "output_type": "stream",
     "text": [
      "          A         B         C         D\n",
      "a -1.814111  0.618536  0.151818 -0.341907\n",
      "b -0.135523  0.669927  0.258069  0.242333\n",
      "c -0.521360 -0.146661  0.906080 -0.131658\n",
      "d  0.303241 -0.536278  0.089450 -2.174422\n",
      "e -1.597106 -1.311535 -0.253147 -1.689098\n",
      "f  1.434446  0.008733 -0.247326 -0.363329\n",
      "g -0.148845  0.215272 -0.680862 -1.566916\n",
      "h -0.611972  0.948984 -2.299894  0.706022\n",
      "A    False\n",
      "B     True\n",
      "C     True\n",
      "D    False\n",
      "Name: a, dtype: bool\n"
     ]
    }
   ],
   "source": [
    "import pandas as pd\n",
    "import numpy as np\n",
    "\n",
    "df = pd.DataFrame(\n",
    "    np.random.randn(8, 4),\n",
    "    index=['a', 'b', 'c', 'd', 'e', 'f', 'g', 'h'],\n",
    "    columns=['A', 'B', 'C', 'D'])\n",
    "print(df)\n",
    "# for getting values with a boolean array\n",
    "print(df.loc['a'] > 0)"
   ]
  },
  {
   "cell_type": "code",
   "execution_count": 80,
   "metadata": {},
   "outputs": [
    {
     "name": "stdout",
     "output_type": "stream",
     "text": [
      "          A         B         C         D\n",
      "0 -1.419714 -1.847622  2.294035  0.208869\n",
      "1 -0.948259  0.038118 -2.157980 -0.641268\n",
      "2  1.353699 -0.790413 -0.067839 -0.314745\n",
      "3 -0.873910  1.021508  1.099408  0.500469\n",
      "4 -0.097040 -1.230296 -0.156620  0.670067\n",
      "5  0.727269  0.208494  2.034777 -0.842250\n",
      "6 -0.769188  0.157794  1.253225  1.421651\n",
      "7  0.399904  0.313467 -0.586737 -0.879952\n",
      "          A         B         C         D\n",
      "0 -1.419714 -1.847622  2.294035  0.208869\n",
      "1 -0.948259  0.038118 -2.157980 -0.641268\n",
      "2  1.353699 -0.790413 -0.067839 -0.314745\n",
      "3 -0.873910  1.021508  1.099408  0.500469\n",
      "-1.419713590334874\n"
     ]
    }
   ],
   "source": [
    "import pandas as pd\n",
    "import numpy as np\n",
    "\n",
    "df = pd.DataFrame(np.random.randn(8, 4), columns=['A', 'B', 'C', 'D'])\n",
    "print(df)\n",
    "# select all rows for a specific column\n",
    "print(df.iloc[:4])\n",
    "\n",
    "print(df.iloc[0, 0])"
   ]
  },
  {
   "cell_type": "code",
   "execution_count": 44,
   "metadata": {},
   "outputs": [
    {
     "name": "stdout",
     "output_type": "stream",
     "text": [
      "          A         B         C         D\n",
      "0  0.531340 -1.343500 -0.268703  0.515074\n",
      "1  1.254898 -0.508647 -2.064841  0.639392\n",
      "2  0.215706  0.371009 -0.178656  0.839364\n",
      "3 -0.004246  0.439503 -0.197189  1.382441\n",
      "          C         D\n",
      "1 -2.064841  0.639392\n",
      "2 -0.178656  0.839364\n",
      "3 -0.197189  1.382441\n",
      "4  0.205018 -0.089611\n"
     ]
    }
   ],
   "source": [
    "import pandas as pd\n",
    "import numpy as np\n",
    "\n",
    "df = pd.DataFrame(np.random.randn(8, 4), columns=['A', 'B', 'C', 'D'])\n",
    "\n",
    "# Integer slicing\n",
    "print(df.iloc[:4])\n",
    "print(df.iloc[1:5, 2:4])"
   ]
  },
  {
   "cell_type": "code",
   "execution_count": 46,
   "metadata": {},
   "outputs": [
    {
     "name": "stdout",
     "output_type": "stream",
     "text": [
      "          A         B         C         D\n",
      "0  0.105457 -0.879332  0.344810 -0.225617\n",
      "1 -0.682855 -1.219431 -1.703281 -1.598395\n",
      "2  0.787878 -0.275416  1.418225 -0.255676\n",
      "3 -0.519306 -0.838736 -0.664822  1.862091\n",
      "4 -1.129703 -1.249208  1.599020  0.604051\n",
      "5  0.407625 -0.814934 -1.541687 -0.435034\n",
      "6  1.147374 -0.475449 -0.287419  1.664980\n",
      "7  0.721353 -0.536501  1.958595 -1.486771\n",
      "          B         D\n",
      "1 -1.219431 -1.598395\n",
      "3 -0.838736  1.862091\n",
      "5 -0.814934 -0.435034\n",
      "          A         B         C         D\n",
      "1 -0.682855 -1.219431 -1.703281 -1.598395\n",
      "2  0.787878 -0.275416  1.418225 -0.255676\n",
      "          B         C\n",
      "0 -0.879332  0.344810\n",
      "1 -1.219431 -1.703281\n",
      "2 -0.275416  1.418225\n",
      "3 -0.838736 -0.664822\n",
      "4 -1.249208  1.599020\n",
      "5 -0.814934 -1.541687\n",
      "6 -0.475449 -0.287419\n",
      "7 -0.536501  1.958595\n"
     ]
    }
   ],
   "source": [
    "import pandas as pd\n",
    "import numpy as np\n",
    "\n",
    "df = pd.DataFrame(np.random.randn(8, 4), columns=['A', 'B', 'C', 'D'])\n",
    "print(df)\n",
    "# Slicing through list of values\n",
    "print(df.iloc[[1, 3, 5], [1, 3]])\n",
    "print(df.iloc[1:3, :])\n",
    "print(df.iloc[:, 1:3])"
   ]
  },
  {
   "cell_type": "code",
   "execution_count": 47,
   "metadata": {},
   "outputs": [
    {
     "name": "stdout",
     "output_type": "stream",
     "text": [
      "          A         B         C         D\n",
      "0  0.336307 -0.966255 -0.530439  0.987650\n",
      "1 -0.184114 -1.370168  1.258872 -1.246663\n",
      "2 -0.090194 -1.841500 -0.955483 -1.290573\n",
      "3 -0.409138 -0.467764 -1.783925 -1.062773\n",
      "4 -0.269215 -1.451413  1.275942  0.337045\n"
     ]
    },
    {
     "name": "stderr",
     "output_type": "stream",
     "text": [
      "c:\\python36-32\\lib\\site-packages\\ipykernel_launcher.py:7: DeprecationWarning: \n",
      ".ix is deprecated. Please use\n",
      ".loc for label based indexing or\n",
      ".iloc for positional indexing\n",
      "\n",
      "See the documentation here:\n",
      "http://pandas.pydata.org/pandas-docs/stable/indexing.html#ix-indexer-is-deprecated\n",
      "  import sys\n"
     ]
    }
   ],
   "source": [
    "import pandas as pd\n",
    "import numpy as np\n",
    "# .ix is deprecated. Please use\n",
    "# .loc for label based indexing or\n",
    "# .iloc for positional indexing\n",
    "df = pd.DataFrame(np.random.randn(8, 4), columns=['A', 'B', 'C', 'D'])\n",
    "\n",
    "# Integer slicing\n",
    "print(df.ix[:4])"
   ]
  },
  {
   "cell_type": "code",
   "execution_count": 60,
   "metadata": {},
   "outputs": [
    {
     "name": "stdout",
     "output_type": "stream",
     "text": [
      "          A         B         C         D\n",
      "0  1.206803  0.884201 -0.164074  0.555653\n",
      "1  1.044370  0.739325 -0.406963 -2.238183\n",
      "2 -1.559388 -1.482341  0.984067 -1.572006\n",
      "3  0.211030 -0.486699  0.635252  0.611499\n",
      "4 -0.107049 -1.674145  1.197424 -0.280610\n",
      "5 -0.978324 -1.004870  0.020087 -1.935012\n",
      "6  0.629076  0.140574 -2.997758  0.148082\n",
      "7 -0.058229 -2.123487  0.131231  1.186247\n",
      "          A         B\n",
      "0  1.206803  0.884201\n",
      "1  1.044370  0.739325\n",
      "2 -1.559388 -1.482341\n",
      "3  0.211030 -0.486699\n",
      "4 -0.107049 -1.674145\n",
      "5 -0.978324 -1.004870\n",
      "6  0.629076  0.140574\n",
      "7 -0.058229 -2.123487\n",
      "          A         B\n",
      "0  1.206803  0.884201\n",
      "1  1.044370  0.739325\n",
      "          A         B         C         D\n",
      "2 -1.559388 -1.482341  0.984067 -1.572006\n",
      "3  0.211030 -0.486699  0.635252  0.611499\n",
      "0    1.206803\n",
      "1    1.044370\n",
      "2   -1.559388\n",
      "3    0.211030\n",
      "4   -0.107049\n",
      "5   -0.978324\n",
      "6    0.629076\n",
      "7   -0.058229\n",
      "Name: A, dtype: float64\n"
     ]
    }
   ],
   "source": [
    "#### import pandas as pd\n",
    "import numpy as np\n",
    "df = pd.DataFrame(np.random.randn(8, 4), columns=['A', 'B', 'C', 'D'])\n",
    "print(df)\n",
    "print(df[['A', 'B']])\n",
    "print(df.loc[[0, 1], ['A', 'B']])\n",
    "print(df[2:4])\n",
    "print(df['A'])"
   ]
  },
  {
   "cell_type": "code",
   "execution_count": null,
   "metadata": {},
   "outputs": [],
   "source": []
  },
  {
   "cell_type": "markdown",
   "metadata": {},
   "source": [
    "# Pandas统计函数"
   ]
  },
  {
   "cell_type": "code",
   "execution_count": 64,
   "metadata": {},
   "outputs": [
    {
     "name": "stdout",
     "output_type": "stream",
     "text": [
      "0         NaN\n",
      "1    1.000000\n",
      "2    0.500000\n",
      "3    0.333333\n",
      "4    0.250000\n",
      "5   -0.200000\n",
      "dtype: float64\n",
      "          0         1\n",
      "0  1.042589 -0.863281\n",
      "1  0.580948 -0.876794\n",
      "2  0.926316 -1.035369\n",
      "3 -0.386398 -0.545218\n",
      "4  0.216595  0.441865\n",
      "          0         1\n",
      "0       NaN       NaN\n",
      "1 -0.442784  0.015653\n",
      "2  0.594492  0.180857\n",
      "3 -1.417134 -0.473407\n",
      "4 -1.560550 -1.810437\n",
      "    0         1\n",
      "0 NaN -1.828016\n",
      "1 NaN -2.509248\n",
      "2 NaN -2.117727\n",
      "3 NaN  0.411027\n",
      "4 NaN  1.040047\n"
     ]
    }
   ],
   "source": [
    "import pandas as pd\n",
    "import numpy as np\n",
    "s = pd.Series([1, 2, 3, 4, 5, 4])\n",
    "print(s.pct_change())\n",
    "\n",
    "df = pd.DataFrame(np.random.randn(5, 2))\n",
    "print(df)\n",
    "print(df.pct_change())\n",
    "print(df.pct_change(axis=1))"
   ]
  },
  {
   "cell_type": "code",
   "execution_count": 85,
   "metadata": {},
   "outputs": [
    {
     "name": "stdout",
     "output_type": "stream",
     "text": [
      "0    1.257062\n",
      "1    0.203456\n",
      "dtype: float64\n",
      "0   -1.062327\n",
      "1    0.286869\n",
      "dtype: float64\n",
      "****************************************************************\n",
      "0.7302590179900585\n",
      "-0.38772891383486213\n",
      "****************************************************************\n",
      "-0.7107596885627656\n",
      "****************************************************************\n",
      "-0.7107596885627656\n"
     ]
    }
   ],
   "source": [
    "import pandas as pd\n",
    "import numpy as np\n",
    "s1 = pd.Series(np.random.randn(2))\n",
    "s2 = pd.Series(np.random.randn(2))\n",
    "print(s1)\n",
    "print(s2)\n",
    "print(\"*\" * 64)\n",
    "print(np.mean(s1))\n",
    "print(np.mean(s2))\n",
    "print(\"*\" * 64)\n",
    "\n",
    "# 手动计算协方差：\n",
    "print((s1.iloc[0] - np.mean(s1)) * (s2.iloc[0] - np.mean(s2)) +\n",
    "      (s1.iloc[1] - np.mean(s1)) * (s2.iloc[1] - np.mean(s2)))\n",
    "\n",
    "print(\"*\" * 64)\n",
    "print(s1.cov(s2))"
   ]
  },
  {
   "cell_type": "code",
   "execution_count": 87,
   "metadata": {},
   "outputs": [
    {
     "name": "stdout",
     "output_type": "stream",
     "text": [
      "          a         b         c         d         e\n",
      "0  0.181055 -1.205677  0.057075  0.308077  0.834475\n",
      "1 -0.124318 -1.052880 -1.032079 -0.011749 -0.421092\n",
      "2  0.185274  0.271109 -0.786959  2.201746  0.396820\n",
      "3  0.143778  1.013414 -1.432514  0.830747 -0.574553\n",
      "4 -0.280781 -1.371963  0.346130  0.413584 -0.651976\n",
      "5 -0.007923 -1.464951  1.455590 -0.334432  0.813679\n",
      "6  0.402868  0.436598  1.038382 -1.790155  0.341048\n",
      "7  1.967112 -1.102817  0.830822  0.113766 -0.026688\n",
      "8  1.443103 -1.488412  1.053258 -1.035074  0.820878\n",
      "9 -0.243785 -0.788619 -0.560031  0.312128  1.143347\n",
      "\n",
      "0.5568565612969405\n",
      "-0.10749331616348008\n",
      "0.3368636315039193\n",
      "-0.21843198223755816\n",
      "0.0422934091930018\n",
      "          a         b         c         d         e\n",
      "a  0.556857 -0.107493  0.336864 -0.218432  0.042293\n",
      "b -0.107493  0.819253 -0.465385  0.230102 -0.163633\n",
      "c  0.336864 -0.465385  1.008428 -0.707091  0.249832\n",
      "d -0.218432  0.230102 -0.707091  1.133382 -0.139958\n",
      "e  0.042293 -0.163633  0.249832 -0.139958  0.425604\n"
     ]
    }
   ],
   "source": [
    "import pandas as pd\n",
    "import numpy as np\n",
    "frame = pd.DataFrame(np.random.randn(10, 5), columns=['a', 'b', 'c', 'd', 'e'])\n",
    "print(frame)\n",
    "print()\n",
    "print(frame['a'].cov(frame['a']))\n",
    "print(frame['a'].cov(frame['b']))\n",
    "print(frame['a'].cov(frame['c']))\n",
    "print(frame['a'].cov(frame['d']))\n",
    "print(frame['a'].cov(frame['e']))\n",
    "print(frame.cov())"
   ]
  },
  {
   "cell_type": "code",
   "execution_count": 88,
   "metadata": {},
   "outputs": [
    {
     "name": "stdout",
     "output_type": "stream",
     "text": [
      "          a         b         c         d         e\n",
      "0 -0.557509 -0.376232 -1.120018 -1.123219 -1.639692\n",
      "1 -0.177093 -0.098282 -1.204170  0.429861 -0.708727\n",
      "2 -0.140452 -0.031331 -0.331803  0.816034 -0.383817\n",
      "3 -0.759304 -1.216126 -0.598732  0.565022 -1.956438\n",
      "4 -0.208382  0.430234 -0.693524 -0.254375  1.026412\n",
      "5  0.340955  0.291655  0.575882  0.161107  0.874980\n",
      "6  0.928308 -0.564151  0.469063  0.587268 -0.793464\n",
      "7 -0.753546  0.732105  0.814060 -1.019741 -1.099694\n",
      "8 -0.810191 -0.773422 -0.432507 -0.259833 -1.423830\n",
      "9 -1.147240  0.318341  0.000750  1.938192  0.472067\n",
      "-0.021461075966742366\n",
      "          a         b         c         d         e\n",
      "a  1.000000 -0.021461  0.263142  0.003848  0.260756\n",
      "b -0.021461  1.000000  0.390625 -0.084732  0.691017\n",
      "c  0.263142  0.390625  1.000000  0.074115  0.258420\n",
      "d  0.003848 -0.084732  0.074115  1.000000  0.347743\n",
      "e  0.260756  0.691017  0.258420  0.347743  1.000000\n"
     ]
    }
   ],
   "source": [
    "import pandas as pd\n",
    "import numpy as np\n",
    "frame = pd.DataFrame(np.random.randn(10, 5), columns=['a', 'b', 'c', 'd', 'e'])\n",
    "print(frame)\n",
    "print(frame['a'].corr(frame['b']))\n",
    "print(frame.corr())"
   ]
  },
  {
   "cell_type": "code",
   "execution_count": 102,
   "metadata": {},
   "outputs": [
    {
     "name": "stdout",
     "output_type": "stream",
     "text": [
      "0   -1.330738\n",
      "1    0.402370\n",
      "2   -0.140354\n",
      "3   -1.487467\n",
      "4   -1.363788\n",
      "dtype: float64\n",
      "0    4.5\n",
      "1    4.5\n",
      "2    3.0\n",
      "3    1.0\n",
      "4    2.0\n",
      "dtype: float64\n",
      "3   -1.487467\n",
      "4   -1.363788\n",
      "2   -0.140354\n",
      "0    0.402370\n",
      "1    0.402370\n",
      "dtype: float64\n"
     ]
    }
   ],
   "source": [
    "import pandas as pd\n",
    "import numpy as np\n",
    "s = pd.Series(np.random.np.random.randn(5))\n",
    "print(s)\n",
    "# s['d'] = s['b'] # so there's a tie\n",
    "s[0] = s[1]\n",
    "\n",
    "print(s.rank())\n",
    "sorted_df = s.sort_values(kind='mergesort')\n",
    "print(sorted_df)"
   ]
  },
  {
   "cell_type": "markdown",
   "metadata": {},
   "source": [
    "# Pandas窗口函数"
   ]
  },
  {
   "cell_type": "code",
   "execution_count": 116,
   "metadata": {},
   "outputs": [
    {
     "name": "stdout",
     "output_type": "stream",
     "text": [
      "                   A         B         C         D\n",
      "2020-01-01  1.373213 -1.282724 -0.385269 -0.362356\n",
      "2020-01-02  0.952647 -0.160806  0.561003 -2.280808\n",
      "2020-01-03  0.676222  0.246302 -0.536362  1.037488\n",
      "2020-01-04  2.014510  0.250458 -0.974544  0.693381\n",
      "2020-01-05  1.814336  1.523862 -0.934455 -1.320031\n",
      "2020-01-06 -0.441747  0.516630 -0.085994  0.019343\n",
      "2020-01-07 -0.064921  0.829731  0.969545 -0.913096\n",
      "2020-01-08 -1.306496  0.039633 -0.910808  1.786765\n",
      "2020-01-09  0.377740  0.771678  0.475670 -0.450170\n",
      "2020-01-10  0.491908  0.417856 -2.095820  0.756534\n",
      "1.000693937814081\n",
      "1.2144597664211354\n",
      "1.5016893353533523\n",
      "                   A         B         C         D\n",
      "2020-01-01       NaN       NaN       NaN       NaN\n",
      "2020-01-02       NaN       NaN       NaN       NaN\n",
      "2020-01-03  1.000694 -0.399076 -0.120209 -0.535225\n",
      "2020-01-04  1.214460  0.111985 -0.316635 -0.183313\n",
      "2020-01-05  1.501689  0.673541 -0.815121  0.136946\n",
      "2020-01-06  1.129033  0.763650 -0.664998 -0.202436\n",
      "2020-01-07  0.435889  0.956741 -0.016968 -0.737928\n",
      "2020-01-08 -0.604388  0.461998 -0.009085  0.297671\n",
      "2020-01-09 -0.331226  0.547014  0.178136  0.141166\n",
      "2020-01-10 -0.145616  0.409722 -0.843653  0.697710\n",
      "1.000693937814081\n",
      "1.2541479830321731\n",
      "1.3661854967481344\n",
      "                   A         B         C         D\n",
      "2020-01-01       NaN       NaN       NaN       NaN\n",
      "2020-01-02       NaN       NaN       NaN       NaN\n",
      "2020-01-03  1.000694 -0.399076 -0.120209 -0.535225\n",
      "2020-01-04  1.254148 -0.236693 -0.333793 -0.228074\n",
      "2020-01-05  1.366185  0.115418 -0.453926 -0.446465\n",
      "2020-01-06  1.064863  0.182287 -0.392604 -0.368831\n",
      "2020-01-07  0.903466  0.274779 -0.198011 -0.446583\n",
      "2020-01-08  0.627221  0.245386 -0.287111 -0.167414\n",
      "2020-01-09  0.599500  0.303863 -0.202357 -0.198832\n",
      "2020-01-10  0.588741  0.315262 -0.391703 -0.103295\n",
      "                   A         B         C         D\n",
      "2020-01-01  1.373213 -1.282724 -0.385269 -0.362356\n",
      "2020-01-02  1.057788 -0.441286  0.324435 -1.801195\n",
      "2020-01-03  0.793627  0.034737 -0.271502  0.164047\n",
      "2020-01-04  1.617723  0.180349 -0.746055  0.521348\n",
      "2020-01-05  1.749340  1.079726 -0.872174 -0.711311\n",
      "2020-01-06  0.286609  0.703813 -0.347334 -0.223539\n",
      "2020-01-07  0.052149  0.787797  0.530987 -0.683454\n",
      "2020-01-08 -0.853752  0.288945 -0.430356  0.963610\n",
      "2020-01-09 -0.032716  0.610783  0.173692  0.021042\n",
      "2020-01-10  0.317039  0.482163 -1.339341  0.511378\n"
     ]
    }
   ],
   "source": [
    "import pandas as pd\n",
    "import numpy as np\n",
    "# 注意 rolling 和 expanding的区别\n",
    "df = pd.DataFrame(\n",
    "    np.random.randn(10, 4),\n",
    "    index=pd.date_range('1/1/2020', periods=10),\n",
    "    columns=['A', 'B', 'C', 'D'])\n",
    "print(df)\n",
    "print((df.iloc[0, 0] + df.iloc[1, 0] + df.iloc[2, 0]) / 3)\n",
    "print((df.iloc[1, 0] + df.iloc[2, 0] + df.iloc[3, 0]) / 3)\n",
    "print((df.iloc[2, 0] + df.iloc[3, 0] + df.iloc[4, 0]) / 3)\n",
    "print(df.rolling(window=3).mean())\n",
    "print((df.iloc[0, 0] + df.iloc[1, 0] + df.iloc[2, 0]) / 3)\n",
    "print((df.iloc[0, 0] + df.iloc[1, 0] + df.iloc[2, 0] + df.iloc[3, 0]) / 4)\n",
    "print((df.iloc[0, 0] + df.iloc[1, 0] + df.iloc[2, 0] + df.iloc[3, 0] +\n",
    "       df.iloc[4, 0]) / 5)\n",
    "print(df.expanding(min_periods=3).mean())\n",
    "# pandas 指数加权滑动（ewm）, 指数加权滑动平均（ewma）\n",
    "print(df.ewm(com=0.5).mean())"
   ]
  },
  {
   "cell_type": "code",
   "execution_count": null,
   "metadata": {},
   "outputs": [],
   "source": []
  },
  {
   "cell_type": "markdown",
   "metadata": {},
   "source": [
    "# Pandas聚合"
   ]
  },
  {
   "cell_type": "code",
   "execution_count": 125,
   "metadata": {},
   "outputs": [
    {
     "name": "stdout",
     "output_type": "stream",
     "text": [
      "                   A         B         C         D\n",
      "2019-01-01 -0.182852  0.753431 -0.201014  0.065857\n",
      "2019-01-02  2.167381 -0.173327  0.016472 -0.903392\n",
      "2019-01-03 -0.897408  1.356596 -0.761847  0.330771\n",
      "2019-01-04 -0.831372 -0.625770  1.301220  0.784798\n",
      "2019-01-05 -0.272143  1.162833  0.093538  1.294859\n",
      "2019-01-06  0.627982  0.595526  2.293031  0.121222\n",
      "2019-01-07 -0.031109  0.332979 -1.037507  0.388416\n",
      "2019-01-08  0.843989 -0.968391  0.877144  0.873556\n",
      "2019-01-09 -1.970981 -0.529171  1.577631  1.890178\n",
      "2019-01-10 -0.352808  0.729142 -0.206808 -0.511777\n",
      "=======================================\n",
      "                   A         B         C         D\n",
      "2019-01-01 -0.182852  0.753431 -0.201014  0.065857\n",
      "2019-01-02  1.984529  0.580105 -0.184542 -0.837535\n",
      "2019-01-03  1.087121  1.936701 -0.946389 -0.506764\n",
      "2019-01-04  0.438601  0.557500  0.555845  0.212177\n",
      "2019-01-05 -2.000923  1.893660  0.632911  2.410428\n",
      "2019-01-06 -0.475533  1.132590  3.687789  2.200879\n",
      "2019-01-07  0.324730  2.091338  1.349062  1.804498\n",
      "2019-01-08  1.440862 -0.039886  2.132668  1.383195\n",
      "2019-01-09 -1.158101 -1.164583  1.417268  3.152151\n",
      "2019-01-10 -1.479800 -0.768420  2.247967  2.251958\n",
      "                   A         B         C         D\n",
      "2019-01-01 -0.182852  0.753431 -0.201014  0.065857\n",
      "2019-01-02  1.984529  0.580105 -0.184542 -0.837535\n",
      "2019-01-03  1.087121  1.936701 -0.946389 -0.506764\n",
      "2019-01-04  0.438601  0.557500  0.555845  0.212177\n",
      "2019-01-05 -2.000923  1.893660  0.632911  2.410428\n",
      "2019-01-06 -0.475533  1.132590  3.687789  2.200879\n",
      "2019-01-07  0.324730  2.091338  1.349062  1.804498\n",
      "2019-01-08  1.440862 -0.039886  2.132668  1.383195\n",
      "2019-01-09 -1.158101 -1.164583  1.417268  3.152151\n",
      "2019-01-10 -1.479800 -0.768420  2.247967  2.251958\n",
      "2019-01-01   -0.182852\n",
      "2019-01-02    1.984529\n",
      "2019-01-03    1.087121\n",
      "2019-01-04    0.438601\n",
      "2019-01-05   -2.000923\n",
      "2019-01-06   -0.475533\n",
      "2019-01-07    0.324730\n",
      "2019-01-08    1.440862\n",
      "2019-01-09   -1.158101\n",
      "2019-01-10   -1.479800\n",
      "Freq: D, Name: A, dtype: float64\n",
      "                   A         B\n",
      "2019-01-01 -0.182852  0.753431\n",
      "2019-01-02  1.984529  0.580105\n",
      "2019-01-03  1.087121  1.936701\n",
      "2019-01-04  0.438601  0.557500\n",
      "2019-01-05 -2.000923  1.893660\n",
      "2019-01-06 -0.475533  1.132590\n",
      "2019-01-07  0.324730  2.091338\n",
      "2019-01-08  1.440862 -0.039886\n",
      "2019-01-09 -1.158101 -1.164583\n",
      "2019-01-10 -1.479800 -0.768420\n",
      "                   A                   B          \n",
      "                 sum      mean       sum      mean\n",
      "2019-01-01 -0.182852 -0.182852  0.753431  0.753431\n",
      "2019-01-02  1.984529  0.992264  0.580105  0.290052\n",
      "2019-01-03  1.087121  0.362374  1.936701  0.645567\n",
      "2019-01-04  0.438601  0.146200  0.557500  0.185833\n",
      "2019-01-05 -2.000923 -0.666974  1.893660  0.631220\n",
      "2019-01-06 -0.475533 -0.158511  1.132590  0.377530\n",
      "2019-01-07  0.324730  0.108243  2.091338  0.697113\n",
      "2019-01-08  1.440862  0.480287 -0.039886 -0.013295\n",
      "2019-01-09 -1.158101 -0.386034 -1.164583 -0.388194\n",
      "2019-01-10 -1.479800 -0.493267 -0.768420 -0.256140\n",
      "                   A         B\n",
      "2019-01-01 -0.182852  0.753431\n",
      "2019-01-02  1.984529  0.290052\n",
      "2019-01-03  1.087121  0.645567\n",
      "2019-01-04  0.438601  0.185833\n",
      "2019-01-05 -2.000923  0.631220\n",
      "2019-01-06 -0.475533  0.377530\n",
      "2019-01-07  0.324730  0.697113\n",
      "2019-01-08  1.440862 -0.013295\n",
      "2019-01-09 -1.158101 -0.388194\n",
      "2019-01-10 -1.479800 -0.256140\n"
     ]
    }
   ],
   "source": [
    "import pandas as pd\n",
    "import numpy as np\n",
    "\n",
    "df = pd.DataFrame(\n",
    "    np.random.randn(10, 4),\n",
    "    index=pd.date_range('1/1/2019', periods=10),\n",
    "    columns=['A', 'B', 'C', 'D'])\n",
    "\n",
    "print(df)\n",
    "print(\"=======================================\")\n",
    "r = df.rolling(window=3, min_periods=1)\n",
    "print(r.sum())\n",
    "print(r.aggregate(np.sum))\n",
    "print(r['A'].aggregate(np.sum))\n",
    "print(r['A', 'B'].aggregate(np.sum))\n",
    "print(r['A', 'B'].aggregate([np.sum, np.mean]))\n",
    "print(r.aggregate({'A': np.sum, 'B': np.mean}))"
   ]
  },
  {
   "cell_type": "markdown",
   "metadata": {},
   "source": [
    "# Pandas缺失数据"
   ]
  },
  {
   "cell_type": "code",
   "execution_count": 136,
   "metadata": {},
   "outputs": [
    {
     "name": "stdout",
     "output_type": "stream",
     "text": [
      "        one       two     three\n",
      "a -0.596109 -1.156662 -0.461099\n",
      "b       NaN       NaN       NaN\n",
      "c -1.072778  1.048008  2.101202\n",
      "d       NaN       NaN       NaN\n",
      "e  1.304938  0.482276  1.298076\n",
      "f  0.055684 -1.694324 -0.378925\n",
      "g       NaN       NaN       NaN\n",
      "h -0.303046  1.799386 -0.963116\n",
      "a    False\n",
      "b     True\n",
      "c    False\n",
      "d     True\n",
      "e    False\n",
      "f    False\n",
      "g     True\n",
      "h    False\n",
      "Name: one, dtype: bool\n",
      "one      True\n",
      "two      True\n",
      "three    True\n",
      "Name: b, dtype: bool\n",
      "****************************************************************\n",
      "-0.6113113401896175\n",
      "0.0\n",
      "        one       two     three\n",
      "a -0.596109 -1.156662 -0.461099\n",
      "b  0.000000  0.000000  0.000000\n",
      "c -1.072778  1.048008  2.101202\n",
      "d  0.000000  0.000000  0.000000\n",
      "e  1.304938  0.482276  1.298076\n",
      "f  0.055684 -1.694324 -0.378925\n",
      "g  0.000000  0.000000  0.000000\n",
      "h -0.303046  1.799386 -0.963116\n"
     ]
    }
   ],
   "source": [
    "import pandas as pd\n",
    "import numpy as np\n",
    "\n",
    "df = pd.DataFrame(\n",
    "    np.random.randn(5, 3),\n",
    "    index=['a', 'c', 'e', 'f', 'h'],\n",
    "    columns=['one', 'two', 'three'])\n",
    "df = df.reindex(['a', 'b', 'c', 'd', 'e', 'f', 'g', 'h'])\n",
    "print(df)\n",
    "print(df['one'].isnull())\n",
    "print(df.iloc[1].isnull())\n",
    "print(\"*\" * 64)\n",
    "print(df['one'].sum())\n",
    "print(df.iloc[1].sum())\n",
    "print(df.fillna(0))"
   ]
  },
  {
   "cell_type": "markdown",
   "metadata": {},
   "source": [
    "> 清理/填充缺少数据"
   ]
  },
  {
   "cell_type": "code",
   "execution_count": 135,
   "metadata": {},
   "outputs": [
    {
     "name": "stdout",
     "output_type": "stream",
     "text": [
      "        one       two     three\n",
      "a -0.438459 -1.343903  0.146815\n",
      "c  1.734783 -0.982051 -0.405969\n",
      "e  1.254122 -0.436422  0.529807\n",
      "        one       two     three\n",
      "a -0.438459 -1.343903  0.146815\n",
      "b       NaN       NaN       NaN\n",
      "c  1.734783 -0.982051 -0.405969\n",
      "NaN replaced with '0':\n",
      "        one       two     three\n",
      "a -0.438459 -1.343903  0.146815\n",
      "b  0.000000  0.000000  0.000000\n",
      "c  1.734783 -0.982051 -0.405969\n"
     ]
    }
   ],
   "source": [
    "import pandas as pd\n",
    "import numpy as np\n",
    "df = pd.DataFrame(\n",
    "    np.random.randn(3, 3),\n",
    "    index=['a', 'c', 'e'],\n",
    "    columns=['one', 'two', 'three'])\n",
    "print(df)\n",
    "df = df.reindex(['a', 'b', 'c'])\n",
    "print(df)\n",
    "print(\"NaN replaced with '0':\")\n",
    "print(df.fillna(0))"
   ]
  },
  {
   "cell_type": "code",
   "execution_count": 139,
   "metadata": {},
   "outputs": [
    {
     "name": "stdout",
     "output_type": "stream",
     "text": [
      "        one       two     three\n",
      "a  0.418264  1.296710 -0.804438\n",
      "c -1.915339  0.970183  0.336802\n",
      "e  0.430965  0.612808  2.208541\n",
      "f  1.129030  0.831630  1.766415\n",
      "h -0.511982 -0.067461  0.952624\n",
      "        one       two     three\n",
      "a  0.418264  1.296710 -0.804438\n",
      "b       NaN       NaN       NaN\n",
      "c -1.915339  0.970183  0.336802\n",
      "d       NaN       NaN       NaN\n",
      "e  0.430965  0.612808  2.208541\n",
      "f  1.129030  0.831630  1.766415\n",
      "g       NaN       NaN       NaN\n",
      "h -0.511982 -0.067461  0.952624\n",
      "        one       two     three\n",
      "a  0.418264  1.296710 -0.804438\n",
      "b  0.418264  1.296710 -0.804438\n",
      "c -1.915339  0.970183  0.336802\n",
      "d -1.915339  0.970183  0.336802\n",
      "e  0.430965  0.612808  2.208541\n",
      "f  1.129030  0.831630  1.766415\n",
      "g  1.129030  0.831630  1.766415\n",
      "h -0.511982 -0.067461  0.952624\n",
      "        one       two     three\n",
      "a  0.418264  1.296710 -0.804438\n",
      "b -1.915339  0.970183  0.336802\n",
      "c -1.915339  0.970183  0.336802\n",
      "d  0.430965  0.612808  2.208541\n",
      "e  0.430965  0.612808  2.208541\n",
      "f  1.129030  0.831630  1.766415\n",
      "g -0.511982 -0.067461  0.952624\n",
      "h -0.511982 -0.067461  0.952624\n"
     ]
    }
   ],
   "source": [
    "import pandas as pd\n",
    "import numpy as np\n",
    "\n",
    "df = pd.DataFrame(\n",
    "    np.random.randn(5, 3),\n",
    "    index=['a', 'c', 'e', 'f', 'h'],\n",
    "    columns=['one', 'two', 'three'])\n",
    "print(df)\n",
    "df = df.reindex(['a', 'b', 'c', 'd', 'e', 'f', 'g', 'h'])\n",
    "print(df)\n",
    "print(df.fillna(method='pad'))\n",
    "print(df.fillna(method='backfill'))"
   ]
  },
  {
   "cell_type": "markdown",
   "metadata": {},
   "source": [
    "> 丢失缺少的值"
   ]
  },
  {
   "cell_type": "code",
   "execution_count": 140,
   "metadata": {},
   "outputs": [
    {
     "name": "stdout",
     "output_type": "stream",
     "text": [
      "        one       two     three\n",
      "a  0.859776 -1.428429 -0.553203\n",
      "c  0.201317  1.047977  0.950451\n",
      "e -1.392264 -1.758487 -1.231657\n",
      "f  0.140694  0.641305 -1.037360\n",
      "h  0.209394 -0.685846 -1.437906\n",
      "        one       two     three\n",
      "a  0.859776 -1.428429 -0.553203\n",
      "b       NaN       NaN       NaN\n",
      "c  0.201317  1.047977  0.950451\n",
      "d       NaN       NaN       NaN\n",
      "e -1.392264 -1.758487 -1.231657\n",
      "f  0.140694  0.641305 -1.037360\n",
      "g       NaN       NaN       NaN\n",
      "h  0.209394 -0.685846 -1.437906\n",
      "        one       two     three\n",
      "a  0.859776 -1.428429 -0.553203\n",
      "c  0.201317  1.047977  0.950451\n",
      "e -1.392264 -1.758487 -1.231657\n",
      "f  0.140694  0.641305 -1.037360\n",
      "h  0.209394 -0.685846 -1.437906\n",
      "Empty DataFrame\n",
      "Columns: []\n",
      "Index: [a, b, c, d, e, f, g, h]\n"
     ]
    }
   ],
   "source": [
    "import pandas as pd\n",
    "import numpy as np\n",
    "\n",
    "df = pd.DataFrame(\n",
    "    np.random.randn(5, 3),\n",
    "    index=['a', 'c', 'e', 'f', 'h'],\n",
    "    columns=['one', 'two', 'three'])\n",
    "print(df)\n",
    "df = df.reindex(['a', 'b', 'c', 'd', 'e', 'f', 'g', 'h'])\n",
    "print(df)\n",
    "print(df.dropna(axis=0))\n",
    "print(df.dropna(axis=1))"
   ]
  },
  {
   "cell_type": "code",
   "execution_count": 141,
   "metadata": {},
   "outputs": [
    {
     "name": "stdout",
     "output_type": "stream",
     "text": [
      "    one   two\n",
      "0    10  1000\n",
      "1    20     0\n",
      "2    30    30\n",
      "3    40    40\n",
      "4    50    50\n",
      "5  2000    60\n",
      "   one  two\n",
      "0   10   10\n",
      "1   20    0\n",
      "2   30   30\n",
      "3   40   40\n",
      "4   50   50\n",
      "5   60   60\n"
     ]
    }
   ],
   "source": [
    "import pandas as pd\n",
    "import numpy as np\n",
    "df = pd.DataFrame({\n",
    "    'one': [10, 20, 30, 40, 50, 2000],\n",
    "    'two': [1000, 0, 30, 40, 50, 60]\n",
    "})\n",
    "print(df)\n",
    "print(df.replace({1000: 10, 2000: 60}))"
   ]
  },
  {
   "cell_type": "code",
   "execution_count": null,
   "metadata": {},
   "outputs": [],
   "source": []
  },
  {
   "cell_type": "markdown",
   "metadata": {},
   "source": [
    "# Pandas分组（GroupBy）"
   ]
  },
  {
   "cell_type": "code",
   "execution_count": 154,
   "metadata": {},
   "outputs": [
    {
     "name": "stdout",
     "output_type": "stream",
     "text": [
      "      Team  Rank  Year  Points\n",
      "0   Riders     1  2014     876\n",
      "1   Riders     2  2015     789\n",
      "2   Devils     2  2014     863\n",
      "3   Devils     3  2015     673\n",
      "4    Kings     3  2014     741\n",
      "5    kings     4  2015     812\n",
      "6    Kings     1  2016     756\n",
      "7    Kings     1  2017     788\n",
      "8   Riders     2  2016     694\n",
      "9   Royals     4  2014     701\n",
      "10  Royals     1  2015     804\n",
      "11  Riders     2  2017     690\n",
      "****************************************************************\n",
      "<pandas.core.groupby.groupby.DataFrameGroupBy object at 0x1AFB5F90>\n",
      "****************************************************************\n",
      "{'Devils': Int64Index([2, 3], dtype='int64'), 'Kings': Int64Index([4, 6, 7], dtype='int64'), 'Riders': Int64Index([0, 1, 8, 11], dtype='int64'), 'Royals': Int64Index([9, 10], dtype='int64'), 'kings': Int64Index([5], dtype='int64')}\n",
      "{('Devils', 2014): Int64Index([2], dtype='int64'), ('Devils', 2015): Int64Index([3], dtype='int64'), ('Kings', 2014): Int64Index([4], dtype='int64'), ('Kings', 2016): Int64Index([6], dtype='int64'), ('Kings', 2017): Int64Index([7], dtype='int64'), ('Riders', 2014): Int64Index([0], dtype='int64'), ('Riders', 2015): Int64Index([1], dtype='int64'), ('Riders', 2016): Int64Index([8], dtype='int64'), ('Riders', 2017): Int64Index([11], dtype='int64'), ('Royals', 2014): Int64Index([9], dtype='int64'), ('Royals', 2015): Int64Index([10], dtype='int64'), ('kings', 2015): Int64Index([5], dtype='int64')}\n",
      "****************************************************************\n",
      "Devils\n",
      "     Team  Rank  Year  Points\n",
      "2  Devils     2  2014     863\n",
      "3  Devils     3  2015     673\n",
      "Kings\n",
      "    Team  Rank  Year  Points\n",
      "4  Kings     3  2014     741\n",
      "6  Kings     1  2016     756\n",
      "7  Kings     1  2017     788\n",
      "Riders\n",
      "      Team  Rank  Year  Points\n",
      "0   Riders     1  2014     876\n",
      "1   Riders     2  2015     789\n",
      "8   Riders     2  2016     694\n",
      "11  Riders     2  2017     690\n",
      "Royals\n",
      "      Team  Rank  Year  Points\n",
      "9   Royals     4  2014     701\n",
      "10  Royals     1  2015     804\n",
      "kings\n",
      "    Team  Rank  Year  Points\n",
      "5  kings     4  2015     812\n",
      "****************************************************************\n",
      "('Devils', 2014)\n",
      "     Team  Rank  Year  Points\n",
      "2  Devils     2  2014     863\n",
      "('Devils', 2015)\n",
      "     Team  Rank  Year  Points\n",
      "3  Devils     3  2015     673\n",
      "('Kings', 2014)\n",
      "    Team  Rank  Year  Points\n",
      "4  Kings     3  2014     741\n",
      "('Kings', 2016)\n",
      "    Team  Rank  Year  Points\n",
      "6  Kings     1  2016     756\n",
      "('Kings', 2017)\n",
      "    Team  Rank  Year  Points\n",
      "7  Kings     1  2017     788\n",
      "('Riders', 2014)\n",
      "     Team  Rank  Year  Points\n",
      "0  Riders     1  2014     876\n",
      "('Riders', 2015)\n",
      "     Team  Rank  Year  Points\n",
      "1  Riders     2  2015     789\n",
      "('Riders', 2016)\n",
      "     Team  Rank  Year  Points\n",
      "8  Riders     2  2016     694\n",
      "('Riders', 2017)\n",
      "      Team  Rank  Year  Points\n",
      "11  Riders     2  2017     690\n",
      "('Royals', 2014)\n",
      "     Team  Rank  Year  Points\n",
      "9  Royals     4  2014     701\n",
      "('Royals', 2015)\n",
      "      Team  Rank  Year  Points\n",
      "10  Royals     1  2015     804\n",
      "('kings', 2015)\n",
      "    Team  Rank  Year  Points\n",
      "5  kings     4  2015     812\n",
      "****************************************************************\n",
      "     Team  Rank  Year  Points\n",
      "0  Riders     1  2014     876\n",
      "2  Devils     2  2014     863\n",
      "4   Kings     3  2014     741\n",
      "9  Royals     4  2014     701\n"
     ]
    }
   ],
   "source": [
    "import pandas as pd\n",
    "\n",
    "ipl_data = {\n",
    "    'Team': [\n",
    "        'Riders', 'Riders', 'Devils', 'Devils', 'Kings', 'kings', 'Kings',\n",
    "        'Kings', 'Riders', 'Royals', 'Royals', 'Riders'\n",
    "    ],\n",
    "    'Rank': [1, 2, 2, 3, 3, 4, 1, 1, 2, 4, 1, 2],\n",
    "    'Year':\n",
    "    [2014, 2015, 2014, 2015, 2014, 2015, 2016, 2017, 2016, 2014, 2015, 2017],\n",
    "    'Points': [876, 789, 863, 673, 741, 812, 756, 788, 694, 701, 804, 690]\n",
    "}\n",
    "df = pd.DataFrame(ipl_data)\n",
    "\n",
    "print(df)\n",
    "print(\"*\" * 64)\n",
    "print(df.groupby('Team'))\n",
    "print(\"*\" * 64)\n",
    "print(df.groupby('Team').groups)\n",
    "print (df.groupby(['Team','Year']).groups)\n",
    "print(\"*\" * 64)\n",
    "for  name,group in df.groupby('Team'):\n",
    "    print(name)\n",
    "    print(group)\n",
    "print(\"*\" * 64)    \n",
    "for  name,group in df.groupby(['Team','Year']):\n",
    "    print(name)\n",
    "    print(group)\n",
    "print(\"*\" * 64)    \n",
    "grouped = df.groupby('Year')\n",
    "print (grouped.get_group(2014))\n"
   ]
  },
  {
   "cell_type": "markdown",
   "metadata": {},
   "source": [
    "> 聚合"
   ]
  },
  {
   "cell_type": "code",
   "execution_count": 168,
   "metadata": {},
   "outputs": [
    {
     "name": "stdout",
     "output_type": "stream",
     "text": [
      "2014\n",
      "     Team  Rank  Year  Points\n",
      "0  Riders     1  2014     876\n",
      "2  Devils     2  2014     863\n",
      "4   Kings     3  2014     741\n",
      "9  Royals     4  2014     701\n",
      "2015\n",
      "      Team  Rank  Year  Points\n",
      "1   Riders     2  2015     789\n",
      "3   Devils     3  2015     673\n",
      "5    kings     4  2015     812\n",
      "10  Royals     1  2015     804\n",
      "2016\n",
      "     Team  Rank  Year  Points\n",
      "6   Kings     1  2016     756\n",
      "8  Riders     2  2016     694\n",
      "2017\n",
      "      Team  Rank  Year  Points\n",
      "7    Kings     1  2017     788\n",
      "11  Riders     2  2017     690\n",
      "Year\n",
      "2014    795.25\n",
      "2015    769.50\n",
      "2016    725.00\n",
      "2017    739.00\n",
      "Name: Points, dtype: float64\n",
      "Year\n",
      "2014    3181\n",
      "2015    3078\n",
      "2016    1450\n",
      "2017    1478\n",
      "Name: Points, dtype: int64\n",
      "Year\n",
      "2014    4\n",
      "2015    4\n",
      "2016    2\n",
      "2017    2\n",
      "Name: Points, dtype: int64\n",
      "      size    mean   sum        std  amax  amin\n",
      "Year                                           \n",
      "2014     4  795.25  3181  87.439026   876   701\n",
      "2015     4  769.50  3078  65.035888   812   673\n",
      "2016     2  725.00  1450  43.840620   756   694\n",
      "2017     2  739.00  1478  69.296465   788   690\n",
      "0     876000\n",
      "1     789000\n",
      "2     863000\n",
      "3     673000\n",
      "4     741000\n",
      "5     812000\n",
      "6     756000\n",
      "7     788000\n",
      "8     694000\n",
      "9     701000\n",
      "10    804000\n",
      "11    690000\n",
      "Name: Points, dtype: int64\n",
      "<pandas.core.groupby.groupby.DataFrameGroupBy object at 0x1FA31590>\n",
      "{'Devils': Int64Index([2, 3], dtype='int64'), 'Kings': Int64Index([4, 6, 7], dtype='int64'), 'Riders': Int64Index([0, 1, 8, 11], dtype='int64'), 'Royals': Int64Index([9, 10], dtype='int64'), 'kings': Int64Index([5], dtype='int64')}\n",
      "        Rank  Year  Points\n",
      "Team                      \n",
      "Devils     2     2       2\n",
      "Kings      3     3       3\n",
      "Riders     4     4       4\n",
      "Royals     2     2       2\n",
      "kings      1     1       1\n",
      "Devils\n",
      "     Team  Rank  Year  Points\n",
      "2  Devils     2  2014     863\n",
      "3  Devils     3  2015     673\n",
      "Kings\n",
      "    Team  Rank  Year  Points\n",
      "4  Kings     3  2014     741\n",
      "6  Kings     1  2016     756\n",
      "7  Kings     1  2017     788\n",
      "Riders\n",
      "      Team  Rank  Year  Points\n",
      "0   Riders     1  2014     876\n",
      "1   Riders     2  2015     789\n",
      "8   Riders     2  2016     694\n",
      "11  Riders     2  2017     690\n",
      "Royals\n",
      "      Team  Rank  Year  Points\n",
      "9   Royals     4  2014     701\n",
      "10  Royals     1  2015     804\n",
      "kings\n",
      "    Team  Rank  Year  Points\n",
      "5  kings     4  2015     812\n",
      "    Team  Rank  Year  Points\n",
      "4  Kings     3  2014     741\n",
      "6  Kings     1  2016     756\n",
      "7  Kings     1  2017     788\n"
     ]
    }
   ],
   "source": [
    "import pandas as pd\n",
    "import numpy as np\n",
    "\n",
    "ipl_data = {\n",
    "    'Team': [\n",
    "        'Riders', 'Riders', 'Devils', 'Devils', 'Kings', 'kings', 'Kings',\n",
    "        'Kings', 'Riders', 'Royals', 'Royals', 'Riders'\n",
    "    ],\n",
    "    'Rank': [1, 2, 2, 3, 3, 4, 1, 1, 2, 4, 1, 2],\n",
    "    'Year':\n",
    "    [2014, 2015, 2014, 2015, 2014, 2015, 2016, 2017, 2016, 2014, 2015, 2017],\n",
    "    'Points': [876, 789, 863, 673, 741, 812, 756, 788, 694, 701, 804, 690]\n",
    "}\n",
    "df = pd.DataFrame(ipl_data)\n",
    "\n",
    "grouped = df.groupby('Year')\n",
    "for name, group in grouped:\n",
    "    print(name)\n",
    "    print(group)\n",
    "print(grouped['Points'].agg(np.mean))\n",
    "print(grouped['Points'].agg(np.sum))\n",
    "print(grouped['Points'].agg(np.size))\n",
    "print(grouped['Points'].agg([np.size, np.mean, np.sum, np.std, np.max,\n",
    "                             np.min]))\n",
    "\n",
    "# 转换\n",
    "# score = lambda x: (x - x.mean()) / x.std()*10\n",
    "score = lambda x: x * 1000\n",
    "print(grouped['Points'].transform(score))\n",
    "\n",
    "#过滤\n",
    "grouped = df.groupby('Team')\n",
    "print(grouped)\n",
    "print(grouped.groups)\n",
    "print(grouped.agg(np.size))\n",
    "for name, group in grouped:\n",
    "    print(name)\n",
    "    print(group)\n",
    "filter = df.groupby('Team').filter(lambda x: len(x) == 3)\n",
    "print(filter)"
   ]
  },
  {
   "cell_type": "code",
   "execution_count": null,
   "metadata": {},
   "outputs": [],
   "source": []
  },
  {
   "cell_type": "markdown",
   "metadata": {},
   "source": [
    "# Pandas合并/连接"
   ]
  },
  {
   "cell_type": "code",
   "execution_count": null,
   "metadata": {},
   "outputs": [],
   "source": [
    "# pd.merge(\n",
    "#     left,\n",
    "#     right,\n",
    "#     how='inner',\n",
    "#     on=None,\n",
    "#     left_on=None,\n",
    "#     right_on=None,\n",
    "#     left_index=False,\n",
    "#     right_index=False,\n",
    "#     sort=True)\n",
    "\n",
    "# left - 一个DataFrame对象。right - 另一个DataFrame对象。on - 列(名称)连接，必须在左和右DataFrame对象中存在(找到)。\n",
    "# left_on - 左侧DataFrame中的列用作键，可以是列名或长度等于DataFrame长度的数组。\n",
    "# right_on - 来自右的DataFrame的列作为键，可以是列名或长度等于DataFrame长度的数组。\n",
    "# left_index - 如果为True，则使用左侧DataFrame中的索引(行标签)作为其连接键。 在具有MultiIndex(分层)的DataFrame的情况下，级别的数量必须与来自右DataFrame的连接键的数量相匹配。\n",
    "# right_index - 与右DataFrame的left_index具有相同的用法。\n",
    "# how - 它是left, right, outer以及inner之中的一个，默认为内inner。 下面将介绍每种方法的用法。\n",
    "# sort - 按照字典顺序通过连接键对结果DataFrame进行排序。默认为True，设置为False时，在很多情况下大大提高性能。"
   ]
  },
  {
   "cell_type": "code",
   "execution_count": 175,
   "metadata": {},
   "outputs": [
    {
     "name": "stdout",
     "output_type": "stream",
     "text": [
      "   id    Name subject_id\n",
      "0   1    Alex       sub1\n",
      "1   2     Amy       sub2\n",
      "2   3   Allen       sub4\n",
      "3   4   Alice       sub6\n",
      "4   5  Ayoung       sub5\n",
      "========================================\n",
      "   id   Name subject_id\n",
      "0   1  Billy       sub2\n",
      "1   2  Brian       sub4\n",
      "2   3   Bran       sub3\n",
      "3   4  Bryce       sub6\n",
      "4   5  Betty       sub5\n",
      "========================================\n",
      "   id  Name_x subject_id_x Name_y subject_id_y\n",
      "0   1    Alex         sub1  Billy         sub2\n",
      "1   2     Amy         sub2  Brian         sub4\n",
      "2   3   Allen         sub4   Bran         sub3\n",
      "3   4   Alice         sub6  Bryce         sub6\n",
      "4   5  Ayoung         sub5  Betty         sub5\n",
      "========================================\n",
      "   id  Name_x subject_id Name_y\n",
      "0   4   Alice       sub6  Bryce\n",
      "1   5  Ayoung       sub5  Betty\n",
      "========================================\n",
      "   id_x  Name_x subject_id  id_y Name_y\n",
      "0     1    Alex       sub1   NaN    NaN\n",
      "1     2     Amy       sub2   1.0  Billy\n",
      "2     3   Allen       sub4   2.0  Brian\n",
      "3     4   Alice       sub6   4.0  Bryce\n",
      "4     5  Ayoung       sub5   5.0  Betty\n",
      "========================================\n",
      "   id_x  Name_x subject_id  id_y Name_y\n",
      "0   2.0     Amy       sub2     1  Billy\n",
      "1   3.0   Allen       sub4     2  Brian\n",
      "2   4.0   Alice       sub6     4  Bryce\n",
      "3   5.0  Ayoung       sub5     5  Betty\n",
      "4   NaN     NaN       sub3     3   Bran\n",
      "========================================\n",
      "   id_x  Name_x subject_id  id_y Name_y\n",
      "0   1.0    Alex       sub1   NaN    NaN\n",
      "1   2.0     Amy       sub2   1.0  Billy\n",
      "2   3.0   Allen       sub4   2.0  Brian\n",
      "3   4.0   Alice       sub6   4.0  Bryce\n",
      "4   5.0  Ayoung       sub5   5.0  Betty\n",
      "5   NaN     NaN       sub3   3.0   Bran\n",
      "========================================\n",
      "   id_x  Name_x subject_id  id_y Name_y\n",
      "0     2     Amy       sub2     1  Billy\n",
      "1     3   Allen       sub4     2  Brian\n",
      "2     4   Alice       sub6     4  Bryce\n",
      "3     5  Ayoung       sub5     5  Betty\n"
     ]
    }
   ],
   "source": [
    "import pandas as pd\n",
    "left = pd.DataFrame({\n",
    "    'id': [1, 2, 3, 4, 5],\n",
    "    'Name': ['Alex', 'Amy', 'Allen', 'Alice', 'Ayoung'],\n",
    "    'subject_id': ['sub1', 'sub2', 'sub4', 'sub6', 'sub5']\n",
    "})\n",
    "right = pd.DataFrame({\n",
    "    'id': [1, 2, 3, 4, 5],\n",
    "    'Name': ['Billy', 'Brian', 'Bran', 'Bryce', 'Betty'],\n",
    "    'subject_id': ['sub2', 'sub4', 'sub3', 'sub6', 'sub5']\n",
    "})\n",
    "print(left)\n",
    "print(\"========================================\")\n",
    "print(right)\n",
    "print(\"========================================\")\n",
    "rs = pd.merge(left, right, on='id')\n",
    "print(rs)\n",
    "print(\"========================================\")\n",
    "rs = pd.merge(left, right, on=['id', 'subject_id'])\n",
    "print(rs)\n",
    "print(\"========================================\")\n",
    "rs = pd.merge(left, right, on='subject_id', how='left')\n",
    "print(rs)\n",
    "\n",
    "print(\"========================================\")\n",
    "rs = pd.merge(left, right, on='subject_id', how='right')\n",
    "print(rs)\n",
    "\n",
    "print(\"========================================\")\n",
    "rs = pd.merge(left, right, how='outer', on='subject_id')\n",
    "print(rs)\n",
    "\n",
    "print(\"========================================\")\n",
    "rs = pd.merge(left, right, on='subject_id', how='inner')\n",
    "print (rs)"
   ]
  },
  {
   "cell_type": "code",
   "execution_count": null,
   "metadata": {},
   "outputs": [],
   "source": []
  },
  {
   "cell_type": "markdown",
   "metadata": {},
   "source": [
    "# Pandas级联"
   ]
  },
  {
   "cell_type": "code",
   "execution_count": null,
   "metadata": {},
   "outputs": [],
   "source": [
    "# pd.concat(objs, axis=0, join='outer', join_axes=None, ignore_index=False)\n",
    "# objs - 这是Series，DataFrame或Panel对象的序列或映射。\n",
    "# axis - {0，1，...}，默认为0，这是连接的轴。\n",
    "# join - {'inner', 'outer'}，默认inner。如何处理其他轴上的索引。联合的外部和交叉的内部。\n",
    "# ignore_index − 布尔值，默认为False。如果指定为True，则不要使用连接轴上的索引值。结果轴将被标记为：0，...，n-1。\n",
    "# join_axes - 这是Index对象的列表。用于其他(n-1)轴的特定索引，而不是执行内部/外部集逻辑。"
   ]
  },
  {
   "cell_type": "code",
   "execution_count": 181,
   "metadata": {},
   "outputs": [
    {
     "name": "stdout",
     "output_type": "stream",
     "text": [
      "     Name subject_id  Marks_scored\n",
      "1    Alex       sub1            98\n",
      "2     Amy       sub2            90\n",
      "3   Allen       sub4            87\n",
      "4   Alice       sub6            69\n",
      "5  Ayoung       sub5            78\n",
      "1   Billy       sub2            89\n",
      "2   Brian       sub4            80\n",
      "3    Bran       sub3            79\n",
      "4   Bryce       sub6            97\n",
      "5   Betty       sub5            88\n",
      "===========================================\n",
      "       Name subject_id  Marks_scored\n",
      "x 1    Alex       sub1            98\n",
      "  2     Amy       sub2            90\n",
      "  3   Allen       sub4            87\n",
      "  4   Alice       sub6            69\n",
      "  5  Ayoung       sub5            78\n",
      "y 1   Billy       sub2            89\n",
      "  2   Brian       sub4            80\n",
      "  3    Bran       sub3            79\n",
      "  4   Bryce       sub6            97\n",
      "  5   Betty       sub5            88\n",
      "===========================================\n",
      "     Name subject_id  Marks_scored\n",
      "0    Alex       sub1            98\n",
      "1     Amy       sub2            90\n",
      "2   Allen       sub4            87\n",
      "3   Alice       sub6            69\n",
      "4  Ayoung       sub5            78\n",
      "5   Billy       sub2            89\n",
      "6   Brian       sub4            80\n",
      "7    Bran       sub3            79\n",
      "8   Bryce       sub6            97\n",
      "9   Betty       sub5            88\n",
      "===========================================\n",
      "     Name subject_id  Marks_scored   Name subject_id  Marks_scored\n",
      "1    Alex       sub1            98  Billy       sub2            89\n",
      "2     Amy       sub2            90  Brian       sub4            80\n",
      "3   Allen       sub4            87   Bran       sub3            79\n",
      "4   Alice       sub6            69  Bryce       sub6            97\n",
      "5  Ayoung       sub5            78  Betty       sub5            88\n",
      "===========================================\n",
      "      Name subject_id  Marks_scored\n",
      "0     Alex       sub1            98\n",
      "1      Amy       sub2            90\n",
      "2    Allen       sub4            87\n",
      "3    Alice       sub6            69\n",
      "4   Ayoung       sub5            78\n",
      "5    Billy       sub2            89\n",
      "6    Brian       sub4            80\n",
      "7     Bran       sub3            79\n",
      "8    Bryce       sub6            97\n",
      "9    Betty       sub5            88\n",
      "10    Alex       sub1            98\n",
      "11     Amy       sub2            90\n",
      "12   Allen       sub4            87\n",
      "13   Alice       sub6            69\n",
      "14  Ayoung       sub5            78\n",
      "15   Billy       sub2            89\n",
      "16   Brian       sub4            80\n",
      "17    Bran       sub3            79\n",
      "18   Bryce       sub6            97\n",
      "19   Betty       sub5            88\n"
     ]
    }
   ],
   "source": [
    "import pandas as pd\n",
    "one = pd.DataFrame({\n",
    "    'Name': ['Alex', 'Amy', 'Allen', 'Alice', 'Ayoung'],\n",
    "    'subject_id': ['sub1', 'sub2', 'sub4', 'sub6', 'sub5'],\n",
    "    'Marks_scored': [98, 90, 87, 69, 78]\n",
    "},\n",
    "                   index=[1, 2, 3, 4, 5])\n",
    "two = pd.DataFrame({\n",
    "    'Name': ['Billy', 'Brian', 'Bran', 'Bryce', 'Betty'],\n",
    "    'subject_id': ['sub2', 'sub4', 'sub3', 'sub6', 'sub5'],\n",
    "    'Marks_scored': [89, 80, 79, 97, 88]\n",
    "},\n",
    "                   index=[1, 2, 3, 4, 5])\n",
    "rs = pd.concat([one, two])\n",
    "print(rs)\n",
    "print(\"===========================================\")\n",
    "rs = pd.concat([one,two],keys=['x','y'])\n",
    "print(rs)\n",
    "print(\"===========================================\")\n",
    "rs = pd.concat([one,two],keys=['x','y'],ignore_index=True)\n",
    "print(rs)\n",
    "\n",
    "print(\"===========================================\")\n",
    "rs = pd.concat([one,two],axis=1)\n",
    "print(rs)\n",
    "print(\"===========================================\")\n",
    "rs = one.append([two,one,two],ignore_index=True)\n",
    "print(rs)"
   ]
  },
  {
   "cell_type": "markdown",
   "metadata": {},
   "source": [
    "# Pandas日期功能"
   ]
  },
  {
   "cell_type": "code",
   "execution_count": 265,
   "metadata": {},
   "outputs": [
    {
     "name": "stdout",
     "output_type": "stream",
     "text": [
      "2019-01-10 16:58:31.185562\n",
      "2018-11-01 00:00:00\n",
      "2262-04-11 23:47:16\n",
      "[datetime.time(12, 0) datetime.time(12, 30) datetime.time(13, 0)\n",
      " datetime.time(13, 30) datetime.time(14, 0) datetime.time(14, 30)\n",
      " datetime.time(15, 0) datetime.time(15, 30) datetime.time(16, 0)\n",
      " datetime.time(16, 30) datetime.time(17, 0) datetime.time(17, 30)\n",
      " datetime.time(18, 0) datetime.time(18, 30) datetime.time(19, 0)\n",
      " datetime.time(19, 30) datetime.time(20, 0) datetime.time(20, 30)\n",
      " datetime.time(21, 0) datetime.time(21, 30) datetime.time(22, 0)\n",
      " datetime.time(22, 30) datetime.time(23, 0) datetime.time(23, 30)]\n",
      "====================\n",
      "[datetime.time(12, 0) datetime.time(13, 0) datetime.time(14, 0)\n",
      " datetime.time(15, 0) datetime.time(16, 0) datetime.time(17, 0)\n",
      " datetime.time(18, 0) datetime.time(19, 0) datetime.time(20, 0)\n",
      " datetime.time(21, 0) datetime.time(22, 0) datetime.time(23, 0)]\n",
      "====================\n",
      "DatetimeIndex(['2018-01-31', '2018-04-30', '2018-07-31', '2018-10-31',\n",
      "               '2019-01-31'],\n",
      "              dtype='datetime64[ns]', freq='3M')\n",
      "DatetimeIndex(['2018-01-01', '2018-01-04', '2018-01-07', '2018-01-10',\n",
      "               '2018-01-13'],\n",
      "              dtype='datetime64[ns]', freq='<3 * DateOffsets>')\n",
      "DatetimeIndex(['2018-01-01 00:00:00', '2018-01-01 00:03:00',\n",
      "               '2018-01-01 00:06:00', '2018-01-01 00:09:00',\n",
      "               '2018-01-01 00:12:00'],\n",
      "              dtype='datetime64[ns]', freq='3T')\n",
      "DatetimeIndex(['2018-01-01 00:00:00', '2018-01-01 00:00:03',\n",
      "               '2018-01-01 00:00:06', '2018-01-01 00:00:09',\n",
      "               '2018-01-01 00:00:12'],\n",
      "              dtype='datetime64[ns]', freq='3S')\n"
     ]
    }
   ],
   "source": [
    "import pandas as pd\n",
    "print(pd.datetime.now())\n",
    "\n",
    "time = pd.Timestamp('2018-11-01')\n",
    "print(time)\n",
    "\n",
    "time = pd.Timestamp(9223372036,unit='s')\n",
    "print(time)\n",
    "\n",
    "\n",
    "time = pd.date_range(\"12:00\", \"23:59\", freq=\"30min\").time\n",
    "print(time)\n",
    "print(\"====================\")\n",
    "time = pd.date_range(\"12:00\", \"23:59\", freq=\"H\").time\n",
    "print(time)\n",
    "print(\"====================\")\n",
    "time=pd.date_range(start='1/1/2018', periods=5, freq=pd.offsets.MonthEnd(3))\n",
    "print(time)\n",
    "\n",
    "time=pd.date_range(start='1/1/2018', periods=5, freq=pd.offsets.DateOffset(3))\n",
    "print(time)\n",
    "\n",
    "time=pd.date_range(start='1/1/2018', periods=5, freq=pd.offsets.Minute(3))\n",
    "print(time)\n",
    "\n",
    "time=pd.date_range(start='1/1/2018', periods=5, freq=pd.offsets.Second(3))\n",
    "print(time)"
   ]
  },
  {
   "cell_type": "code",
   "execution_count": 268,
   "metadata": {},
   "outputs": [
    {
     "name": "stdout",
     "output_type": "stream",
     "text": [
      "0   2009-07-31\n",
      "1   2019-10-10\n",
      "2          NaT\n",
      "dtype: datetime64[ns]\n",
      "[Timestamp('2009-11-23 00:00:00'), Timestamp('2019-12-31 00:00:00'), NaT]\n"
     ]
    }
   ],
   "source": [
    "import pandas as pd\n",
    "\n",
    "time = pd.to_datetime(pd.Series(['Jul 31, 2009','2019-10-10', None]))\n",
    "print(time)\n",
    "time = pd.to_datetime(['2009/11/23', '2019.12.31', None])\n",
    "print(list(time))"
   ]
  },
  {
   "cell_type": "code",
   "execution_count": null,
   "metadata": {},
   "outputs": [],
   "source": [
    "# 别名\t描述说明\n",
    "# B\t工作日频率\n",
    "# BQS\t商务季度开始频率\n",
    "# D\t日历/自然日频率\n",
    "# A\t年度(年)结束频率\n",
    "# W\t每周频率\n",
    "# BA\t商务年底结束\n",
    "# M\t月结束频率\n",
    "# BAS\t商务年度开始频率\n",
    "# SM\t半月结束频率\n",
    "# BH\t商务时间频率\n",
    "# SM\t半月结束频率\n",
    "# BH\t商务时间频率\n",
    "# BM\t商务月结束频率\n",
    "# H\t小时频率\n",
    "# MS\t月起始频率\n",
    "# T, min\t分钟的频率\n",
    "# SMS\tSMS半开始频率\n",
    "# S\t秒频率\n",
    "# BMS\t商务月开始频率\n",
    "# L, ms\t毫秒\n",
    "# Q\t季度结束频率\n",
    "# U, us\t微秒\n",
    "# BQ\t商务季度结束频率\n",
    "# N\t纳秒\n",
    "# BQ\t商务季度结束频率\n",
    "# QS\t季度开始频率"
   ]
  },
  {
   "cell_type": "markdown",
   "metadata": {},
   "source": [
    "# Pandas可视化"
   ]
  },
  {
   "cell_type": "code",
   "execution_count": 276,
   "metadata": {},
   "outputs": [
    {
     "data": {
      "text/plain": [
       "<matplotlib.axes._subplots.AxesSubplot at 0x22874d30>"
      ]
     },
     "execution_count": 276,
     "metadata": {},
     "output_type": "execute_result"
    },
    {
     "data": {
      "image/png": "[encoded data removed]",
      "text/plain": [
       "<Figure size 432x288 with 1 Axes>"
      ]
     },
     "metadata": {
      "needs_background": "light"
     },
     "output_type": "display_data"
    },
    {
     "data": {
      "image/png": "[encoded data removed]",
      "text/plain": [
       "<Figure size 432x288 with 1 Axes>"
      ]
     },
     "metadata": {
      "needs_background": "light"
     },
     "output_type": "display_data"
    },
    {
     "data": {
      "image/png": "[encoded data removed]",
      "text/plain": [
       "<Figure size 432x288 with 1 Axes>"
      ]
     },
     "metadata": {
      "needs_background": "light"
     },
     "output_type": "display_data"
    },
    {
     "data": {
      "image/png": "[encoded data removed]",
      "text/plain": [
       "<Figure size 432x288 with 1 Axes>"
      ]
     },
     "metadata": {
      "needs_background": "light"
     },
     "output_type": "display_data"
    },
    {
     "data": {
      "image/png": "[encoded data removed]",
      "text/plain": [
       "<Figure size 432x288 with 1 Axes>"
      ]
     },
     "metadata": {
      "needs_background": "light"
     },
     "output_type": "display_data"
    }
   ],
   "source": [
    "import pandas as pd\n",
    "import numpy as np\n",
    "import matplotlib.pyplot as plt\n",
    "\n",
    "df = pd.DataFrame(\n",
    "    np.random.randn(20, 4),\n",
    "    index=pd.date_range('2018/12/18', periods=20),\n",
    "    columns=list('ABCD'))\n",
    "\n",
    "df.plot()\n",
    "df.plot.bar()\n",
    "df.plot.bar(stacked=True)\n",
    "df.plot.barh()\n",
    "df.plot.barh(stacked=True)"
   ]
  },
  {
   "cell_type": "code",
   "execution_count": 293,
   "metadata": {},
   "outputs": [
    {
     "data": {
      "text/plain": [
       "array([[<matplotlib.axes._subplots.AxesSubplot object at 0x2277BE90>,\n",
       "        <matplotlib.axes._subplots.AxesSubplot object at 0x2699AA70>],\n",
       "       [<matplotlib.axes._subplots.AxesSubplot object at 0x26984890>,\n",
       "        <matplotlib.axes._subplots.AxesSubplot object at 0x226EE630>]],\n",
       "      dtype=object)"
      ]
     },
     "execution_count": 293,
     "metadata": {},
     "output_type": "execute_result"
    },
    {
     "data": {
      "image/png": "[encoded data removed]",
      "text/plain": [
       "<Figure size 432x288 with 1 Axes>"
      ]
     },
     "metadata": {
      "needs_background": "light"
     },
     "output_type": "display_data"
    },
    {
     "data": {
      "image/png": "[encoded data removed]",
      "text/plain": [
       "<Figure size 432x288 with 4 Axes>"
      ]
     },
     "metadata": {
      "needs_background": "light"
     },
     "output_type": "display_data"
    }
   ],
   "source": [
    "##### import pandas as pd\n",
    "import numpy as np\n",
    "\n",
    "df = pd.DataFrame({\n",
    "    'a': np.random.randn(1000) + 10,\n",
    "    'b': np.random.randn(1000),\n",
    "    'c': np.random.randn(1000) - 10\n",
    "},\n",
    "                  columns=['a', 'b', 'c'])\n",
    "\n",
    "\n",
    "df.plot.hist(bins=60)\n",
    "df.hist(bins=60)"
   ]
  },
  {
   "cell_type": "code",
   "execution_count": 308,
   "metadata": {},
   "outputs": [
    {
     "name": "stdout",
     "output_type": "stream",
     "text": [
      "          A         B         C         D         E\n",
      "0  0.279246  0.325928  0.640401  0.725166  0.484362\n",
      "1  0.415967  0.264367  0.377882  0.586543  0.841398\n",
      "2  0.330850  0.327817  0.243849  0.162119  0.533346\n",
      "3  0.736063  0.159969  0.861547  0.046792  0.362654\n",
      "4  0.995920  0.577521  0.997958  0.445103  0.435884\n",
      "5  0.244501  0.059209  0.522445  0.974239  0.489223\n",
      "6  0.031525  0.633771  0.904571  0.745902  0.860419\n",
      "7  0.573450  0.424216  0.206129  0.291966  0.165842\n",
      "8  0.802406  0.310641  0.763650  0.673131  0.276956\n",
      "9  0.089833  0.659066  0.499752  0.918241  0.480168\n"
     ]
    },
    {
     "data": {
      "text/plain": [
       "<matplotlib.axes._subplots.AxesSubplot at 0x28180ed0>"
      ]
     },
     "execution_count": 308,
     "metadata": {},
     "output_type": "execute_result"
    },
    {
     "data": {
      "image/png": "[encoded data removed]",
      "text/plain": [
       "<Figure size 432x288 with 1 Axes>"
      ]
     },
     "metadata": {
      "needs_background": "light"
     },
     "output_type": "display_data"
    }
   ],
   "source": [
    "import pandas as pd\n",
    "import numpy as np\n",
    "df = pd.DataFrame(np.random.rand(10, 5), columns=['A', 'B', 'C', 'D', 'E'])\n",
    "print(df)\n",
    "df.plot.box()"
   ]
  },
  {
   "cell_type": "code",
   "execution_count": 311,
   "metadata": {},
   "outputs": [
    {
     "data": {
      "text/plain": [
       "<matplotlib.axes._subplots.AxesSubplot at 0x282c8f90>"
      ]
     },
     "execution_count": 311,
     "metadata": {},
     "output_type": "execute_result"
    },
    {
     "data": {
      "image/png": "[encoded data removed]",
      "text/plain": [
       "<Figure size 432x288 with 1 Axes>"
      ]
     },
     "metadata": {
      "needs_background": "light"
     },
     "output_type": "display_data"
    }
   ],
   "source": [
    "import pandas as pd\n",
    "import numpy as np\n",
    "\n",
    "df = pd.DataFrame(np.random.rand(10, 4), columns=['a', 'b', 'c', 'd'])\n",
    "df.plot.area()\n"
   ]
  },
  {
   "cell_type": "code",
   "execution_count": 319,
   "metadata": {},
   "outputs": [
    {
     "name": "stdout",
     "output_type": "stream",
     "text": [
      "          a         b\n",
      "0  0.620338  0.444819\n",
      "1  0.946499  0.330463\n",
      "2  0.927458  0.458423\n",
      "3  0.700586  0.327314\n",
      "4  0.151473  0.044552\n"
     ]
    },
    {
     "data": {
      "text/plain": [
       "<matplotlib.axes._subplots.AxesSubplot at 0x285d3070>"
      ]
     },
     "execution_count": 319,
     "metadata": {},
     "output_type": "execute_result"
    },
    {
     "data": {
      "image/png": "[encoded data removed]",
      "text/plain": [
       "<Figure size 432x288 with 1 Axes>"
      ]
     },
     "metadata": {
      "needs_background": "light"
     },
     "output_type": "display_data"
    }
   ],
   "source": [
    "import pandas as pd\n",
    "import numpy as np\n",
    "df = pd.DataFrame(np.random.rand(5, 2), columns=['a', 'b'])\n",
    "print(df)\n",
    "df.plot.scatter(x='a', y='b')"
   ]
  },
  {
   "cell_type": "code",
   "execution_count": 324,
   "metadata": {},
   "outputs": [
    {
     "data": {
      "text/plain": [
       "array([<matplotlib.axes._subplots.AxesSubplot object at 0x286C3ED0>],\n",
       "      dtype=object)"
      ]
     },
     "execution_count": 324,
     "metadata": {},
     "output_type": "execute_result"
    },
    {
     "data": {
      "image/png": "[encoded data removed]",
      "text/plain": [
       "<Figure size 432x288 with 1 Axes>"
      ]
     },
     "metadata": {},
     "output_type": "display_data"
    }
   ],
   "source": [
    "import pandas as pd\n",
    "import numpy as np\n",
    "\n",
    "df = pd.DataFrame(\n",
    "     np.random.rand(4), index=['a', 'b', 'c', 'd'], columns=['xxxxxxx'])\n",
    "df.plot.pie(subplots=True)"
   ]
  },
  {
   "cell_type": "code",
   "execution_count": null,
   "metadata": {},
   "outputs": [],
   "source": []
  },
  {
   "cell_type": "markdown",
   "metadata": {},
   "source": [
    "# Pandas IO工具"
   ]
  },
  {
   "cell_type": "code",
   "execution_count": 356,
   "metadata": {},
   "outputs": [
    {
     "name": "stdout",
     "output_type": "stream",
     "text": [
      "   S.No    Name  Age       City  Salary  S.No.1  Name.1  Age.1     City.1  Salary.1  S.No.2  Name.2  Age.2     City.2  Salary.2  S.No.3  Name.3  Age.3     City.3  Salary.3  S.No.4  Name.4  Age.4  \\\n",
      "0     1     Tom   28    Toronto   20000       1     Tom     28    Toronto     20000       1     Tom     28    Toronto     20000       1     Tom     28    Toronto     20000       1     Tom     28   \n",
      "1     2     Lee   32   HongKong    3000       2     Lee     32   HongKong      3000       2     Lee     32   HongKong      3000       2     Lee     32   HongKong      3000       2     Lee     32   \n",
      "2     3  Steven   43    BayArea    8300       3  Steven     43    BayArea      8300       3  Steven     43    BayArea      8300       3  Steven     43    BayArea      8300       3  Steven     43   \n",
      "3     4     Ram   38  Hyderabad    3900       4     Ram     38  Hyderabad      3900       4     Ram     38  Hyderabad      3900       4     Ram     38  Hyderabad      3900       4     Ram     38   \n",
      "\n",
      "      City.4  Salary.4  S.No.5  Name.5  Age.5     City.5  Salary.5  S.No.6  Name.6  Age.6     City.6  Salary.6  S.No.7  Name.7  Age.7     City.7  Salary.7  \n",
      "0    Toronto     20000       1     Tom     28    Toronto     20000       1     Tom     28    Toronto     20000       1     Tom     28    Toronto     20000  \n",
      "1   HongKong      3000       2     Lee     32   HongKong      3000       2     Lee     32   HongKong      3000       2     Lee     32   HongKong      3000  \n",
      "2    BayArea      8300       3  Steven     43    BayArea      8300       3  Steven     43    BayArea      8300       3  Steven     43    BayArea      8300  \n",
      "3  Hyderabad      3900       4     Ram     38  Hyderabad      3900       4     Ram     38  Hyderabad      3900       4     Ram     38  Hyderabad      3900  \n"
     ]
    }
   ],
   "source": [
    "import pandas as pd\n",
    "df=pd.read_csv(\"22.csv\", sep=',',encoding=\"GBK\")\n",
    "\n",
    "pd.set_option(\"max_columns\",1000) \n",
    "pd.set_option(\"display.width\",200)\n",
    "\n",
    "# pd.set_option(‘max_row’,300) \n",
    "# pd.set_option(\"display.float_format\", lambda x: \"%.5f\" % x)\n",
    "\n",
    "print (df)"
   ]
  },
  {
   "cell_type": "code",
   "execution_count": 367,
   "metadata": {},
   "outputs": [
    {
     "name": "stdout",
     "output_type": "stream",
     "text": [
      "   S.No    Name  Age       City  Salary\n",
      "0     1     Tom   28    Toronto   20000\n",
      "1     2     Lee   32   HongKong    3000\n",
      "2     3  Steven   43   Bay Area    8300\n",
      "3     4     Ram   38  Hyderabad    3900\n",
      "RangeIndex(start=0, stop=4, step=1)\n",
      "<class 'pandas.core.indexes.base.Index'>\n",
      "['S.No', 'Name', 'Age', 'City', 'Salary']\n",
      "        Name  Age       City  Salary\n",
      "S.No                                \n",
      "1        Tom   28    Toronto   20000\n",
      "2        Lee   32   HongKong    3000\n",
      "3     Steven   43   Bay Area    8300\n",
      "4        Ram   38  Hyderabad    3900\n",
      "Name      object\n",
      "Age        int64\n",
      "City      object\n",
      "Salary     int64\n",
      "dtype: object\n",
      "        Name  Age       City      Salary\n",
      "S.No                                    \n",
      "1        Tom   28    Toronto 20000.00000\n",
      "2        Lee   32   HongKong  3000.00000\n",
      "3     Steven   43   Bay Area  8300.00000\n",
      "4        Ram   38  Hyderabad  3900.00000\n",
      "Name       object\n",
      "Age         int64\n",
      "City       object\n",
      "Salary    float64\n",
      "dtype: object\n"
     ]
    }
   ],
   "source": [
    "import pandas as pd\n",
    "df = pd.read_csv('temp.csv')\n",
    "print(df)\n",
    "print(df.index)\n",
    "print(type(df.columns))\n",
    "print(list(df.columns))\n",
    "\n",
    "# 自定义索引\n",
    "df=pd.read_csv(\"temp.csv\",index_col=['S.No'])\n",
    "print (df)\n",
    "print(df.dtypes)\n",
    "\n",
    "#转换列的数据类型\n",
    "df=pd.read_csv(\"temp.csv\",index_col=['S.No'],dtype={'Salary':np.float64})\n",
    "print (df)\n",
    "print(df.dtypes)"
   ]
  },
  {
   "cell_type": "markdown",
   "metadata": {},
   "source": [
    "> header_names  names参数指定标题的名称"
   ]
  },
  {
   "cell_type": "code",
   "execution_count": 375,
   "metadata": {},
   "outputs": [
    {
     "name": "stdout",
     "output_type": "stream",
     "text": [
      "   S.No    Name  Age       City  Salary\n",
      "0     1     Tom   28    Toronto   20000\n",
      "1     2     Lee   32   HongKong    3000\n",
      "2     3  Steven   43   Bay Area    8300\n",
      "3     4     Ram   38  Hyderabad    3900\n",
      "      a       b    c          d       e\n",
      "0  S.No    Name  Age       City  Salary\n",
      "1     1     Tom   28    Toronto   20000\n",
      "2     2     Lee   32   HongKong    3000\n",
      "3     3  Steven   43   Bay Area    8300\n",
      "4     4     Ram   38  Hyderabad    3900\n",
      "   a       b   c          d      e\n",
      "0  1     Tom  28    Toronto  20000\n",
      "1  2     Lee  32   HongKong   3000\n",
      "2  3  Steven  43   Bay Area   8300\n",
      "3  4     Ram  38  Hyderabad   3900\n",
      "\n",
      "   2     Lee  32   HongKong  3000\n",
      "0  3  Steven  43   Bay Area  8300\n",
      "1  4     Ram  38  Hyderabad  3900\n"
     ]
    }
   ],
   "source": [
    "import pandas as pd\n",
    "import numpy as np\n",
    "\n",
    "df = pd.read_csv('temp.csv')\n",
    "print(df)\n",
    "# 标题名称附加了自定义名称，但文件中的标题还没有被消除。 现在，使用header参数来删除它。\n",
    "df=pd.read_csv(\"temp.csv\", names=['a', 'b', 'c','d','e'])\n",
    "print (df)\n",
    "\n",
    "df=pd.read_csv(\"temp.csv\", names=['a', 'b', 'c','d','e'],header=0)\n",
    "print (df)\n",
    "print()\n",
    "# 跳过指定行\n",
    "df=pd.read_csv(\"temp.csv\", skiprows=2)\n",
    "print (df)"
   ]
  },
  {
   "cell_type": "code",
   "execution_count": null,
   "metadata": {},
   "outputs": [],
   "source": []
  },
  {
   "cell_type": "markdown",
   "metadata": {},
   "source": [
    "# Pandas稀疏数据"
   ]
  },
  {
   "cell_type": "code",
   "execution_count": null,
   "metadata": {},
   "outputs": [],
   "source": []
  },
  {
   "cell_type": "code",
   "execution_count": null,
   "metadata": {},
   "outputs": [],
   "source": []
  },
  {
   "cell_type": "code",
   "execution_count": null,
   "metadata": {},
   "outputs": [],
   "source": []
  },
  {
   "cell_type": "code",
   "execution_count": null,
   "metadata": {},
   "outputs": [],
   "source": []
  }
 ],
 "metadata": {
  "kernelspec": {
   "display_name": "Python 3",
   "language": "python",
   "name": "python3"
  },
  "language_info": {
   "codemirror_mode": {
    "name": "ipython",
    "version": 3
   },
   "file_extension": ".py",
   "mimetype": "text/x-python",
   "name": "python",
   "nbconvert_exporter": "python",
   "pygments_lexer": "ipython3",
   "version": "3.6.2"
  },
  "toc": {
   "base_numbering": 1,
   "nav_menu": {},
   "number_sections": true,
   "sideBar": true,
   "skip_h1_title": false,
   "title_cell": "Table of Contents",
   "title_sidebar": "Contents",
   "toc_cell": false,
   "toc_position": {
    "height": "calc(100% - 180px)",
    "left": "10px",
    "top": "150px",
    "width": "416.813px"
   },
   "toc_section_display": true,
   "toc_window_display": true
  }
 },
 "nbformat": 4,
 "nbformat_minor": 2
}
